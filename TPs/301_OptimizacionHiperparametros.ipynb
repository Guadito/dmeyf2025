{
  "nbformat": 4,
  "nbformat_minor": 0,
  "metadata": {
    "colab": {
      "provenance": [],
      "include_colab_link": true
    },
    "kernelspec": {
      "name": "ir",
      "display_name": "R"
    },
    "language_info": {
      "name": "R"
    }
  },
  "cells": [
    {
      "cell_type": "markdown",
      "metadata": {
        "id": "view-in-github",
        "colab_type": "text"
      },
      "source": [
        "<a href=\"https://colab.research.google.com/github/Guadito/dmeyf2025/blob/main/z301_OptimizacionHiperparametros.ipynb\" target=\"_parent\"><img src=\"https://colab.research.google.com/assets/colab-badge.svg\" alt=\"Open In Colab\"/></a>"
      ]
    },
    {
      "cell_type": "markdown",
      "metadata": {
        "id": "5DrvzQ9BsXmX"
      },
      "source": [
        "# 3 Optimización de Hiperpárametros"
      ]
    },
    {
      "cell_type": "markdown",
      "source": [
        "## 3.01 Introduccion\n",
        "En general los algoritmos que generan modelos predictivos poseen hiperparámetros que *dado un dataset* deben ser optimizados.\n",
        "<br> La invocación de uno de esos algoritmos sin hiperparámetros no es más que\n",
        "invocarlos con hiperparámetros por default definidos por el fabricante. Por ejemplo en el caso de la librería **rpart** es cp=0.01, maxdepth=30, minsplit=20, minbucket=6,  lo que en nuestro dataset genera un arbol de un solo nodo (decimos \"no se abre el arbol\"); la razon de esto es la proporcion de \"BAJA+1\" y \"BAJA+2\""
      ],
      "metadata": {
        "id": "ChXVnCOOuqOu"
      }
    },
    {
      "cell_type": "markdown",
      "source": [
        "En el primer notebook de la asignatura usted probó optimizar manualmente los hiperparámetros entrenando en un mes completo y viendo los resultados directamente en el Public Leaderboard, que es una porción de los datos de futuro.\n",
        "<br> En el mundo real no se dispone jamás de la clase del futuro, con lo cual lo anterior es meramente un artifical divertimento.\n",
        "<br> La solución es estimar la bondad de un set de hiperparámetros en alguna combinación de:\n",
        "  * Una sola partición de  <training, testing>\n",
        "  * Multiples particiones de <training, testing>\n",
        "  * El método de  k-fold Cross Validation , generalmente con n>=5\n",
        "  * Utilizar   n-repated  k-fold Cross Validation\n",
        "  * Leave One Out  si la cardinalidad del dataset y el poder de cómputo se lo permiten"
      ],
      "metadata": {
        "id": "kXI3gt3iwNzg"
      }
    },
    {
      "cell_type": "markdown",
      "source": [
        "Luego de comenzar a trabajar con el método de  \"Multiples particiones de <training, testing>  se le invitó a extender un esqueleto de código del método de **Optimización de Hiperparámetros por Grid Search**"
      ],
      "metadata": {
        "id": "Max6K39SxSRc"
      }
    },
    {
      "cell_type": "markdown",
      "source": [
        "## 3.02 Conceptos\n",
        "\n",
        "En esta entrega veremos los siguiente conceptos:\n",
        "* El origen del overfitting en un arbol de decisión\n",
        "* *La maldición del ganador*, overfitting en los hiperparámetros ganadores, Selective Inference\n",
        "* Data Drifting\n",
        "* Alterntivas de búsqueda\n",
        "  * Grid Search, la fuerza bruta\n",
        "  * Bayesian Optimization, la heurística"
      ],
      "metadata": {
        "id": "V0uWfedQ0CgK"
      }
    },
    {
      "cell_type": "markdown",
      "source": [
        "## 3.03  Corrida notebook inicial\n",
        "\n",
        "En el repositorio oficial de la asignatura se encuentra el notebook ./src/rpart/z102_FinalTrain.ipynb  que automaticamente hace el submit a la Competencia Analista Sr  de Kaggle.\n",
        "<br>  Ingrese a un nuevo Google Colab  y pruebe algunas corridas del notebook cambiando los hiperparámetros de rpart"
      ],
      "metadata": {
        "id": "xcdjPTy0_7ud"
      }
    },
    {
      "cell_type": "markdown",
      "source": [
        "## 3.04 Origen del Overfitting en un arbol de decisión\n",
        "¿Qué combinacion de hiperparámetros overfitea un árbol de decisión, para nuestro dataset?\n",
        "<br>¿Cómo se ve el overfitting desde el punto de vista de las curvas de ganancia?"
      ],
      "metadata": {
        "id": "Cv_td2pLawzc"
      }
    },
    {
      "cell_type": "markdown",
      "source": [
        "El objetivo de este capítulo es que usted juegue manualmente con los hiperparámetros de un rpart, observe las curvas de ganancia generadas en una particion <training=50%, testing=50%>  y obtengla conclusiones sobre el fenómeno observado."
      ],
      "metadata": {
        "id": "vyO0nseY5e6M"
      }
    },
    {
      "cell_type": "markdown",
      "source": [
        "Introducimos el concepto de **Curva de Ganancia**\n",
        "<br> Al aplicar un modelo a un dataset se le asigna a cada registro una probabilidad, a su vez cada registro contribuye con una ganancia la que puede ser una pérdida o una ganancia.  \n",
        "<br>Ordenamos el dataset por probabilidad *descendente* y computamos la ganancia acumulada, generando de esta forma la curva de ganancia\n",
        "<br> Para visualizar el efecto del under/over  fitting adecuadamente, realizamos una particion  <training= 50%, testing= 50%>\n",
        "\n"
      ],
      "metadata": {
        "id": "Zyo3JVGn24zE"
      }
    },
    {
      "cell_type": "markdown",
      "source": [
        "tener presente:\n",
        "<br> Overfitting  **NO**  es la diferencia entre las curvas\n",
        "<br> Lo que divide el underfitting del overfitting al aumentar la complejidad del modelo es la complejidad donde se alcanza la métrica máxima."
      ],
      "metadata": {
        "id": "HXVdNC0R4FZe"
      }
    },
    {
      "cell_type": "markdown",
      "source": [
        "### ¿Qué debe hacer usted?\n",
        "Probar al menos estas combinaciones:\n",
        "* **Arbol crecimiento descontrolado**\n",
        "   * cp= -1\n",
        "   * maxdepth= 30\n",
        "   * minsplit= 2\n",
        "   * minbucket= 1\n",
        "* Arbol talla reducida\n",
        "   * cp= -1\n",
        "   * maxdepth= 3\n",
        "   * minsplit= 20000\n",
        "   * minbucket= 10000\n"
      ],
      "metadata": {
        "id": "a1p3BNOU7x_X"
      }
    },
    {
      "cell_type": "markdown",
      "metadata": {
        "id": "3m0ySYPfa7Zr"
      },
      "source": [
        "#### Seteo del ambiente en Google Colab"
      ]
    },
    {
      "cell_type": "markdown",
      "metadata": {
        "id": "NGY7H9xza7Zr"
      },
      "source": [
        "Esta parte se debe correr con el runtime en Python3\n",
        "<br>Ir al menu, Runtime -> Change Runtime Type -> Runtime type ->  **Python 3**"
      ]
    },
    {
      "cell_type": "markdown",
      "metadata": {
        "id": "7PupIBNba7Zr"
      },
      "source": [
        "Conectar la virtual machine donde esta corriendo Google Colab con el  Google Drive, para poder tener persistencia de archivos"
      ]
    },
    {
      "cell_type": "code",
      "execution_count": 1,
      "metadata": {
        "id": "9LpZCst5a7Zs",
        "outputId": "7094ef68-b4d8-4527-ff1b-05d9603945e0",
        "colab": {
          "base_uri": "https://localhost:8080/"
        }
      },
      "outputs": [
        {
          "output_type": "stream",
          "name": "stdout",
          "text": [
            "Mounted at /content/.drive\n"
          ]
        }
      ],
      "source": [
        "# primero establecer el Runtime de Python 3\n",
        "from google.colab import drive\n",
        "drive.mount('/content/.drive')"
      ]
    },
    {
      "cell_type": "markdown",
      "source": [
        "<br>los siguientes comando estan en shell script de Linux\n",
        "*   Crear las carpetas en el Google Drive\n",
        "*   Bajar el  **competencia_01_crudo**  al  Google Drive  y tambien al disco local de la virtual machine que esta corriendo Google Colab\n",
        "\n"
      ],
      "metadata": {
        "id": "ilaKtqWldeWg"
      }
    },
    {
      "cell_type": "code",
      "source": [
        "%%shell\n",
        "\n",
        "mkdir -p \"/content/.drive/My Drive/dmeyf\"\n",
        "mkdir -p \"/content/buckets\"\n",
        "ln -s \"/content/.drive/My Drive/dmeyf\" /content/buckets/b1\n",
        "\n",
        "\n",
        "mkdir -p /content/buckets/b1/exp\n",
        "mkdir -p /content/buckets/b1/datasets\n",
        "mkdir -p /content/datasets\n",
        "\n",
        "\n",
        "\n",
        "archivo_origen=\"https://storage.googleapis.com/open-courses/dmeyf2025-e4a2/competencia_01_crudo.csv\"\n",
        "archivo_destino=\"/content/datasets/competencia_01_crudo.csv\"\n",
        "archivo_destino_bucket=\"/content/buckets/b1/datasets/competencia_01_crudo.csv\"\n",
        "\n",
        "if ! test -f $archivo_destino_bucket; then\n",
        "  wget  $archivo_origen  -O $archivo_destino_bucket\n",
        "fi\n",
        "\n",
        "\n",
        "if ! test -f $archivo_destino; then\n",
        "  cp  $archivo_destino_bucket  $archivo_destino\n",
        "fi\n"
      ],
      "metadata": {
        "id": "W8dQFI5QYCFa",
        "outputId": "7de8d194-6070-4da3-9353-a2718c8c6bc0",
        "colab": {
          "base_uri": "https://localhost:8080/"
        }
      },
      "execution_count": 2,
      "outputs": [
        {
          "output_type": "execute_result",
          "data": {
            "text/plain": []
          },
          "metadata": {},
          "execution_count": 2
        }
      ]
    },
    {
      "cell_type": "markdown",
      "source": [
        "## Generacion de la clase_ternaria"
      ],
      "metadata": {
        "id": "dseB4qb9RqUb"
      }
    },
    {
      "cell_type": "markdown",
      "source": [
        "Esta parte se debe correr con el runtime en lenguaje **R** Ir al menu, Runtime -> Change Runtime Tipe -> Runtime type -> R"
      ],
      "metadata": {
        "id": "LCEnE_02RuIQ"
      }
    },
    {
      "cell_type": "code",
      "source": [
        "require( \"data.table\" )\n",
        "\n",
        "# leo el dataset\n",
        "dataset <- fread(\"/content/datasets/competencia_01.csv.gz\" )\n",
        "\n",
        "# calculo el periodo0 consecutivo\n",
        "dsimple <- dataset[, list(\n",
        "    \"pos\" = .I,\n",
        "    numero_de_cliente,\n",
        "    periodo0 = as.integer(foto_mes/100)*12 +  foto_mes%%100 ) ]\n",
        "\n",
        "\n",
        "# ordeno\n",
        "setorder( dsimple, numero_de_cliente, periodo0 )\n",
        "\n",
        "# calculo topes\n",
        "periodo_ultimo <- dsimple[, max(periodo0) ]\n",
        "periodo_anteultimo <- periodo_ultimo - 1\n",
        "\n",
        "\n",
        "# calculo los leads de orden 1 y 2\n",
        "dsimple[, c(\"periodo1\", \"periodo2\") :=\n",
        "    shift(periodo0, n=1:2, fill=NA, type=\"lead\"),  numero_de_cliente ]\n",
        "\n",
        "# assign most common class values = \"CONTINUA\"\n",
        "dsimple[ periodo0 < periodo_anteultimo, clase_ternaria := \"CONTINUA\" ]\n",
        "\n",
        "# calculo BAJA+1\n",
        "dsimple[ periodo0 < periodo_ultimo &\n",
        "    ( is.na(periodo1) | periodo0 + 1 < periodo1 ),\n",
        "    clase_ternaria := \"BAJA+1\" ]\n",
        "\n",
        "# calculo BAJA+2\n",
        "dsimple[ periodo0 < periodo_anteultimo & (periodo0+1 == periodo1 )\n",
        "    & ( is.na(periodo2) | periodo0 + 2 < periodo2 ),\n",
        "    clase_ternaria := \"BAJA+2\" ]\n",
        "\n",
        "\n",
        "# pego el resultado en el dataset original y grabo\n",
        "setorder( dsimple, pos )\n",
        "dataset[, clase_ternaria := dsimple$clase_ternaria ]\n",
        "\n",
        "fwrite( dataset,\n",
        "    file =  \"/content/datasets/competencia_01.csv.gz\",\n",
        "    sep = \",\"\n",
        ")"
      ],
      "metadata": {
        "id": "P863YZB9R1Ua"
      },
      "execution_count": null,
      "outputs": []
    },
    {
      "cell_type": "code",
      "source": [
        "setorder( dataset, foto_mes, clase_ternaria, numero_de_cliente)\n",
        "dataset[, .N, list(foto_mes, clase_ternaria)]"
      ],
      "metadata": {
        "id": "S3hL7tv8W4rn"
      },
      "execution_count": null,
      "outputs": []
    },
    {
      "cell_type": "markdown",
      "metadata": {
        "id": "JxhSJ-oqb-r6"
      },
      "source": [
        "Esta parte se debe correr con el runtime en lenguaje **R** Ir al menu, Runtime -> Change Runtime Type -> Runtime type -> R"
      ]
    },
    {
      "cell_type": "code",
      "source": [
        "require( \"data.table\" )\n",
        "dataset <- fread(\"/content/datasets/competencia_01.csv.gz\" )"
      ],
      "metadata": {
        "id": "uKPWxVLr-Cd0",
        "outputId": "7bf59d8c-1d7d-4b61-a7e5-666e33bfe2fd",
        "colab": {
          "base_uri": "https://localhost:8080/"
        }
      },
      "execution_count": 1,
      "outputs": [
        {
          "output_type": "stream",
          "name": "stderr",
          "text": [
            "Loading required package: data.table\n",
            "\n"
          ]
        }
      ]
    },
    {
      "cell_type": "markdown",
      "metadata": {
        "id": "ls15rN6Ob-r7"
      },
      "source": [
        "limpio el ambiente de R"
      ]
    },
    {
      "cell_type": "code",
      "execution_count": 2,
      "metadata": {
        "id": "QrRq-FePb-r7",
        "outputId": "94c34793-b553-4ffd-ee16-a95aad834feb",
        "colab": {
          "base_uri": "https://localhost:8080/",
          "height": 129
        }
      },
      "outputs": [
        {
          "output_type": "display_data",
          "data": {
            "text/html": [
              "<table class=\"dataframe\">\n",
              "<caption>A matrix: 2 × 6 of type dbl</caption>\n",
              "<thead>\n",
              "\t<tr><th></th><th scope=col>used</th><th scope=col>(Mb)</th><th scope=col>gc trigger</th><th scope=col>(Mb)</th><th scope=col>max used</th><th scope=col>(Mb)</th></tr>\n",
              "</thead>\n",
              "<tbody>\n",
              "\t<tr><th scope=row>Ncells</th><td> 680007</td><td>36.4</td><td>1454474</td><td>77.7</td><td>1454474</td><td>77.7</td></tr>\n",
              "\t<tr><th scope=row>Vcells</th><td>1263433</td><td> 9.7</td><td>8388608</td><td>64.0</td><td>1975128</td><td>15.1</td></tr>\n",
              "</tbody>\n",
              "</table>\n"
            ],
            "text/markdown": "\nA matrix: 2 × 6 of type dbl\n\n| <!--/--> | used | (Mb) | gc trigger | (Mb) | max used | (Mb) |\n|---|---|---|---|---|---|---|\n| Ncells |  680007 | 36.4 | 1454474 | 77.7 | 1454474 | 77.7 |\n| Vcells | 1263433 |  9.7 | 8388608 | 64.0 | 1975128 | 15.1 |\n\n",
            "text/latex": "A matrix: 2 × 6 of type dbl\n\\begin{tabular}{r|llllll}\n  & used & (Mb) & gc trigger & (Mb) & max used & (Mb)\\\\\n\\hline\n\tNcells &  680007 & 36.4 & 1454474 & 77.7 & 1454474 & 77.7\\\\\n\tVcells & 1263433 &  9.7 & 8388608 & 64.0 & 1975128 & 15.1\\\\\n\\end{tabular}\n",
            "text/plain": [
              "       used    (Mb) gc trigger (Mb) max used (Mb)\n",
              "Ncells  680007 36.4 1454474    77.7 1454474  77.7\n",
              "Vcells 1263433  9.7 8388608    64.0 1975128  15.1"
            ]
          },
          "metadata": {}
        }
      ],
      "source": [
        "# limpio la memoria\n",
        "rm(list=ls(all.names=TRUE)) # remove all objects\n",
        "gc(full=TRUE, verbose=FALSE) # garbage collection"
      ]
    },
    {
      "cell_type": "code",
      "execution_count": 3,
      "metadata": {
        "id": "IIeRpVlZb-r8",
        "outputId": "8c37c554-0def-4402-c07e-3bb6f2467f65",
        "colab": {
          "base_uri": "https://localhost:8080/"
        }
      },
      "outputs": [
        {
          "output_type": "stream",
          "name": "stderr",
          "text": [
            "Loading required package: rpart\n",
            "\n",
            "Loading required package: ggplot2\n",
            "\n"
          ]
        }
      ],
      "source": [
        "# cargo las librerias que necesito\n",
        "require(\"data.table\")\n",
        "require(\"rpart\")\n",
        "require(\"ggplot2\")"
      ]
    },
    {
      "cell_type": "code",
      "source": [
        "if(!require(\"R.utils\")) install.packages(\"R.utils\")\n",
        "require(\"R.utils\")"
      ],
      "metadata": {
        "id": "9umGZpObhFjw",
        "outputId": "2c063432-7ce7-478a-bed3-78c866f97f8a",
        "colab": {
          "base_uri": "https://localhost:8080/"
        }
      },
      "execution_count": 4,
      "outputs": [
        {
          "output_type": "stream",
          "name": "stderr",
          "text": [
            "Loading required package: R.utils\n",
            "\n",
            "Warning message in library(package, lib.loc = lib.loc, character.only = TRUE, logical.return = TRUE, :\n",
            "“there is no package called ‘R.utils’”\n",
            "Installing package into ‘/usr/local/lib/R/site-library’\n",
            "(as ‘lib’ is unspecified)\n",
            "\n",
            "also installing the dependencies ‘R.oo’, ‘R.methodsS3’\n",
            "\n",
            "\n",
            "Loading required package: R.utils\n",
            "\n",
            "Loading required package: R.oo\n",
            "\n",
            "Loading required package: R.methodsS3\n",
            "\n",
            "R.methodsS3 v1.8.2 (2022-06-13 22:00:14 UTC) successfully loaded. See ?R.methodsS3 for help.\n",
            "\n",
            "R.oo v1.27.1 (2025-05-02 21:00:05 UTC) successfully loaded. See ?R.oo for help.\n",
            "\n",
            "\n",
            "Attaching package: ‘R.oo’\n",
            "\n",
            "\n",
            "The following object is masked from ‘package:R.methodsS3’:\n",
            "\n",
            "    throw\n",
            "\n",
            "\n",
            "The following objects are masked from ‘package:methods’:\n",
            "\n",
            "    getClasses, getMethods\n",
            "\n",
            "\n",
            "The following objects are masked from ‘package:base’:\n",
            "\n",
            "    attach, detach, load, save\n",
            "\n",
            "\n",
            "R.utils v2.13.0 (2025-02-24 21:20:02 UTC) successfully loaded. See ?R.utils for help.\n",
            "\n",
            "\n",
            "Attaching package: ‘R.utils’\n",
            "\n",
            "\n",
            "The following object is masked from ‘package:utils’:\n",
            "\n",
            "    timestamp\n",
            "\n",
            "\n",
            "The following objects are masked from ‘package:base’:\n",
            "\n",
            "    cat, commandArgs, getOption, isOpen, nullfile, parse, use, warnings\n",
            "\n",
            "\n"
          ]
        }
      ]
    },
    {
      "cell_type": "code",
      "source": [
        "# carpeta de trabajo\n",
        "setwd(\"/content/buckets/b1/exp\")\n",
        "experimento <- \"exp304_\"\n",
        "dir.create(experimento, showWarnings=FALSE)\n",
        "setwd( paste0(\"/content/buckets/b1/exp/\", experimento ))"
      ],
      "metadata": {
        "id": "3Wb-iYIGb-r8"
      },
      "execution_count": 5,
      "outputs": []
    },
    {
      "cell_type": "markdown",
      "source": [
        "### Acción :  Jugar con  minsplit, minbucket y maxdepth"
      ],
      "metadata": {
        "id": "DjLKeoBHhhNP"
      }
    },
    {
      "cell_type": "code",
      "source": [
        "# cambiar aqui los parametros\n",
        "PARAM <- list()\n",
        "PARAM$semilla_primigenia <- 102191\n",
        "\n",
        "\n",
        "PARAM$minsplit <- 300\n",
        "PARAM$minbucket <- 20\n",
        "PARAM$maxdepth <- 11"
      ],
      "metadata": {
        "id": "b-kYnwWzcRHK"
      },
      "execution_count": null,
      "outputs": []
    },
    {
      "cell_type": "code",
      "source": [
        "# particionar agrega una columna llamada fold a un dataset\n",
        "#   que consiste en una particion estratificada segun agrupa\n",
        "# particionar( data=dataset, division=c(70,30),\n",
        "#  agrupa=clase_ternaria, seed=semilla)   crea una particion 70, 30\n",
        "\n",
        "particionar <- function(data, division, agrupa= \"\", campo= \"fold\", start= 1, seed= NA) {\n",
        "  if (!is.na(seed)) set.seed(seed)\n",
        "\n",
        "  bloque <- unlist(mapply(\n",
        "    function(x, y) {rep(y, x)},division, seq(from= start, length.out= length(division))))\n",
        "\n",
        "  data[, (campo) := sample(rep(bloque,ceiling(.N / length(bloque))))[1:.N],by= agrupa]\n",
        "}\n"
      ],
      "metadata": {
        "id": "ZqrrKQ5xcSvG"
      },
      "execution_count": null,
      "outputs": []
    },
    {
      "cell_type": "code",
      "source": [
        "# lectura del dataset\n",
        "dataset <- fread(\"/content/datasets/competencia_01.csv.gz\")"
      ],
      "metadata": {
        "id": "9pwX8GTacf3Z"
      },
      "execution_count": null,
      "outputs": []
    },
    {
      "cell_type": "code",
      "source": [
        "# a partir de ahora solo trabajo con 202104, el mes que tiene clase\n",
        "\n",
        "dataset <- dataset[foto_mes == 202104] # defino donde voy a entrenar"
      ],
      "metadata": {
        "id": "IaC-Ju2-ch-W"
      },
      "execution_count": null,
      "outputs": []
    },
    {
      "cell_type": "code",
      "source": [
        "# La division training/testing es 50%, 50%\n",
        "#  que sea 50/50 se indica con el c(1,1)\n",
        "\n",
        "particionar(dataset,\n",
        "  division= c(1, 1),\n",
        "  agrupa= \"clase_ternaria\",\n",
        "  seed= PARAM$semilla_primigenia\n",
        ")"
      ],
      "metadata": {
        "id": "eKJeTb1icluu"
      },
      "execution_count": null,
      "outputs": []
    },
    {
      "cell_type": "code",
      "source": [
        "# cargo las librerias que necesito\n",
        "require(\"data.table\")\n",
        "require(\"rpart\")\n",
        "require(\"ggplot2\")"
      ],
      "metadata": {
        "id": "FjkYwudlA9Jk"
      },
      "execution_count": 13,
      "outputs": []
    },
    {
      "cell_type": "code",
      "source": [],
      "metadata": {
        "id": "GXwt8wH7_a98"
      },
      "execution_count": 21,
      "outputs": []
    },
    {
      "cell_type": "code",
      "source": [],
      "metadata": {
        "id": "IvXnoM7NBlzT"
      },
      "execution_count": 22,
      "outputs": []
    },
    {
      "cell_type": "code",
      "source": [
        "# Entreno el modelo\n",
        "# los datos donde voy a entrenar\n",
        "# aqui es donde se deben probar distintos hiperparametros\n",
        "\n",
        "modelo <- rpart(\n",
        "  formula= \"clase_ternaria ~ . -fold\",\n",
        "  data= dataset[fold == 1, ],\n",
        "  xval= 0,\n",
        "  cp= -1,\n",
        "  minsplit= PARAM$minsplit,\n",
        "  minbucket= PARAM$minbucket,\n",
        "  maxdepth= PARAM$maxdepth\n",
        ")"
      ],
      "metadata": {
        "id": "v5Fuek3mc1Qx"
      },
      "execution_count": null,
      "outputs": []
    },
    {
      "cell_type": "code",
      "source": [
        "# aplico el modelo a TODOS los datos, inclusive los de training\n",
        "prediccion <- predict(modelo, dataset, type= \"prob\")"
      ],
      "metadata": {
        "id": "zjFQmTkFdGn8"
      },
      "execution_count": null,
      "outputs": []
    },
    {
      "cell_type": "code",
      "source": [
        "# Pego la probabilidad de  BAJA+2\n",
        "tb_prediccion <- dataset[, list(fold,clase_ternaria)]\n",
        "tb_prediccion[, prob_baja2 := prediccion[, \"BAJA+2\"]]"
      ],
      "metadata": {
        "id": "wxsRJ6-ldKMF"
      },
      "execution_count": null,
      "outputs": []
    },
    {
      "cell_type": "code",
      "source": [
        "# Dibujo la curva de ganancia acumulada\n",
        "setorder(tb_prediccion, fold, -prob_baja2)"
      ],
      "metadata": {
        "id": "CFPDDXxrdbHv"
      },
      "execution_count": null,
      "outputs": []
    },
    {
      "cell_type": "code",
      "source": [
        "# agrego una columna que es la de las ganancias\n",
        "# la multiplico por 2 para que ya este normalizada\n",
        "#  es 2 porque cada fold es el 50%\n",
        "\n",
        "tb_prediccion[, gan := 2 *ifelse(clase_ternaria == \"BAJA+2\", 780000, -20000)]\n",
        "tb_prediccion[, ganancia_acumulada := cumsum(gan), by= fold]\n",
        "tb_prediccion[, pos := sequence(.N), by= fold]"
      ],
      "metadata": {
        "id": "bUPJACeXdoDM"
      },
      "execution_count": null,
      "outputs": []
    },
    {
      "cell_type": "code",
      "source": [
        "tb_prediccion"
      ],
      "metadata": {
        "id": "mNdaJEmMe5gg"
      },
      "execution_count": null,
      "outputs": []
    },
    {
      "cell_type": "code",
      "source": [
        "# agrego una columna que es la de las ganancias\n",
        "# la multiplico por 2 para que ya este normalizada\n",
        "#  es 2 porque cada fold es el 50%\n",
        "\n",
        "tb_prediccion[, gan := 2 *ifelse(clase_ternaria == \"BAJA+2\", 780000, -20000)]\n",
        "tb_prediccion[, ganancia_acumulada := cumsum(gan), by= fold]\n",
        "tb_prediccion[, pos := sequence(.N), by= fold]"
      ],
      "metadata": {
        "id": "687CCwPMfaDt"
      },
      "execution_count": null,
      "outputs": []
    },
    {
      "cell_type": "code",
      "source": [
        "# defino hasta donde muestra el grafico\n",
        "amostrar <- 20000"
      ],
      "metadata": {
        "id": "Gnzpijujfi8X"
      },
      "execution_count": null,
      "outputs": []
    },
    {
      "cell_type": "code",
      "source": [
        "# Esta hermosa curva muestra como en el mentiroso training\n",
        "#   la ganancia es siempre mejor que en el real testing\n",
        "\n",
        "options( repr.plot.width=10, repr.plot.height=10)\n",
        "\n",
        "gra <- ggplot(\n",
        "           data= tb_prediccion[pos <= amostrar],\n",
        "           aes( x= pos, y= ganancia_acumulada,\n",
        "                color= ifelse(fold == 1, \"train\", \"test\") )\n",
        "             ) + geom_line()\n",
        "\n",
        "gra <- gra + theme(text = element_text(size = 16))\n",
        "\n",
        "options(repr.plot.width=16, repr.plot.height=9)\n",
        "print( gra )\n"
      ],
      "metadata": {
        "id": "YCTWdnn5c-T8"
      },
      "execution_count": null,
      "outputs": []
    },
    {
      "cell_type": "code",
      "source": [
        "# veo los resultados\n",
        "\n",
        "print(PARAM)\n",
        "cat( \"Train gan max: \", tb_prediccion[fold==1, max(ganancia_acumulada)], \"\\n\" )\n",
        "cat( \"Test  gan max: \", tb_prediccion[fold==2, max(ganancia_acumulada)], \"\\n\" )\n"
      ],
      "metadata": {
        "id": "pCXOZ8bVfnsG"
      },
      "execution_count": null,
      "outputs": []
    },
    {
      "cell_type": "markdown",
      "source": [
        "## 3.05 Análisis de la salida de Grid Search\n",
        "\n",
        "En clase utilizando un enfoque constructivista de educacion cada una de las mesas del aula analizará las salidas de las corridas de Grid Search de la Tarea para el Hogar.\n",
        "<br>Se espera que quienes ya trabajan como Data Analyst se luzcan en el análisis de esos datos\n",
        "<br>Finalmente se utilizara un *arma conceptual secreta*, iluminando elegantemente donde están las mayores ganancias.\n",
        "\n",
        "<br><br>Si debido a los avatares de la vida adulta usted no tuvo la oportunidad de generar sus propias corridas de Grid Search, con el propósito que pueda participar de la Clase 03 esta cátedra pone a su diposición la siguiente salida https://storage.googleapis.com/open-courses/dmeyf2025-e4a2/gridsearch.txt   que estará recién disponible una hora antes de la clase"
      ],
      "metadata": {
        "id": "BPZj2gpfvvSC"
      }
    },
    {
      "cell_type": "markdown",
      "source": [
        "## 3.06 La Maldición del Ganador"
      ],
      "metadata": {
        "id": "xyHuVU4wK0Xh"
      }
    },
    {
      "cell_type": "markdown",
      "source": [
        "¿Los hiperparámetros ganadores de toda la cohorte, estan overfiteando?\n",
        "<br> Trabajaremos con la hoja **C3-GS Overfitting** de la Google Sheet Colaborativa\n",
        "<br> Determinar de toda la cohorte quien obtuvo la mayor ganancia y con qué hiperparámetros\n",
        "<br> copiarlos  a la hoja **C3-GS Overfitting**\n",
        "<br> Quien obtuvo esa ganancia no debe hacer nada\n",
        "<br> El resto de la cohorte, modifica su script de Grid Search para calcular la ganancia de dichos hiperparámetros ganadores  utilizando su Semilla Primigenia y registra la ganancia en la linea correspondiente a su nombre en la hoja C3-GS Overfitting"
      ],
      "metadata": {
        "id": "olG0m0HQK4Ly"
      }
    },
    {
      "cell_type": "markdown",
      "source": [
        "¿ Como compara la ganancia del ganador versus el resto de las ganancias recién calculadas ?"
      ],
      "metadata": {
        "id": "ch9ilhfJMFhs"
      }
    },
    {
      "cell_type": "markdown",
      "source": [
        "#### Bibliografia"
      ],
      "metadata": {
        "id": "SDTdFtJzPdCR"
      }
    },
    {
      "cell_type": "markdown",
      "source": [
        "* Selective Inference - the silent killer of replicability   https://www.youtube.com/watch?v=6ZxIzVjV1DE\n",
        "* Ioannidis, J. P. A. Why most published research findings are false. PLoS Med. 2, e124 (2005). https://journals.plos.org/plosmedicine/article/file?id=10.1371/journal.pmed.0020124&type=printable"
      ],
      "metadata": {
        "id": "OtOkVKZ9PfY0"
      }
    },
    {
      "cell_type": "markdown",
      "metadata": {
        "id": "LBl_eIeO7WuM"
      },
      "source": [
        "\n",
        "\n",
        "---\n",
        "\n"
      ]
    },
    {
      "cell_type": "markdown",
      "source": [
        "## 3.07 Bayesian Optimization"
      ],
      "metadata": {
        "id": "5cZrnAixV3gT"
      }
    },
    {
      "cell_type": "markdown",
      "source": [
        "Se explicará en clase como a partir del Grid Search se deriva el algoritmo de Bayesian Optimization"
      ],
      "metadata": {
        "id": "jRnL1RAGWTKy"
      }
    },
    {
      "cell_type": "markdown",
      "metadata": {
        "id": "UMr6Z1enOyd3"
      },
      "source": [
        "\n",
        "\n",
        "---\n",
        "\n"
      ]
    },
    {
      "cell_type": "markdown",
      "source": [
        "## 3.08 Bayesian Optimization código"
      ],
      "metadata": {
        "id": "khI14CLoWfCK"
      }
    },
    {
      "cell_type": "markdown",
      "metadata": {
        "id": "Pb0kVc82WnwU"
      },
      "source": [
        "Esta parte se debe correr con el runtime en lenguaje **R** Ir al menu, Runtime -> Change Runtime Type -> Runtime type -> R"
      ]
    },
    {
      "cell_type": "markdown",
      "metadata": {
        "id": "R1yj6LSBWnwU"
      },
      "source": [
        "limpio el ambiente de R"
      ]
    },
    {
      "cell_type": "code",
      "execution_count": null,
      "metadata": {
        "id": "THfA4LSjWnwU"
      },
      "outputs": [],
      "source": [
        "# limpio la memoria\n",
        "rm(list=ls(all.names=TRUE)) # remove all objects\n",
        "gc(full=TRUE, verbose=FALSE) # garbage collection"
      ]
    },
    {
      "cell_type": "markdown",
      "metadata": {
        "id": "JpzI9HIJWnwV"
      },
      "source": [
        "* Instalacion de la libreria  rpart.plot  para dibujar el arbol\n",
        "* invocacion de las librerias  **data.table** y  **rpart**"
      ]
    },
    {
      "cell_type": "code",
      "execution_count": null,
      "metadata": {
        "id": "zeCTdZGyWnwV"
      },
      "outputs": [],
      "source": [
        "# cargo las librerias que necesito\n",
        "require(\"data.table\")\n",
        "require(\"rpart\")\n",
        "require(\"parallel\")"
      ]
    },
    {
      "cell_type": "code",
      "source": [
        "if( ! require(\"rlist\") ) install.packages(\"rlist\")\n",
        "require(\"rlist\")"
      ],
      "metadata": {
        "id": "MjmheQDhkI9x"
      },
      "execution_count": null,
      "outputs": []
    },
    {
      "cell_type": "code",
      "source": [
        "if(!require(\"R.utils\")) install.packages(\"R.utils\")\n",
        "require(\"R.utils\")"
      ],
      "metadata": {
        "id": "XfcV2OFwv6XV"
      },
      "execution_count": null,
      "outputs": []
    },
    {
      "cell_type": "code",
      "source": [
        "# paquete necesarios para la Bayesian Optimization\n",
        "if( !require(\"DiceKriging\") ) install.packages(\"DiceKriging\")\n",
        "require(\"DiceKriging\")"
      ],
      "metadata": {
        "id": "CzTjEz__kOrf"
      },
      "execution_count": null,
      "outputs": []
    },
    {
      "cell_type": "code",
      "source": [
        "# paquete necesarios para la Bayesian Optimization\n",
        "if( !require(\"mlrMBO\") ) install.packages(\"mlrMBO\")\n",
        "require(\"mlrMBO\")"
      ],
      "metadata": {
        "id": "0irLrQDkkdPl"
      },
      "execution_count": null,
      "outputs": []
    },
    {
      "cell_type": "markdown",
      "source": [
        "Accion a realizar : cambiar por su semilla primigenia"
      ],
      "metadata": {
        "id": "0h5tn-8QL1YA"
      }
    },
    {
      "cell_type": "code",
      "source": [
        "# Defino parametros\n",
        "PARAM <- list()\n",
        "\n",
        "PARAM$semilla_primigenia <- 102191\n",
        "PARAM$experimento <- \"HT308\"\n",
        "\n",
        "PARAM$BO_iter <- 40 # cantidad de iteraciones de la Bayesian Optimization\n",
        "\n",
        "# la letra L al final de 1L significa ENTERO\n",
        "PARAM$hs <- makeParamSet(\n",
        "    makeNumericParam(\"cp\", lower= -1, upper= 0.1),\n",
        "    makeIntegerParam(\"minsplit\", lower= 1L, upper= 8000L),\n",
        "    makeIntegerParam(\"minbucket\", lower= 1L, upper= 4000L),\n",
        "    makeIntegerParam(\"maxdepth\", lower= 3L, upper= 20L),\n",
        "    forbidden= quote(minbucket > 0.5 * minsplit)\n",
        ")\n",
        "# minbuket NO PUEDE ser mayor que la mitad de minsplit\n",
        "\n"
      ],
      "metadata": {
        "id": "rFmJWC1nlCaA"
      },
      "execution_count": null,
      "outputs": []
    },
    {
      "cell_type": "code",
      "source": [
        "# carpeta de trabajo\n",
        "setwd(\"/content/buckets/b1/exp\")\n",
        "dir.create(PARAM$experimento, showWarnings=FALSE)\n",
        "setwd( paste0(\"/content/buckets/b1/exp/\", PARAM$experimento ))"
      ],
      "metadata": {
        "id": "xUuITlXAOp-2"
      },
      "execution_count": null,
      "outputs": []
    },
    {
      "cell_type": "code",
      "source": [
        "particionar <- function(data, division, agrupa = \"\", campo = \"fold\",\n",
        "                        start = 1, seed = NA) {\n",
        "  if (!is.na(seed)) set.seed(seed)\n",
        "\n",
        "  bloque <- unlist(mapply(\n",
        "    function(x, y) {\n",
        "      rep(y, x)\n",
        "    }, division,\n",
        "    seq(from= start, length.out= length(division))\n",
        "  ))\n",
        "\n",
        "  data[, (campo) := sample(rep(bloque, ceiling(.N / length(bloque))))[1:.N],\n",
        "    by= agrupa\n",
        "  ]\n",
        "}\n"
      ],
      "metadata": {
        "id": "0AWMWd5dlHqk"
      },
      "execution_count": null,
      "outputs": []
    },
    {
      "cell_type": "code",
      "source": [
        "# fold_test  tiene el numero de fold que voy a usar para testear,\n",
        "#  entreno en el resto de los folds\n",
        "# param tiene los hiperparametros del arbol\n",
        "\n",
        "ArbolSimple <- function(fold_test, param_rpart) {\n",
        "  # genero el modelo\n",
        "  # entreno en todo MENOS el fold_test que uso para testing\n",
        "  modelo <- rpart(\"clase_ternaria ~ .\",\n",
        "    data= dataset[fold != fold_test, ],\n",
        "    xval= 0,\n",
        "    control= param_rpart\n",
        "  )\n",
        "\n",
        "  # aplico el modelo a los datos de testing\n",
        "  # aplico el modelo sobre los datos de testing\n",
        "  # quiero que me devuelva probabilidades\n",
        "  prediccion <- predict(modelo,\n",
        "    dataset[fold == fold_test, ],\n",
        "    type= \"prob\"\n",
        "  )\n",
        "\n",
        "  # esta es la probabilidad de baja\n",
        "  prob_baja2 <- prediccion[, \"BAJA+2\"]\n",
        "\n",
        "  # calculo la ganancia\n",
        "  ganancia_testing <- dataset[fold == fold_test][\n",
        "    prob_baja2 > 1 / 40,\n",
        "    sum(ifelse(clase_ternaria == \"BAJA+2\",\n",
        "      780000, -20000\n",
        "    ))\n",
        "  ]\n",
        "\n",
        "  # esta es la ganancia sobre el fold de testing, NO esta normalizada\n",
        "  return(ganancia_testing)\n",
        "}\n"
      ],
      "metadata": {
        "id": "Bij2dW0ElKZ8"
      },
      "execution_count": null,
      "outputs": []
    },
    {
      "cell_type": "code",
      "source": [
        "ArbolesCrossValidation <- function(param_rpart, qfolds, pagrupa, semilla) {\n",
        "  # generalmente  c(1, 1, 1, 1, 1 )  cinco unos\n",
        "  divi <- rep(1, qfolds)\n",
        "\n",
        "  # particiono en dataset en folds\n",
        "  particionar(dataset, divi, seed= semilla, agrupa= pagrupa)\n",
        "\n",
        "  ganancias <- mcmapply(ArbolSimple,\n",
        "    seq(qfolds), # 1 2 3 4 5\n",
        "    MoreArgs= list(param_rpart),\n",
        "    SIMPLIFY= FALSE,\n",
        "    mc.cores= detectCores()\n",
        "  )\n",
        "\n",
        "  dataset[, fold := NULL]\n",
        "\n",
        "  # devuelvo la primer ganancia y el promedio\n",
        "  # promedio las ganancias\n",
        "  ganancia_promedio <- mean(unlist(ganancias))\n",
        "  # aqui normalizo la ganancia\n",
        "  ganancia_promedio_normalizada <- ganancia_promedio * qfolds\n",
        "\n",
        "  return(ganancia_promedio_normalizada)\n",
        "}\n"
      ],
      "metadata": {
        "id": "1PoSYV0NlQq7"
      },
      "execution_count": null,
      "outputs": []
    },
    {
      "cell_type": "code",
      "source": [
        "# esta funcion solo puede recibir los parametros que se estan optimizando\n",
        "# el resto de los parametros, lamentablemente se pasan como variables globales\n",
        "\n",
        "EstimarGanancia <- function(x) {\n",
        "  message(format(Sys.time(), \"%a %b %d %X %Y\"))\n",
        "  GLOBAL_iteracion <<- GLOBAL_iteracion + 1\n",
        "\n",
        "  xval_folds <- 5\n",
        "  # param= x los hiperparametros del arbol\n",
        "  # qfolds= xval_folds  la cantidad de folds\n",
        "  ganancia <- ArbolesCrossValidation(\n",
        "    param_rpart= x,\n",
        "    qfolds= xval_folds,\n",
        "    pagrupa= \"clase_ternaria\",\n",
        "    semilla= PARAM$semilla_primigenia\n",
        "  )\n",
        "\n",
        "  return(ganancia)\n",
        "}\n"
      ],
      "metadata": {
        "id": "wWVKBCNilUxE"
      },
      "execution_count": null,
      "outputs": []
    },
    {
      "cell_type": "code",
      "source": [
        "# leo el dataset\n",
        "dataset <- fread(\"/content/datasets/competencia_01.csv.gz\")"
      ],
      "metadata": {
        "id": "IALv-toylgt0"
      },
      "execution_count": null,
      "outputs": []
    },
    {
      "cell_type": "code",
      "source": [
        "dataset <- dataset[foto_mes==202104]"
      ],
      "metadata": {
        "id": "sSygIfLg0Hxf"
      },
      "execution_count": null,
      "outputs": []
    },
    {
      "cell_type": "code",
      "source": [
        "\n",
        "archivo_log <- \"BO_log.txt\"\n",
        "archivo_BO <- \"bayesian.RDATA\"\n",
        "\n",
        "# leo si ya existe el log\n",
        "#  para retomar en caso que se se corte el programa\n",
        "GLOBAL_iteracion <- 0\n",
        "GLOBAL_mejor <- -Inf\n",
        "\n",
        "if (file.exists(archivo_log)) {\n",
        "  tabla_log <- fread(archivo_log)\n",
        "  GLOBAL_iteracion <- nrow(tabla_log)\n",
        "  GLOBAL_mejor <- tabla_log[, max(y)]\n",
        "}\n",
        "\n"
      ],
      "metadata": {
        "id": "l-0H-PQ9lzJ-"
      },
      "execution_count": null,
      "outputs": []
    },
    {
      "cell_type": "code",
      "source": [
        "\n",
        "# Aqui comienza la configuracion de la Bayesian Optimization\n",
        "\n",
        "funcion_optimizar <- EstimarGanancia\n",
        "\n",
        "configureMlr(show.learner.output= FALSE)\n",
        "\n",
        "# configuro la busqueda bayesiana,\n",
        "#  los hiperparametros que se van a optimizar\n",
        "# por favor, no desesperarse por lo complejo\n",
        "# minimize= FALSE estoy Maximizando la ganancia\n",
        "obj.fun <- makeSingleObjectiveFunction(\n",
        "  fn= funcion_optimizar,\n",
        "  minimize= FALSE,\n",
        "  noisy= TRUE,\n",
        "  par.set= PARAM$hs,\n",
        "  has.simple.signature= FALSE\n",
        ")\n",
        "\n",
        "ctrl <- makeMBOControl(\n",
        "  save.on.disk.at.time= 600,\n",
        "  save.file.path= archivo_BO\n",
        ")\n",
        "\n",
        "ctrl <- setMBOControlTermination(ctrl, iters= PARAM$BO_iter)\n",
        "ctrl <- setMBOControlInfill(ctrl, crit= makeMBOInfillCritEI())\n",
        "\n",
        "surr.km <- makeLearner(\"regr.km\",\n",
        "  predict.type= \"se\",\n",
        "  covtype= \"matern3_2\", control= list(trace= TRUE)\n",
        ")\n"
      ],
      "metadata": {
        "id": "HseppAV1l1bF"
      },
      "execution_count": null,
      "outputs": []
    },
    {
      "cell_type": "code",
      "source": [
        "\n",
        "# inicio la optimizacion bayesiana\n",
        "if (!file.exists(archivo_BO)) {\n",
        "  bayesiana_salida <- mbo(\n",
        "    fun= obj.fun,\n",
        "    learner= surr.km,\n",
        "    control= ctrl\n",
        "  )\n",
        "} else {\n",
        "  bayesiana_salida <- mboContinue(archivo_BO)\n",
        "}\n",
        "# retomo en caso que ya exista\n"
      ],
      "metadata": {
        "id": "TAr8HSCLl5p7"
      },
      "execution_count": null,
      "outputs": []
    },
    {
      "cell_type": "code",
      "source": [
        "# almaceno los resultados de la Bayesian Optimization\n",
        "# y capturo los mejores hiperparametros encontrados\n",
        "\n",
        "tb_bayesiana <- as.data.table(bayesiana_salida$opt.path)\n",
        "\n",
        "# ordeno en forma descendente por AUC = y\n",
        "setorder(tb_bayesiana, -y)\n",
        "\n",
        "# grabo para eventualmente poder utilizarlos en OTRA corrida\n",
        "fwrite( tb_bayesiana,\n",
        "  file= \"BO_log.txt\",\n",
        "  sep= \"\\t\"\n",
        ")\n",
        "\n",
        "# los mejores hiperparámetros son los que quedaron en el registro 1 de la tabla\n",
        "PARAM$out$lgbm$mejores_hiperparametros <- tb_bayesiana[\n",
        "  1, # el primero es el de mejor AUC\n",
        "  list(cp, minsplit, minbucket, maxdepth)\n",
        "]\n",
        "\n",
        "print(PARAM$out$lgbm$mejores_hiperparametros)"
      ],
      "metadata": {
        "id": "3Yknt3FgoPM4"
      },
      "execution_count": null,
      "outputs": []
    },
    {
      "cell_type": "code",
      "source": [
        "format(Sys.time(), \"%a %b %d %X %Y\")"
      ],
      "metadata": {
        "id": "0-iLm04FMWPR"
      },
      "execution_count": null,
      "outputs": []
    },
    {
      "cell_type": "markdown",
      "metadata": {
        "id": "1nUDGTieOym3"
      },
      "source": [
        "\n",
        "\n",
        "---\n",
        "\n"
      ]
    },
    {
      "cell_type": "code",
      "source": [
        "require( \"data.table\" )\n",
        "dataset <- fread(\"/content/buckets/b1/dmeyf/exp/HT2902/gridsearch_detalle.txt\" )"
      ],
      "metadata": {
        "id": "P4UWUfzR_suk"
      },
      "execution_count": 9,
      "outputs": []
    },
    {
      "cell_type": "code",
      "source": [
        "if (!require(\"rpart.plot\")) install.packages(\"rpart.plot\")\n",
        "require(\"rpart.plot\")"
      ],
      "metadata": {
        "id": "o7CbLa0NGS1i"
      },
      "execution_count": null,
      "outputs": []
    },
    {
      "cell_type": "code",
      "source": [
        "modelo <- rpart(\n",
        "  formula = ganancia_test ~ .,\n",
        "  data = dataset\n",
        ")"
      ],
      "metadata": {
        "id": "l-PEFynFGNuq"
      },
      "execution_count": null,
      "outputs": []
    },
    {
      "cell_type": "code",
      "source": [
        "rpart.plot::prp(modelo)"
      ],
      "metadata": {
        "id": "8gRTUmZfBqPK",
        "outputId": "c26a3aba-6bbc-4e4e-a3b2-a5787a467c90",
        "colab": {
          "base_uri": "https://localhost:8080/",
          "height": 437
        }
      },
      "execution_count": 23,
      "outputs": [
        {
          "output_type": "display_data",
          "data": {
            "text/plain": [
              "plot without title"
            ],
            "image/png": "[encoded data removed]"
          },
          "metadata": {
            "image/png": {
              "width": 420,
              "height": 420
            }
          }
        }
      ]
    }
  ]
}
