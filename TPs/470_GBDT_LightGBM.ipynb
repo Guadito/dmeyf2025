{
  "nbformat": 4,
  "nbformat_minor": 0,
  "metadata": {
    "colab": {
      "provenance": [],
      "toc_visible": true
    },
    "kernelspec": {
      "name": "ir",
      "display_name": "R"
    },
    "language_info": {
      "name": "R"
    }
  },
  "cells": [
    {
      "cell_type": "markdown",
      "source": [
        "# 4. Ensembles de Arboles de Decision"
      ],
      "metadata": {
        "id": "O94qX1svwzoC"
      }
    },
    {
      "cell_type": "markdown",
      "source": [
        "## 4.06 GBDT LightGBM"
      ],
      "metadata": {
        "id": "HsJFTcBZw1bE"
      }
    },
    {
      "cell_type": "markdown",
      "source": [
        "La técnica de Gradient Boosting fue creada por Jerome H. Friedman en 1999 - 2001\n",
        "<br>Se implementaron librerías ineficientes\n",
        "<br>En 2016 se crea XGBoost, en 2017 LightGBM\n",
        "\n",
        "\n"
      ],
      "metadata": {
        "id": "nsgvDbemw9Tc"
      }
    },
    {
      "cell_type": "markdown",
      "source": [
        "Paper original de  Gradient Boosting\n",
        "\n",
        "\n",
        "Friedman JH. Greedy function approximation: A gradient\n",
        "boosting machine. Ann Stat. 2001;29(5):1189–232. https://\n",
        "doi.org/10.1214/aos/1013203451.\n",
        "<br>\n",
        "https://projecteuclid.org/journals/annals-of-statistics/volume-29/issue-5/Greedy-function-approximation-A-gradient-boosting-machine/10.1214/aos/1013203451.pdf"
      ],
      "metadata": {
        "id": "1o-6jjy0Yedk"
      }
    },
    {
      "cell_type": "markdown",
      "source": [
        "Paper XGBoost\n",
        "\n",
        "Chen, T.; Guestrin, C. Xgboost: A scalable tree boosting system. In Proceedings of the 22nd ACM Sigkdd International Conference on Knowledge Discovery and Data Mining, San Francisco, CA, USA, 13–17 August 2016; pp. 785–794.\n",
        "\n",
        "https://dl.acm.org/doi/pdf/10.1145/2939672.2939785"
      ],
      "metadata": {
        "id": "14MlfCxMZWIc"
      }
    },
    {
      "cell_type": "markdown",
      "source": [
        "Paper  LightGBM\n",
        "\n",
        "Ke G., Meng Q., Finley T., Wang T., Chen W., Ma W., et al.\n",
        "Lightgbm: A highly efficient gradient boosting decision tree\n",
        "Advances in Neural Information Processing Systems, 30 (2017)\n",
        "\n",
        "https://proceedings.neurips.cc/paper/2017/file/6449f44a102fde848669bdd9eb6b76fa-Paper.pdf"
      ],
      "metadata": {
        "id": "IDk5edloZpBI"
      }
    },
    {
      "cell_type": "markdown",
      "source": [
        "Videos \"simplificados\" :\n",
        "*  https://www.youtube.com/watch?v=3CC4N4z3GJc\n",
        "*  https://www.youtube.com/watch?v=2xudPOBz-vs\n",
        "*  https://www.youtube.com/watch?v=jxuNLH5dXCs\n",
        "*  https://www.youtube.com/watch?v=StWY5QWMXCw"
      ],
      "metadata": {
        "id": "ZMyXpQyJaCsP"
      }
    },
    {
      "cell_type": "markdown",
      "source": [
        "Artículos ligeros:\n",
        "*  https://machinelearningmastery.com/gentle-introduction-gradient-boosting-algorithm-machine-learning/\n",
        "*   https://www.machinelearningplus.com/machine-learning/an-introduction-to-gradient-boosting-decision-trees/\n",
        "*   https://medium.com/@ruchi.awasthi63/gradient-boosted-decision-tree-clearly-explained-bd1d8c7d9923\n",
        "*   https://medium.com/data-science/a-visual-understanding-of-decision-trees-and-gradient-boosting-c6bc53f982ce\n",
        "*   https://medium.com/analytics-vidhya/introduction-to-the-gradient-boosting-algorithm-c25c653f826b\n",
        "*   https://medium.com/@datasciencewizards/understanding-the-gradient-boosting-algorithm-9fe698a352ad"
      ],
      "metadata": {
        "id": "Eyffb3AAahth"
      }
    },
    {
      "cell_type": "markdown",
      "source": [
        "El Gradient Boosting of Decision Trees es un ensemble de árboles de decisión, para un nuevo registro la predicción se hace sumando el score que cada arbol asigna a ese registro.\n",
        "\n",
        "En GBDT la construccion de los árboles es secuencial, ya que el arbol n-simo se genera para predecir el error del modelo conformado por los n-1 arboles previos, aunque sea un arbol de clasificación lo que se predice es un numero real mediante un arbol de regresión."
      ],
      "metadata": {
        "id": "0YOyfUaESdsX"
      }
    },
    {
      "cell_type": "markdown",
      "source": [
        "<br>Qué tipo de perturbaciones se realiza LightGBM\n",
        "\n",
        "*   Se perturba el dataset, seleccionando para cada arbol un subconjunto de las columnas.\n",
        "*   El algortimo de arbol de decisión no presenta perturbaciones"
      ],
      "metadata": {
        "id": "nF6XblBIYnY6"
      }
    },
    {
      "cell_type": "markdown",
      "source": [
        "Cada arbolito de LightGBM se entrena sobre un dataset perturbado, que en principio posee :\n",
        "* todos los registros del dataset original\n",
        "* solo un porcentaje *feature_fraction* de las columnas originales del dataset"
      ],
      "metadata": {
        "id": "j75A--Tsx2df"
      }
    },
    {
      "cell_type": "markdown",
      "source": [
        "#### 4.06.1  Seteo del ambiente en Google Colab"
      ],
      "metadata": {
        "id": "PX0qg_c0yqob"
      }
    },
    {
      "cell_type": "markdown",
      "metadata": {
        "id": "NGY7H9xza7Zr"
      },
      "source": [
        "Esta parte se debe correr con el runtime en Python3\n",
        "<br>Ir al menu, Runtime -> Change Runtime Type -> Runtime type ->  **Python 3**"
      ]
    },
    {
      "cell_type": "markdown",
      "metadata": {
        "id": "7PupIBNba7Zr"
      },
      "source": [
        "Conectar la virtual machine donde esta corriendo Google Colab con el  Google Drive, para poder tener persistencia de archivos"
      ]
    },
    {
      "cell_type": "code",
      "execution_count": 1,
      "metadata": {
        "id": "9LpZCst5a7Zs",
        "outputId": "62da6f35-530f-4c82-882f-a74fce924beb",
        "colab": {
          "base_uri": "https://localhost:8080/"
        }
      },
      "outputs": [
        {
          "output_type": "stream",
          "name": "stdout",
          "text": [
            "Mounted at /content/.drive\n"
          ]
        }
      ],
      "source": [
        "# primero establecer el Runtime de Python 3\n",
        "from google.colab import drive\n",
        "drive.mount('/content/.drive')"
      ]
    },
    {
      "cell_type": "markdown",
      "metadata": {
        "id": "JYC_F-wla7Zs"
      },
      "source": [
        "<br>los siguientes comando estan en shell script de Linux\n",
        "*   Crear las carpetas en el Google Drive\n",
        "*   Bajar el  **competencia_01_crudo**  al  Google Drive  y tambien al disco local de la virtual machine que esta corriendo Google Colab"
      ]
    },
    {
      "cell_type": "code",
      "execution_count": 2,
      "metadata": {
        "id": "XWLelftXa7Zt",
        "outputId": "cf35c1ba-714d-4aa0-8799-ac632010074a",
        "colab": {
          "base_uri": "https://localhost:8080/"
        }
      },
      "outputs": [
        {
          "output_type": "execute_result",
          "data": {
            "text/plain": []
          },
          "metadata": {},
          "execution_count": 2
        }
      ],
      "source": [
        "%%shell\n",
        "\n",
        "mkdir -p \"/content/.drive/My Drive/dmeyf\"\n",
        "mkdir -p \"/content/buckets\"\n",
        "ln -s \"/content/.drive/My Drive/dmeyf\" /content/buckets/b1\n",
        "\n",
        "\n",
        "mkdir -p /content/buckets/b1/exp\n",
        "mkdir -p /content/buckets/b1/datasets\n",
        "mkdir -p /content/datasets\n",
        "\n",
        "\n",
        "\n",
        "archivo_origen=\"https://storage.googleapis.com/open-courses/dmeyf2025-e4a2/competencia_01_crudo.csv\"\n",
        "archivo_destino=\"/content/datasets/competencia_01_crudo.csv\"\n",
        "archivo_destino_bucket=\"/content/buckets/b1/datasets/competencia_01_crudo.csv\"\n",
        "\n",
        "if ! test -f $archivo_destino_bucket; then\n",
        "  wget  $archivo_origen  -O $archivo_destino_bucket\n",
        "fi\n",
        "\n",
        "\n",
        "if ! test -f $archivo_destino; then\n",
        "  cp  $archivo_destino_bucket  $archivo_destino\n",
        "fi\n"
      ]
    },
    {
      "cell_type": "markdown",
      "source": [
        "## Generacion de la clase_ternaria"
      ],
      "metadata": {
        "id": "dseB4qb9RqUb"
      }
    },
    {
      "cell_type": "markdown",
      "source": [
        "Esta parte se debe correr con el runtime en lenguaje **R** Ir al menu, Runtime -> Change Runtime Tipe -> Runtime type -> R"
      ],
      "metadata": {
        "id": "LCEnE_02RuIQ"
      }
    },
    {
      "cell_type": "code",
      "source": [
        "require( \"data.table\" )\n",
        "\n",
        "# leo el dataset\n",
        "dataset <- fread(\"/content/datasets/competencia_01_crudo.csv\" )\n",
        "\n",
        "# calculo el periodo0 consecutivo\n",
        "dsimple <- dataset[, list(\n",
        "    \"pos\" = .I,\n",
        "    numero_de_cliente,\n",
        "    periodo0 = as.integer(foto_mes/100)*12 +  foto_mes%%100 ) ]\n",
        "\n",
        "\n",
        "# ordeno\n",
        "setorder( dsimple, numero_de_cliente, periodo0 )\n",
        "\n",
        "# calculo topes\n",
        "periodo_ultimo <- dsimple[, max(periodo0) ]\n",
        "periodo_anteultimo <- periodo_ultimo - 1\n",
        "\n",
        "\n",
        "# calculo los leads de orden 1 y 2\n",
        "dsimple[, c(\"periodo1\", \"periodo2\") :=\n",
        "    shift(periodo0, n=1:2, fill=NA, type=\"lead\"),  numero_de_cliente ]\n",
        "\n",
        "# assign most common class values = \"CONTINUA\"\n",
        "dsimple[ periodo0 < periodo_anteultimo, clase_ternaria := \"CONTINUA\" ]\n",
        "\n",
        "# calculo BAJA+1\n",
        "dsimple[ periodo0 < periodo_ultimo &\n",
        "    ( is.na(periodo1) | periodo0 + 1 < periodo1 ),\n",
        "    clase_ternaria := \"BAJA+1\" ]\n",
        "\n",
        "# calculo BAJA+2\n",
        "dsimple[ periodo0 < periodo_anteultimo & (periodo0+1 == periodo1 )\n",
        "    & ( is.na(periodo2) | periodo0 + 2 < periodo2 ),\n",
        "    clase_ternaria := \"BAJA+2\" ]\n",
        "\n",
        "\n",
        "# pego el resultado en el dataset original y grabo\n",
        "setorder( dsimple, pos )\n",
        "dataset[, clase_ternaria := dsimple$clase_ternaria ]\n",
        "\n",
        "fwrite( dataset,\n",
        "    file =  \"/content/datasets/competencia_01.csv.gz\",\n",
        "    sep = \",\"\n",
        ")"
      ],
      "metadata": {
        "id": "P863YZB9R1Ua",
        "outputId": "176f2eaf-c81e-42e9-e26a-e6aa1ed22710",
        "colab": {
          "base_uri": "https://localhost:8080/"
        }
      },
      "execution_count": 1,
      "outputs": [
        {
          "output_type": "stream",
          "name": "stderr",
          "text": [
            "Loading required package: data.table\n",
            "\n"
          ]
        }
      ]
    },
    {
      "cell_type": "code",
      "source": [
        "setorder( dataset, foto_mes, clase_ternaria, numero_de_cliente)\n",
        "dataset[, .N, list(foto_mes, clase_ternaria)]"
      ],
      "metadata": {
        "id": "S3hL7tv8W4rn",
        "outputId": "cda0b2bc-679d-4206-b9db-1bdc747b5382",
        "colab": {
          "base_uri": "https://localhost:8080/",
          "height": 568
        }
      },
      "execution_count": 2,
      "outputs": [
        {
          "output_type": "display_data",
          "data": {
            "text/html": [
              "<table class=\"dataframe\">\n",
              "<caption>A data.table: 15 × 3</caption>\n",
              "<thead>\n",
              "\t<tr><th scope=col>foto_mes</th><th scope=col>clase_ternaria</th><th scope=col>N</th></tr>\n",
              "\t<tr><th scope=col>&lt;int&gt;</th><th scope=col>&lt;chr&gt;</th><th scope=col>&lt;int&gt;</th></tr>\n",
              "</thead>\n",
              "<tbody>\n",
              "\t<tr><td>202101</td><td>BAJA+1  </td><td>   622</td></tr>\n",
              "\t<tr><td>202101</td><td>BAJA+2  </td><td>   825</td></tr>\n",
              "\t<tr><td>202101</td><td>CONTINUA</td><td>160080</td></tr>\n",
              "\t<tr><td>202102</td><td>BAJA+1  </td><td>   831</td></tr>\n",
              "\t<tr><td>202102</td><td>BAJA+2  </td><td>  1032</td></tr>\n",
              "\t<tr><td>202102</td><td>CONTINUA</td><td>160292</td></tr>\n",
              "\t<tr><td>202103</td><td>BAJA+1  </td><td>  1039</td></tr>\n",
              "\t<tr><td>202103</td><td>BAJA+2  </td><td>   951</td></tr>\n",
              "\t<tr><td>202103</td><td>CONTINUA</td><td>161119</td></tr>\n",
              "\t<tr><td>202104</td><td>BAJA+1  </td><td>   955</td></tr>\n",
              "\t<tr><td>202104</td><td>BAJA+2  </td><td>  1130</td></tr>\n",
              "\t<tr><td>202104</td><td>CONTINUA</td><td>161333</td></tr>\n",
              "\t<tr><td>202105</td><td>NA      </td><td>162783</td></tr>\n",
              "\t<tr><td>202105</td><td>BAJA+1  </td><td>  1134</td></tr>\n",
              "\t<tr><td>202106</td><td>NA      </td><td>164313</td></tr>\n",
              "</tbody>\n",
              "</table>\n"
            ],
            "text/markdown": "\nA data.table: 15 × 3\n\n| foto_mes &lt;int&gt; | clase_ternaria &lt;chr&gt; | N &lt;int&gt; |\n|---|---|---|\n| 202101 | BAJA+1   |    622 |\n| 202101 | BAJA+2   |    825 |\n| 202101 | CONTINUA | 160080 |\n| 202102 | BAJA+1   |    831 |\n| 202102 | BAJA+2   |   1032 |\n| 202102 | CONTINUA | 160292 |\n| 202103 | BAJA+1   |   1039 |\n| 202103 | BAJA+2   |    951 |\n| 202103 | CONTINUA | 161119 |\n| 202104 | BAJA+1   |    955 |\n| 202104 | BAJA+2   |   1130 |\n| 202104 | CONTINUA | 161333 |\n| 202105 | NA       | 162783 |\n| 202105 | BAJA+1   |   1134 |\n| 202106 | NA       | 164313 |\n\n",
            "text/latex": "A data.table: 15 × 3\n\\begin{tabular}{lll}\n foto\\_mes & clase\\_ternaria & N\\\\\n <int> & <chr> & <int>\\\\\n\\hline\n\t 202101 & BAJA+1   &    622\\\\\n\t 202101 & BAJA+2   &    825\\\\\n\t 202101 & CONTINUA & 160080\\\\\n\t 202102 & BAJA+1   &    831\\\\\n\t 202102 & BAJA+2   &   1032\\\\\n\t 202102 & CONTINUA & 160292\\\\\n\t 202103 & BAJA+1   &   1039\\\\\n\t 202103 & BAJA+2   &    951\\\\\n\t 202103 & CONTINUA & 161119\\\\\n\t 202104 & BAJA+1   &    955\\\\\n\t 202104 & BAJA+2   &   1130\\\\\n\t 202104 & CONTINUA & 161333\\\\\n\t 202105 & NA       & 162783\\\\\n\t 202105 & BAJA+1   &   1134\\\\\n\t 202106 & NA       & 164313\\\\\n\\end{tabular}\n",
            "text/plain": [
              "   foto_mes clase_ternaria N     \n",
              "1  202101   BAJA+1            622\n",
              "2  202101   BAJA+2            825\n",
              "3  202101   CONTINUA       160080\n",
              "4  202102   BAJA+1            831\n",
              "5  202102   BAJA+2           1032\n",
              "6  202102   CONTINUA       160292\n",
              "7  202103   BAJA+1           1039\n",
              "8  202103   BAJA+2            951\n",
              "9  202103   CONTINUA       161119\n",
              "10 202104   BAJA+1            955\n",
              "11 202104   BAJA+2           1130\n",
              "12 202104   CONTINUA       161333\n",
              "13 202105   NA             162783\n",
              "14 202105   BAJA+1           1134\n",
              "15 202106   NA             164313"
            ]
          },
          "metadata": {}
        }
      ]
    },
    {
      "cell_type": "markdown",
      "source": [
        "### 4.07  LightGBM, una corrida"
      ],
      "metadata": {
        "id": "oSKhZRToy2F7"
      }
    },
    {
      "cell_type": "markdown",
      "metadata": {
        "id": "eSU5vi00CPRS"
      },
      "source": [
        "Esta parte se debe correr con el runtime en lenguaje **R** Ir al menu, Runtime -> Change Runtime Type -> Runtime type -> R"
      ]
    },
    {
      "cell_type": "markdown",
      "metadata": {
        "id": "Zq8dySimCPRT"
      },
      "source": [
        "limpio el ambiente de R"
      ]
    },
    {
      "cell_type": "code",
      "source": [
        "format(Sys.time(), \"%a %b %d %X %Y\")"
      ],
      "metadata": {
        "id": "Tjda_YGOXaPw",
        "outputId": "c73d2225-a168-4d44-8270-3ffe5013ffb9",
        "colab": {
          "base_uri": "https://localhost:8080/",
          "height": 34
        }
      },
      "execution_count": 62,
      "outputs": [
        {
          "output_type": "display_data",
          "data": {
            "text/html": [
              "'Sun Sep 07 04:24:52 AM 2025'"
            ],
            "text/markdown": "'Sun Sep 07 04:24:52 AM 2025'",
            "text/latex": "'Sun Sep 07 04:24:52 AM 2025'",
            "text/plain": [
              "[1] \"Sun Sep 07 04:24:52 AM 2025\""
            ]
          },
          "metadata": {}
        }
      ]
    },
    {
      "cell_type": "code",
      "execution_count": 63,
      "metadata": {
        "id": "1iE0U4_WCPRT",
        "outputId": "025961ba-39c2-4271-f452-dd5718b76b0f",
        "colab": {
          "base_uri": "https://localhost:8080/",
          "height": 129
        }
      },
      "outputs": [
        {
          "output_type": "display_data",
          "data": {
            "text/html": [
              "<table class=\"dataframe\">\n",
              "<caption>A matrix: 2 × 6 of type dbl</caption>\n",
              "<thead>\n",
              "\t<tr><th></th><th scope=col>used</th><th scope=col>(Mb)</th><th scope=col>gc trigger</th><th scope=col>(Mb)</th><th scope=col>max used</th><th scope=col>(Mb)</th></tr>\n",
              "</thead>\n",
              "<tbody>\n",
              "\t<tr><th scope=row>Ncells</th><td> 2499305</td><td>133.5</td><td>  4432287</td><td>236.8</td><td>  4432287</td><td> 236.8</td></tr>\n",
              "\t<tr><th scope=row>Vcells</th><td>29709384</td><td>226.7</td><td>123100739</td><td>939.2</td><td>240419962</td><td>1834.3</td></tr>\n",
              "</tbody>\n",
              "</table>\n"
            ],
            "text/markdown": "\nA matrix: 2 × 6 of type dbl\n\n| <!--/--> | used | (Mb) | gc trigger | (Mb) | max used | (Mb) |\n|---|---|---|---|---|---|---|\n| Ncells |  2499305 | 133.5 |   4432287 | 236.8 |   4432287 |  236.8 |\n| Vcells | 29709384 | 226.7 | 123100739 | 939.2 | 240419962 | 1834.3 |\n\n",
            "text/latex": "A matrix: 2 × 6 of type dbl\n\\begin{tabular}{r|llllll}\n  & used & (Mb) & gc trigger & (Mb) & max used & (Mb)\\\\\n\\hline\n\tNcells &  2499305 & 133.5 &   4432287 & 236.8 &   4432287 &  236.8\\\\\n\tVcells & 29709384 & 226.7 & 123100739 & 939.2 & 240419962 & 1834.3\\\\\n\\end{tabular}\n",
            "text/plain": [
              "       used     (Mb)  gc trigger (Mb)  max used  (Mb)  \n",
              "Ncells  2499305 133.5   4432287  236.8   4432287  236.8\n",
              "Vcells 29709384 226.7 123100739  939.2 240419962 1834.3"
            ]
          },
          "metadata": {}
        }
      ],
      "source": [
        "# limpio la memoria\n",
        "rm(list=ls(all.names=TRUE)) # remove all objects\n",
        "gc(full=TRUE, verbose=FALSE) # garbage collection"
      ]
    },
    {
      "cell_type": "code",
      "execution_count": 64,
      "metadata": {
        "id": "BJDwdD0dCPRU"
      },
      "outputs": [],
      "source": [
        "# cargo las librerias que necesito\n",
        "require(\"data.table\")\n",
        "require(\"rpart\")\n",
        "\n",
        "if(!require(\"R.utils\")) install.packages(\"R.utils\")\n",
        "require(\"R.utils\")\n",
        "\n",
        "if( !require(\"rlist\") ) install.packages(\"rlist\")\n",
        "require(\"rlist\")\n",
        "\n",
        "if( !require(\"lightgbm\") ) install.packages(\"lightgbm\")\n",
        "require(\"lightgbm\")"
      ]
    },
    {
      "cell_type": "markdown",
      "source": [
        "Aqui debe cargar SU semilla primigenia"
      ],
      "metadata": {
        "id": "M8-Pyp6CCPRU"
      }
    },
    {
      "cell_type": "code",
      "source": [
        "PARAM <- list()\n",
        "PARAM$experimento <- 4070\n",
        "PARAM$semilla_primigenia <- 111119\n",
        "\n",
        "# training y future\n",
        "PARAM$train <- c(202102)\n",
        "PARAM$future <- c(202104)\n",
        "\n",
        "# estos hiperparametros de LightGBM surgieron de una Bayesian Optimization\n",
        "PARAM$lgb$num_iterations <- 600  # cantidad de arbolitos\n",
        "PARAM$lgb$learning_rate <- 0.01002598\n",
        "PARAM$lgb$feature_fraction <- 0.3260158\n",
        "PARAM$lgb$min_data_in_leaf <- 3009\n",
        "PARAM$lgb$num_leaves <- 495\n",
        "PARAM$lgb$max_bin <- 31\n",
        "\n",
        "PARAM$semilla_kaggle <- 314159"
      ],
      "metadata": {
        "id": "peRH7ySLCPRV"
      },
      "execution_count": 66,
      "outputs": []
    },
    {
      "cell_type": "code",
      "source": [
        "# particionar agrega una columna llamada fold a un dataset\n",
        "#   que consiste en una particion estratificada segun agrupa\n",
        "# particionar( data=dataset, division=c(70,30),\n",
        "#  agrupa=clase_ternaria, seed=semilla)   crea una particion 70, 30\n",
        "\n",
        "particionar <- function(data, division, agrupa= \"\", campo= \"fold\", start= 1, seed= NA) {\n",
        "  if (!is.na(seed)) set.seed(seed, \"L'Ecuyer-CMRG\")\n",
        "\n",
        "  bloque <- unlist(mapply(\n",
        "    function(x, y) {rep(y, x)},division, seq(from= start, length.out= length(division))))\n",
        "\n",
        "  data[, (campo) := sample(rep(bloque,ceiling(.N / length(bloque))))[1:.N],by= agrupa]\n",
        "}"
      ],
      "metadata": {
        "id": "VODo87VHWTIj"
      },
      "execution_count": 67,
      "outputs": []
    },
    {
      "cell_type": "code",
      "source": [
        "# iniciliazo el dataset de realidad, para medir ganancia\n",
        "realidad_inicializar <- function( pfuture, pparam) {\n",
        "\n",
        "  # datos para verificar la ganancia\n",
        "  drealidad <- pfuture[, list(numero_de_cliente, foto_mes, clase_ternaria)]\n",
        "\n",
        "  particionar(drealidad,\n",
        "    division= c(3, 7),\n",
        "    agrupa= \"clase_ternaria\",\n",
        "    seed= PARAM$semilla_kaggle\n",
        "  )\n",
        "\n",
        "  return( drealidad )\n",
        "}"
      ],
      "metadata": {
        "id": "IsyLEmK1WTuT"
      },
      "execution_count": 68,
      "outputs": []
    },
    {
      "cell_type": "code",
      "source": [
        "# evaluo ganancia en los datos de la realidad\n",
        "\n",
        "realidad_evaluar <- function( prealidad, pprediccion) {\n",
        "\n",
        "  prealidad[ pprediccion,\n",
        "    on= c(\"numero_de_cliente\", \"foto_mes\"),\n",
        "    predicted:= i.Predicted\n",
        "  ]\n",
        "\n",
        "  tbl <- prealidad[, list(\"qty\"=.N), list(fold, predicted, clase_ternaria)]\n",
        "\n",
        "  res <- list()\n",
        "  res$public  <- tbl[fold==1 & predicted==1L, sum(qty*ifelse(clase_ternaria==\"BAJA+2\", 780000, -20000))]/0.3\n",
        "  res$private <- tbl[fold==2 & predicted==1L, sum(qty*ifelse(clase_ternaria==\"BAJA+2\", 780000, -20000))]/0.7\n",
        "  res$total <- tbl[predicted==1L, sum(qty*ifelse(clase_ternaria==\"BAJA+2\", 780000, -20000))]\n",
        "\n",
        "  prealidad[, predicted:=NULL]\n",
        "  return( res )\n",
        "}"
      ],
      "metadata": {
        "id": "xk0_sSW8WVtR"
      },
      "execution_count": 69,
      "outputs": []
    },
    {
      "cell_type": "code",
      "source": [
        "# carpeta de trabajo\n",
        "setwd(\"/content/buckets/b1/exp\")\n",
        "experimento_folder <- paste0(\"KA_B\", PARAM$experimento)\n",
        "dir.create(experimento_folder, showWarnings=FALSE)\n",
        "setwd( paste0(\"/content/buckets/b1/exp/\", experimento_folder ))"
      ],
      "metadata": {
        "id": "1gZD6ZMvCPRV"
      },
      "execution_count": 70,
      "outputs": []
    },
    {
      "cell_type": "code",
      "source": [
        "# lectura del dataset\n",
        "dataset <- fread(\"/content/datasets/competencia_01.csv.gz\", stringsAsFactors= TRUE)"
      ],
      "metadata": {
        "id": "Xi0emX2ECPRV"
      },
      "execution_count": 71,
      "outputs": []
    },
    {
      "cell_type": "code",
      "source": [
        "# paso la clase a binaria\n",
        "\n",
        "dataset[, clase01 := ifelse(clase_ternaria %in% c(\"BAJA+2\"), 1L, 0L)]"
      ],
      "metadata": {
        "id": "-3XuBeDy1Ugj"
      },
      "execution_count": 72,
      "outputs": []
    },
    {
      "cell_type": "code",
      "source": [
        "# los campos que se van a utilizar\n",
        "\n",
        "campos_buenos <- copy(setdiff(colnames(dataset), c(\"clase_ternaria\", \"clase01\")))"
      ],
      "metadata": {
        "id": "h8Anoo4Sel8S"
      },
      "execution_count": 73,
      "outputs": []
    },
    {
      "cell_type": "code",
      "source": [
        "# establezco donde entreno\n",
        "\n",
        "dataset[, train := 0L]\n",
        "dataset[foto_mes %in% PARAM$train, train := 1L]"
      ],
      "metadata": {
        "id": "RA3cSJ6KaGwA"
      },
      "execution_count": 74,
      "outputs": []
    },
    {
      "cell_type": "code",
      "source": [
        "# dejo los datos en el formato que necesita LightGBM\n",
        "\n",
        "dtrain <- lgb.Dataset(\n",
        "  data= data.matrix(dataset[train == 1L, campos_buenos, with= FALSE]),\n",
        "  label= dataset[train == 1L, clase01]\n",
        ")"
      ],
      "metadata": {
        "id": "T6Zr06HB1kMU"
      },
      "execution_count": 75,
      "outputs": []
    },
    {
      "cell_type": "code",
      "source": [
        "# genero el modelo\n",
        "# estos hiperparametros  salieron de una laaarga Optmizacion Bayesiana\n",
        "\n",
        "set.seed(PARAM$semilla_primigenia, kind = \"L'Ecuyer-CMRG\") # Establezco la semilla aleatoria\n",
        "\n",
        "modelo <- lgb.train(\n",
        "  data= dtrain,\n",
        "  param= list(\n",
        "  objective= \"binary\",\n",
        "  max_bin= PARAM$lgb$max_bin,\n",
        "  learning_rate= PARAM$lgb$learning_rate,\n",
        "  num_iterations= PARAM$lgb$num_iterations,\n",
        "  num_leaves= PARAM$lgb$num_leaves,\n",
        "  min_data_in_leaf= PARAM$lgb$min_data_in_leaf,\n",
        "  feature_fraction= PARAM$lgb$feature_fraction,\n",
        "  seed= PARAM$semilla_primigenia\n",
        "  )\n",
        ")\n"
      ],
      "metadata": {
        "id": "TI9_5pii2zCF",
        "outputId": "771e4b6a-ac79-4369-d8f4-397a02cf3cca",
        "colab": {
          "base_uri": "https://localhost:8080/"
        }
      },
      "execution_count": 76,
      "outputs": [
        {
          "output_type": "stream",
          "name": "stdout",
          "text": [
            "[LightGBM] [Info] Number of positive: 1032, number of negative: 161123\n",
            "[LightGBM] [Info] Auto-choosing row-wise multi-threading, the overhead of testing was 0.110272 seconds.\n",
            "You can set `force_row_wise=true` to remove the overhead.\n",
            "And if memory is not enough, you can set `force_col_wise=true`.\n",
            "[LightGBM] [Info] Total Bins 2989\n",
            "[LightGBM] [Info] Number of data points in the train set: 162155, number of used features: 123\n",
            "[LightGBM] [Info] [binary:BoostFromScore]: pavg=0.006364 -> initscore=-5.050669\n",
            "[LightGBM] [Info] Start training from score -5.050669\n",
            "[LightGBM] [Warning] No further splits with positive gain, best gain: -inf\n",
            "[LightGBM] [Warning] No further splits with positive gain, best gain: -inf\n",
            "[LightGBM] [Warning] No further splits with positive gain, best gain: -inf\n",
            "[LightGBM] [Warning] No further splits with positive gain, best gain: -inf\n",
            "[LightGBM] [Warning] No further splits with positive gain, best gain: -inf\n",
            "[LightGBM] [Warning] No further splits with positive gain, best gain: -inf\n",
            "[LightGBM] [Warning] No further splits with positive gain, best gain: -inf\n",
            "[LightGBM] [Warning] No further splits with positive gain, best gain: -inf\n",
            "[LightGBM] [Warning] No further splits with positive gain, best gain: -inf\n",
            "[LightGBM] [Warning] No further splits with positive gain, best gain: -inf\n",
            "[LightGBM] [Warning] No further splits with positive gain, best gain: -inf\n",
            "[LightGBM] [Warning] No further splits with positive gain, best gain: -inf\n",
            "[LightGBM] [Warning] No further splits with positive gain, best gain: -inf\n",
            "[LightGBM] [Warning] No further splits with positive gain, best gain: -inf\n",
            "[LightGBM] [Warning] No further splits with positive gain, best gain: -inf\n",
            "[LightGBM] [Warning] No further splits with positive gain, best gain: -inf\n",
            "[LightGBM] [Warning] No further splits with positive gain, best gain: -inf\n",
            "[LightGBM] [Warning] No further splits with positive gain, best gain: -inf\n",
            "[LightGBM] [Warning] No further splits with positive gain, best gain: -inf\n",
            "[LightGBM] [Warning] No further splits with positive gain, best gain: -inf\n",
            "[LightGBM] [Warning] No further splits with positive gain, best gain: -inf\n",
            "[LightGBM] [Warning] No further splits with positive gain, best gain: -inf\n",
            "[LightGBM] [Warning] No further splits with positive gain, best gain: -inf\n",
            "[LightGBM] [Warning] No further splits with positive gain, best gain: -inf\n",
            "[LightGBM] [Warning] No further splits with positive gain, best gain: -inf\n",
            "[LightGBM] [Warning] No further splits with positive gain, best gain: -inf\n",
            "[LightGBM] [Warning] No further splits with positive gain, best gain: -inf\n",
            "[LightGBM] [Warning] No further splits with positive gain, best gain: -inf\n",
            "[LightGBM] [Warning] No further splits with positive gain, best gain: -inf\n",
            "[LightGBM] [Warning] No further splits with positive gain, best gain: -inf\n",
            "[LightGBM] [Warning] No further splits with positive gain, best gain: -inf\n",
            "[LightGBM] [Warning] No further splits with positive gain, best gain: -inf\n",
            "[LightGBM] [Warning] No further splits with positive gain, best gain: -inf\n",
            "[LightGBM] [Warning] No further splits with positive gain, best gain: -inf\n",
            "[LightGBM] [Warning] No further splits with positive gain, best gain: -inf\n",
            "[LightGBM] [Warning] No further splits with positive gain, best gain: -inf\n",
            "[LightGBM] [Warning] No further splits with positive gain, best gain: -inf\n",
            "[LightGBM] [Warning] No further splits with positive gain, best gain: -inf\n",
            "[LightGBM] [Warning] No further splits with positive gain, best gain: -inf\n",
            "[LightGBM] [Warning] No further splits with positive gain, best gain: -inf\n",
            "[LightGBM] [Warning] No further splits with positive gain, best gain: -inf\n",
            "[LightGBM] [Warning] No further splits with positive gain, best gain: -inf\n",
            "[LightGBM] [Warning] No further splits with positive gain, best gain: -inf\n",
            "[LightGBM] [Warning] No further splits with positive gain, best gain: -inf\n",
            "[LightGBM] [Warning] No further splits with positive gain, best gain: -inf\n",
            "[LightGBM] [Warning] No further splits with positive gain, best gain: -inf\n",
            "[LightGBM] [Warning] No further splits with positive gain, best gain: -inf\n",
            "[LightGBM] [Warning] No further splits with positive gain, best gain: -inf\n",
            "[LightGBM] [Warning] No further splits with positive gain, best gain: -inf\n",
            "[LightGBM] [Warning] No further splits with positive gain, best gain: -inf\n",
            "[LightGBM] [Warning] No further splits with positive gain, best gain: -inf\n",
            "[LightGBM] [Warning] No further splits with positive gain, best gain: -inf\n",
            "[LightGBM] [Warning] No further splits with positive gain, best gain: -inf\n",
            "[LightGBM] [Warning] No further splits with positive gain, best gain: -inf\n",
            "[LightGBM] [Warning] No further splits with positive gain, best gain: -inf\n",
            "[LightGBM] [Warning] No further splits with positive gain, best gain: -inf\n",
            "[LightGBM] [Warning] No further splits with positive gain, best gain: -inf\n",
            "[LightGBM] [Warning] No further splits with positive gain, best gain: -inf\n",
            "[LightGBM] [Warning] No further splits with positive gain, best gain: -inf\n",
            "[LightGBM] [Warning] No further splits with positive gain, best gain: -inf\n",
            "[LightGBM] [Warning] No further splits with positive gain, best gain: -inf\n",
            "[LightGBM] [Warning] No further splits with positive gain, best gain: -inf\n",
            "[LightGBM] [Warning] No further splits with positive gain, best gain: -inf\n",
            "[LightGBM] [Warning] No further splits with positive gain, best gain: -inf\n",
            "[LightGBM] [Warning] No further splits with positive gain, best gain: -inf\n",
            "[LightGBM] [Warning] No further splits with positive gain, best gain: -inf\n",
            "[LightGBM] [Warning] No further splits with positive gain, best gain: -inf\n",
            "[LightGBM] [Warning] No further splits with positive gain, best gain: -inf\n",
            "[LightGBM] [Warning] No further splits with positive gain, best gain: -inf\n",
            "[LightGBM] [Warning] No further splits with positive gain, best gain: -inf\n",
            "[LightGBM] [Warning] No further splits with positive gain, best gain: -inf\n",
            "[LightGBM] [Warning] No further splits with positive gain, best gain: -inf\n",
            "[LightGBM] [Warning] No further splits with positive gain, best gain: -inf\n",
            "[LightGBM] [Warning] No further splits with positive gain, best gain: -inf\n",
            "[LightGBM] [Warning] No further splits with positive gain, best gain: -inf\n",
            "[LightGBM] [Warning] No further splits with positive gain, best gain: -inf\n",
            "[LightGBM] [Warning] No further splits with positive gain, best gain: -inf\n",
            "[LightGBM] [Warning] No further splits with positive gain, best gain: -inf\n",
            "[LightGBM] [Warning] No further splits with positive gain, best gain: -inf\n",
            "[LightGBM] [Warning] No further splits with positive gain, best gain: -inf\n",
            "[LightGBM] [Warning] No further splits with positive gain, best gain: -inf\n",
            "[LightGBM] [Warning] No further splits with positive gain, best gain: -inf\n",
            "[LightGBM] [Warning] No further splits with positive gain, best gain: -inf\n",
            "[LightGBM] [Warning] No further splits with positive gain, best gain: -inf\n",
            "[LightGBM] [Warning] No further splits with positive gain, best gain: -inf\n",
            "[LightGBM] [Warning] No further splits with positive gain, best gain: -inf\n",
            "[LightGBM] [Warning] No further splits with positive gain, best gain: -inf\n",
            "[LightGBM] [Warning] No further splits with positive gain, best gain: -inf\n",
            "[LightGBM] [Warning] No further splits with positive gain, best gain: -inf\n",
            "[LightGBM] [Warning] No further splits with positive gain, best gain: -inf\n",
            "[LightGBM] [Warning] No further splits with positive gain, best gain: -inf\n",
            "[LightGBM] [Warning] No further splits with positive gain, best gain: -inf\n",
            "[LightGBM] [Warning] No further splits with positive gain, best gain: -inf\n",
            "[LightGBM] [Warning] No further splits with positive gain, best gain: -inf\n",
            "[LightGBM] [Warning] No further splits with positive gain, best gain: -inf\n",
            "[LightGBM] [Warning] No further splits with positive gain, best gain: -inf\n",
            "[LightGBM] [Warning] No further splits with positive gain, best gain: -inf\n",
            "[LightGBM] [Warning] No further splits with positive gain, best gain: -inf\n",
            "[LightGBM] [Warning] No further splits with positive gain, best gain: -inf\n",
            "[LightGBM] [Warning] No further splits with positive gain, best gain: -inf\n",
            "[LightGBM] [Warning] No further splits with positive gain, best gain: -inf\n",
            "[LightGBM] [Warning] No further splits with positive gain, best gain: -inf\n",
            "[LightGBM] [Warning] No further splits with positive gain, best gain: -inf\n",
            "[LightGBM] [Warning] No further splits with positive gain, best gain: -inf\n",
            "[LightGBM] [Warning] No further splits with positive gain, best gain: -inf\n",
            "[LightGBM] [Warning] No further splits with positive gain, best gain: -inf\n",
            "[LightGBM] [Warning] No further splits with positive gain, best gain: -inf\n",
            "[LightGBM] [Warning] No further splits with positive gain, best gain: -inf\n",
            "[LightGBM] [Warning] No further splits with positive gain, best gain: -inf\n",
            "[LightGBM] [Warning] No further splits with positive gain, best gain: -inf\n",
            "[LightGBM] [Warning] No further splits with positive gain, best gain: -inf\n",
            "[LightGBM] [Warning] No further splits with positive gain, best gain: -inf\n",
            "[LightGBM] [Warning] No further splits with positive gain, best gain: -inf\n",
            "[LightGBM] [Warning] No further splits with positive gain, best gain: -inf\n",
            "[LightGBM] [Warning] No further splits with positive gain, best gain: -inf\n",
            "[LightGBM] [Warning] No further splits with positive gain, best gain: -inf\n",
            "[LightGBM] [Warning] No further splits with positive gain, best gain: -inf\n",
            "[LightGBM] [Warning] No further splits with positive gain, best gain: -inf\n",
            "[LightGBM] [Warning] No further splits with positive gain, best gain: -inf\n",
            "[LightGBM] [Warning] No further splits with positive gain, best gain: -inf\n",
            "[LightGBM] [Warning] No further splits with positive gain, best gain: -inf\n",
            "[LightGBM] [Warning] No further splits with positive gain, best gain: -inf\n",
            "[LightGBM] [Warning] No further splits with positive gain, best gain: -inf\n",
            "[LightGBM] [Warning] No further splits with positive gain, best gain: -inf\n",
            "[LightGBM] [Warning] No further splits with positive gain, best gain: -inf\n",
            "[LightGBM] [Warning] No further splits with positive gain, best gain: -inf\n",
            "[LightGBM] [Warning] No further splits with positive gain, best gain: -inf\n",
            "[LightGBM] [Warning] No further splits with positive gain, best gain: -inf\n",
            "[LightGBM] [Warning] No further splits with positive gain, best gain: -inf\n",
            "[LightGBM] [Warning] No further splits with positive gain, best gain: -inf\n",
            "[LightGBM] [Warning] No further splits with positive gain, best gain: -inf\n",
            "[LightGBM] [Warning] No further splits with positive gain, best gain: -inf\n",
            "[LightGBM] [Warning] No further splits with positive gain, best gain: -inf\n",
            "[LightGBM] [Warning] No further splits with positive gain, best gain: -inf\n",
            "[LightGBM] [Warning] No further splits with positive gain, best gain: -inf\n",
            "[LightGBM] [Warning] No further splits with positive gain, best gain: -inf\n",
            "[LightGBM] [Warning] No further splits with positive gain, best gain: -inf\n",
            "[LightGBM] [Warning] No further splits with positive gain, best gain: -inf\n",
            "[LightGBM] [Warning] No further splits with positive gain, best gain: -inf\n",
            "[LightGBM] [Warning] No further splits with positive gain, best gain: -inf\n",
            "[LightGBM] [Warning] No further splits with positive gain, best gain: -inf\n",
            "[LightGBM] [Warning] No further splits with positive gain, best gain: -inf\n",
            "[LightGBM] [Warning] No further splits with positive gain, best gain: -inf\n",
            "[LightGBM] [Warning] No further splits with positive gain, best gain: -inf\n",
            "[LightGBM] [Warning] No further splits with positive gain, best gain: -inf\n",
            "[LightGBM] [Warning] No further splits with positive gain, best gain: -inf\n",
            "[LightGBM] [Warning] No further splits with positive gain, best gain: -inf\n",
            "[LightGBM] [Warning] No further splits with positive gain, best gain: -inf\n",
            "[LightGBM] [Warning] No further splits with positive gain, best gain: -inf\n",
            "[LightGBM] [Warning] No further splits with positive gain, best gain: -inf\n",
            "[LightGBM] [Warning] No further splits with positive gain, best gain: -inf\n",
            "[LightGBM] [Warning] No further splits with positive gain, best gain: -inf\n",
            "[LightGBM] [Warning] No further splits with positive gain, best gain: -inf\n",
            "[LightGBM] [Warning] No further splits with positive gain, best gain: -inf\n",
            "[LightGBM] [Warning] No further splits with positive gain, best gain: -inf\n",
            "[LightGBM] [Warning] No further splits with positive gain, best gain: -inf\n",
            "[LightGBM] [Warning] No further splits with positive gain, best gain: -inf\n",
            "[LightGBM] [Warning] No further splits with positive gain, best gain: -inf\n",
            "[LightGBM] [Warning] No further splits with positive gain, best gain: -inf\n",
            "[LightGBM] [Warning] No further splits with positive gain, best gain: -inf\n",
            "[LightGBM] [Warning] No further splits with positive gain, best gain: -inf\n",
            "[LightGBM] [Warning] No further splits with positive gain, best gain: -inf\n",
            "[LightGBM] [Warning] No further splits with positive gain, best gain: -inf\n",
            "[LightGBM] [Warning] No further splits with positive gain, best gain: -inf\n",
            "[LightGBM] [Warning] No further splits with positive gain, best gain: -inf\n",
            "[LightGBM] [Warning] No further splits with positive gain, best gain: -inf\n",
            "[LightGBM] [Warning] No further splits with positive gain, best gain: -inf\n",
            "[LightGBM] [Warning] No further splits with positive gain, best gain: -inf\n",
            "[LightGBM] [Warning] No further splits with positive gain, best gain: -inf\n",
            "[LightGBM] [Warning] No further splits with positive gain, best gain: -inf\n",
            "[LightGBM] [Warning] No further splits with positive gain, best gain: -inf\n",
            "[LightGBM] [Warning] No further splits with positive gain, best gain: -inf\n",
            "[LightGBM] [Warning] No further splits with positive gain, best gain: -inf\n",
            "[LightGBM] [Warning] No further splits with positive gain, best gain: -inf\n",
            "[LightGBM] [Warning] No further splits with positive gain, best gain: -inf\n",
            "[LightGBM] [Warning] No further splits with positive gain, best gain: -inf\n",
            "[LightGBM] [Warning] No further splits with positive gain, best gain: -inf\n",
            "[LightGBM] [Warning] No further splits with positive gain, best gain: -inf\n",
            "[LightGBM] [Warning] No further splits with positive gain, best gain: -inf\n",
            "[LightGBM] [Warning] No further splits with positive gain, best gain: -inf\n",
            "[LightGBM] [Warning] No further splits with positive gain, best gain: -inf\n",
            "[LightGBM] [Warning] No further splits with positive gain, best gain: -inf\n",
            "[LightGBM] [Warning] No further splits with positive gain, best gain: -inf\n",
            "[LightGBM] [Warning] No further splits with positive gain, best gain: -inf\n",
            "[LightGBM] [Warning] No further splits with positive gain, best gain: -inf\n",
            "[LightGBM] [Warning] No further splits with positive gain, best gain: -inf\n",
            "[LightGBM] [Warning] No further splits with positive gain, best gain: -inf\n",
            "[LightGBM] [Warning] No further splits with positive gain, best gain: -inf\n",
            "[LightGBM] [Warning] No further splits with positive gain, best gain: -inf\n",
            "[LightGBM] [Warning] No further splits with positive gain, best gain: -inf\n",
            "[LightGBM] [Warning] No further splits with positive gain, best gain: -inf\n",
            "[LightGBM] [Warning] No further splits with positive gain, best gain: -inf\n",
            "[LightGBM] [Warning] No further splits with positive gain, best gain: -inf\n",
            "[LightGBM] [Warning] No further splits with positive gain, best gain: -inf\n",
            "[LightGBM] [Warning] No further splits with positive gain, best gain: -inf\n",
            "[LightGBM] [Warning] No further splits with positive gain, best gain: -inf\n",
            "[LightGBM] [Warning] No further splits with positive gain, best gain: -inf\n",
            "[LightGBM] [Warning] No further splits with positive gain, best gain: -inf\n",
            "[LightGBM] [Warning] No further splits with positive gain, best gain: -inf\n",
            "[LightGBM] [Warning] No further splits with positive gain, best gain: -inf\n",
            "[LightGBM] [Warning] No further splits with positive gain, best gain: -inf\n",
            "[LightGBM] [Warning] No further splits with positive gain, best gain: -inf\n",
            "[LightGBM] [Warning] No further splits with positive gain, best gain: -inf\n",
            "[LightGBM] [Warning] No further splits with positive gain, best gain: -inf\n",
            "[LightGBM] [Warning] No further splits with positive gain, best gain: -inf\n",
            "[LightGBM] [Warning] No further splits with positive gain, best gain: -inf\n",
            "[LightGBM] [Warning] No further splits with positive gain, best gain: -inf\n",
            "[LightGBM] [Warning] No further splits with positive gain, best gain: -inf\n",
            "[LightGBM] [Warning] No further splits with positive gain, best gain: -inf\n",
            "[LightGBM] [Warning] No further splits with positive gain, best gain: -inf\n",
            "[LightGBM] [Warning] No further splits with positive gain, best gain: -inf\n",
            "[LightGBM] [Warning] No further splits with positive gain, best gain: -inf\n",
            "[LightGBM] [Warning] No further splits with positive gain, best gain: -inf\n",
            "[LightGBM] [Warning] No further splits with positive gain, best gain: -inf\n",
            "[LightGBM] [Warning] No further splits with positive gain, best gain: -inf\n",
            "[LightGBM] [Warning] No further splits with positive gain, best gain: -inf\n",
            "[LightGBM] [Warning] No further splits with positive gain, best gain: -inf\n",
            "[LightGBM] [Warning] No further splits with positive gain, best gain: -inf\n",
            "[LightGBM] [Warning] No further splits with positive gain, best gain: -inf\n",
            "[LightGBM] [Warning] No further splits with positive gain, best gain: -inf\n",
            "[LightGBM] [Warning] No further splits with positive gain, best gain: -inf\n",
            "[LightGBM] [Warning] No further splits with positive gain, best gain: -inf\n",
            "[LightGBM] [Warning] No further splits with positive gain, best gain: -inf\n",
            "[LightGBM] [Warning] No further splits with positive gain, best gain: -inf\n",
            "[LightGBM] [Warning] No further splits with positive gain, best gain: -inf\n",
            "[LightGBM] [Warning] No further splits with positive gain, best gain: -inf\n",
            "[LightGBM] [Warning] No further splits with positive gain, best gain: -inf\n",
            "[LightGBM] [Warning] No further splits with positive gain, best gain: -inf\n",
            "[LightGBM] [Warning] No further splits with positive gain, best gain: -inf\n",
            "[LightGBM] [Warning] No further splits with positive gain, best gain: -inf\n",
            "[LightGBM] [Warning] No further splits with positive gain, best gain: -inf\n",
            "[LightGBM] [Warning] No further splits with positive gain, best gain: -inf\n",
            "[LightGBM] [Warning] No further splits with positive gain, best gain: -inf\n",
            "[LightGBM] [Warning] No further splits with positive gain, best gain: -inf\n",
            "[LightGBM] [Warning] No further splits with positive gain, best gain: -inf\n",
            "[LightGBM] [Warning] No further splits with positive gain, best gain: -inf\n",
            "[LightGBM] [Warning] No further splits with positive gain, best gain: -inf\n",
            "[LightGBM] [Warning] No further splits with positive gain, best gain: -inf\n",
            "[LightGBM] [Warning] No further splits with positive gain, best gain: -inf\n",
            "[LightGBM] [Warning] No further splits with positive gain, best gain: -inf\n",
            "[LightGBM] [Warning] No further splits with positive gain, best gain: -inf\n",
            "[LightGBM] [Warning] No further splits with positive gain, best gain: -inf\n",
            "[LightGBM] [Warning] No further splits with positive gain, best gain: -inf\n",
            "[LightGBM] [Warning] No further splits with positive gain, best gain: -inf\n",
            "[LightGBM] [Warning] No further splits with positive gain, best gain: -inf\n",
            "[LightGBM] [Warning] No further splits with positive gain, best gain: -inf\n",
            "[LightGBM] [Warning] No further splits with positive gain, best gain: -inf\n",
            "[LightGBM] [Warning] No further splits with positive gain, best gain: -inf\n",
            "[LightGBM] [Warning] No further splits with positive gain, best gain: -inf\n",
            "[LightGBM] [Warning] No further splits with positive gain, best gain: -inf\n",
            "[LightGBM] [Warning] No further splits with positive gain, best gain: -inf\n",
            "[LightGBM] [Warning] No further splits with positive gain, best gain: -inf\n",
            "[LightGBM] [Warning] No further splits with positive gain, best gain: -inf\n",
            "[LightGBM] [Warning] No further splits with positive gain, best gain: -inf\n",
            "[LightGBM] [Warning] No further splits with positive gain, best gain: -inf\n",
            "[LightGBM] [Warning] No further splits with positive gain, best gain: -inf\n",
            "[LightGBM] [Warning] No further splits with positive gain, best gain: -inf\n",
            "[LightGBM] [Warning] No further splits with positive gain, best gain: -inf\n",
            "[LightGBM] [Warning] No further splits with positive gain, best gain: -inf\n",
            "[LightGBM] [Warning] No further splits with positive gain, best gain: -inf\n",
            "[LightGBM] [Warning] No further splits with positive gain, best gain: -inf\n",
            "[LightGBM] [Warning] No further splits with positive gain, best gain: -inf\n",
            "[LightGBM] [Warning] No further splits with positive gain, best gain: -inf\n",
            "[LightGBM] [Warning] No further splits with positive gain, best gain: -inf\n",
            "[LightGBM] [Warning] No further splits with positive gain, best gain: -inf\n",
            "[LightGBM] [Warning] No further splits with positive gain, best gain: -inf\n",
            "[LightGBM] [Warning] No further splits with positive gain, best gain: -inf\n",
            "[LightGBM] [Warning] No further splits with positive gain, best gain: -inf\n",
            "[LightGBM] [Warning] No further splits with positive gain, best gain: -inf\n",
            "[LightGBM] [Warning] No further splits with positive gain, best gain: -inf\n",
            "[LightGBM] [Warning] No further splits with positive gain, best gain: -inf\n",
            "[LightGBM] [Warning] No further splits with positive gain, best gain: -inf\n",
            "[LightGBM] [Warning] No further splits with positive gain, best gain: -inf\n",
            "[LightGBM] [Warning] No further splits with positive gain, best gain: -inf\n",
            "[LightGBM] [Warning] No further splits with positive gain, best gain: -inf\n",
            "[LightGBM] [Warning] No further splits with positive gain, best gain: -inf\n",
            "[LightGBM] [Warning] No further splits with positive gain, best gain: -inf\n",
            "[LightGBM] [Warning] No further splits with positive gain, best gain: -inf\n",
            "[LightGBM] [Warning] No further splits with positive gain, best gain: -inf\n",
            "[LightGBM] [Warning] No further splits with positive gain, best gain: -inf\n",
            "[LightGBM] [Warning] No further splits with positive gain, best gain: -inf\n",
            "[LightGBM] [Warning] No further splits with positive gain, best gain: -inf\n",
            "[LightGBM] [Warning] No further splits with positive gain, best gain: -inf\n",
            "[LightGBM] [Warning] No further splits with positive gain, best gain: -inf\n",
            "[LightGBM] [Warning] No further splits with positive gain, best gain: -inf\n",
            "[LightGBM] [Warning] No further splits with positive gain, best gain: -inf\n",
            "[LightGBM] [Warning] No further splits with positive gain, best gain: -inf\n",
            "[LightGBM] [Warning] No further splits with positive gain, best gain: -inf\n",
            "[LightGBM] [Warning] No further splits with positive gain, best gain: -inf\n",
            "[LightGBM] [Warning] No further splits with positive gain, best gain: -inf\n",
            "[LightGBM] [Warning] No further splits with positive gain, best gain: -inf\n",
            "[LightGBM] [Warning] No further splits with positive gain, best gain: -inf\n",
            "[LightGBM] [Warning] No further splits with positive gain, best gain: -inf\n",
            "[LightGBM] [Warning] No further splits with positive gain, best gain: -inf\n",
            "[LightGBM] [Warning] No further splits with positive gain, best gain: -inf\n",
            "[LightGBM] [Warning] No further splits with positive gain, best gain: -inf\n",
            "[LightGBM] [Warning] No further splits with positive gain, best gain: -inf\n",
            "[LightGBM] [Warning] No further splits with positive gain, best gain: -inf\n",
            "[LightGBM] [Warning] No further splits with positive gain, best gain: -inf\n",
            "[LightGBM] [Warning] No further splits with positive gain, best gain: -inf\n",
            "[LightGBM] [Warning] No further splits with positive gain, best gain: -inf\n",
            "[LightGBM] [Warning] No further splits with positive gain, best gain: -inf\n",
            "[LightGBM] [Warning] No further splits with positive gain, best gain: -inf\n",
            "[LightGBM] [Warning] No further splits with positive gain, best gain: -inf\n",
            "[LightGBM] [Warning] No further splits with positive gain, best gain: -inf\n",
            "[LightGBM] [Warning] No further splits with positive gain, best gain: -inf\n",
            "[LightGBM] [Warning] No further splits with positive gain, best gain: -inf\n",
            "[LightGBM] [Warning] No further splits with positive gain, best gain: -inf\n",
            "[LightGBM] [Warning] No further splits with positive gain, best gain: -inf\n",
            "[LightGBM] [Warning] No further splits with positive gain, best gain: -inf\n",
            "[LightGBM] [Warning] No further splits with positive gain, best gain: -inf\n",
            "[LightGBM] [Warning] No further splits with positive gain, best gain: -inf\n",
            "[LightGBM] [Warning] No further splits with positive gain, best gain: -inf\n",
            "[LightGBM] [Warning] No further splits with positive gain, best gain: -inf\n",
            "[LightGBM] [Warning] No further splits with positive gain, best gain: -inf\n",
            "[LightGBM] [Warning] No further splits with positive gain, best gain: -inf\n",
            "[LightGBM] [Warning] No further splits with positive gain, best gain: -inf\n",
            "[LightGBM] [Warning] No further splits with positive gain, best gain: -inf\n",
            "[LightGBM] [Warning] No further splits with positive gain, best gain: -inf\n",
            "[LightGBM] [Warning] No further splits with positive gain, best gain: -inf\n",
            "[LightGBM] [Warning] No further splits with positive gain, best gain: -inf\n",
            "[LightGBM] [Warning] No further splits with positive gain, best gain: -inf\n",
            "[LightGBM] [Warning] No further splits with positive gain, best gain: -inf\n",
            "[LightGBM] [Warning] No further splits with positive gain, best gain: -inf\n",
            "[LightGBM] [Warning] No further splits with positive gain, best gain: -inf\n",
            "[LightGBM] [Warning] No further splits with positive gain, best gain: -inf\n",
            "[LightGBM] [Warning] No further splits with positive gain, best gain: -inf\n",
            "[LightGBM] [Warning] No further splits with positive gain, best gain: -inf\n",
            "[LightGBM] [Warning] No further splits with positive gain, best gain: -inf\n",
            "[LightGBM] [Warning] No further splits with positive gain, best gain: -inf\n",
            "[LightGBM] [Warning] No further splits with positive gain, best gain: -inf\n",
            "[LightGBM] [Warning] No further splits with positive gain, best gain: -inf\n",
            "[LightGBM] [Warning] No further splits with positive gain, best gain: -inf\n",
            "[LightGBM] [Warning] No further splits with positive gain, best gain: -inf\n",
            "[LightGBM] [Warning] No further splits with positive gain, best gain: -inf\n",
            "[LightGBM] [Warning] No further splits with positive gain, best gain: -inf\n",
            "[LightGBM] [Warning] No further splits with positive gain, best gain: -inf\n",
            "[LightGBM] [Warning] No further splits with positive gain, best gain: -inf\n",
            "[LightGBM] [Warning] No further splits with positive gain, best gain: -inf\n",
            "[LightGBM] [Warning] No further splits with positive gain, best gain: -inf\n",
            "[LightGBM] [Warning] No further splits with positive gain, best gain: -inf\n",
            "[LightGBM] [Warning] No further splits with positive gain, best gain: -inf\n",
            "[LightGBM] [Warning] No further splits with positive gain, best gain: -inf\n",
            "[LightGBM] [Warning] No further splits with positive gain, best gain: -inf\n",
            "[LightGBM] [Warning] No further splits with positive gain, best gain: -inf\n",
            "[LightGBM] [Warning] No further splits with positive gain, best gain: -inf\n",
            "[LightGBM] [Warning] No further splits with positive gain, best gain: -inf\n",
            "[LightGBM] [Warning] No further splits with positive gain, best gain: -inf\n",
            "[LightGBM] [Warning] No further splits with positive gain, best gain: -inf\n",
            "[LightGBM] [Warning] No further splits with positive gain, best gain: -inf\n",
            "[LightGBM] [Warning] No further splits with positive gain, best gain: -inf\n",
            "[LightGBM] [Warning] No further splits with positive gain, best gain: -inf\n",
            "[LightGBM] [Warning] No further splits with positive gain, best gain: -inf\n",
            "[LightGBM] [Warning] No further splits with positive gain, best gain: -inf\n",
            "[LightGBM] [Warning] No further splits with positive gain, best gain: -inf\n",
            "[LightGBM] [Warning] No further splits with positive gain, best gain: -inf\n",
            "[LightGBM] [Warning] No further splits with positive gain, best gain: -inf\n",
            "[LightGBM] [Warning] No further splits with positive gain, best gain: -inf\n",
            "[LightGBM] [Warning] No further splits with positive gain, best gain: -inf\n",
            "[LightGBM] [Warning] No further splits with positive gain, best gain: -inf\n",
            "[LightGBM] [Warning] No further splits with positive gain, best gain: -inf\n",
            "[LightGBM] [Warning] No further splits with positive gain, best gain: -inf\n",
            "[LightGBM] [Warning] No further splits with positive gain, best gain: -inf\n",
            "[LightGBM] [Warning] No further splits with positive gain, best gain: -inf\n",
            "[LightGBM] [Warning] No further splits with positive gain, best gain: -inf\n",
            "[LightGBM] [Warning] No further splits with positive gain, best gain: -inf\n",
            "[LightGBM] [Warning] No further splits with positive gain, best gain: -inf\n",
            "[LightGBM] [Warning] No further splits with positive gain, best gain: -inf\n",
            "[LightGBM] [Warning] No further splits with positive gain, best gain: -inf\n",
            "[LightGBM] [Warning] No further splits with positive gain, best gain: -inf\n",
            "[LightGBM] [Warning] No further splits with positive gain, best gain: -inf\n",
            "[LightGBM] [Warning] No further splits with positive gain, best gain: -inf\n",
            "[LightGBM] [Warning] No further splits with positive gain, best gain: -inf\n",
            "[LightGBM] [Warning] No further splits with positive gain, best gain: -inf\n",
            "[LightGBM] [Warning] No further splits with positive gain, best gain: -inf\n",
            "[LightGBM] [Warning] No further splits with positive gain, best gain: -inf\n",
            "[LightGBM] [Warning] No further splits with positive gain, best gain: -inf\n",
            "[LightGBM] [Warning] No further splits with positive gain, best gain: -inf\n",
            "[LightGBM] [Warning] No further splits with positive gain, best gain: -inf\n",
            "[LightGBM] [Warning] No further splits with positive gain, best gain: -inf\n",
            "[LightGBM] [Warning] No further splits with positive gain, best gain: -inf\n",
            "[LightGBM] [Warning] No further splits with positive gain, best gain: -inf\n",
            "[LightGBM] [Warning] No further splits with positive gain, best gain: -inf\n",
            "[LightGBM] [Warning] No further splits with positive gain, best gain: -inf\n",
            "[LightGBM] [Warning] No further splits with positive gain, best gain: -inf\n",
            "[LightGBM] [Warning] No further splits with positive gain, best gain: -inf\n",
            "[LightGBM] [Warning] No further splits with positive gain, best gain: -inf\n",
            "[LightGBM] [Warning] No further splits with positive gain, best gain: -inf\n",
            "[LightGBM] [Warning] No further splits with positive gain, best gain: -inf\n",
            "[LightGBM] [Warning] No further splits with positive gain, best gain: -inf\n",
            "[LightGBM] [Warning] No further splits with positive gain, best gain: -inf\n",
            "[LightGBM] [Warning] No further splits with positive gain, best gain: -inf\n",
            "[LightGBM] [Warning] No further splits with positive gain, best gain: -inf\n",
            "[LightGBM] [Warning] No further splits with positive gain, best gain: -inf\n",
            "[LightGBM] [Warning] No further splits with positive gain, best gain: -inf\n",
            "[LightGBM] [Warning] No further splits with positive gain, best gain: -inf\n",
            "[LightGBM] [Warning] No further splits with positive gain, best gain: -inf\n",
            "[LightGBM] [Warning] No further splits with positive gain, best gain: -inf\n",
            "[LightGBM] [Warning] No further splits with positive gain, best gain: -inf\n",
            "[LightGBM] [Warning] No further splits with positive gain, best gain: -inf\n",
            "[LightGBM] [Warning] No further splits with positive gain, best gain: -inf\n",
            "[LightGBM] [Warning] No further splits with positive gain, best gain: -inf\n",
            "[LightGBM] [Warning] No further splits with positive gain, best gain: -inf\n",
            "[LightGBM] [Warning] No further splits with positive gain, best gain: -inf\n",
            "[LightGBM] [Warning] No further splits with positive gain, best gain: -inf\n",
            "[LightGBM] [Warning] No further splits with positive gain, best gain: -inf\n",
            "[LightGBM] [Warning] No further splits with positive gain, best gain: -inf\n",
            "[LightGBM] [Warning] No further splits with positive gain, best gain: -inf\n",
            "[LightGBM] [Warning] No further splits with positive gain, best gain: -inf\n",
            "[LightGBM] [Warning] No further splits with positive gain, best gain: -inf\n",
            "[LightGBM] [Warning] No further splits with positive gain, best gain: -inf\n",
            "[LightGBM] [Warning] No further splits with positive gain, best gain: -inf\n",
            "[LightGBM] [Warning] No further splits with positive gain, best gain: -inf\n",
            "[LightGBM] [Warning] No further splits with positive gain, best gain: -inf\n",
            "[LightGBM] [Warning] No further splits with positive gain, best gain: -inf\n",
            "[LightGBM] [Warning] No further splits with positive gain, best gain: -inf\n",
            "[LightGBM] [Warning] No further splits with positive gain, best gain: -inf\n",
            "[LightGBM] [Warning] No further splits with positive gain, best gain: -inf\n",
            "[LightGBM] [Warning] No further splits with positive gain, best gain: -inf\n",
            "[LightGBM] [Warning] No further splits with positive gain, best gain: -inf\n",
            "[LightGBM] [Warning] No further splits with positive gain, best gain: -inf\n",
            "[LightGBM] [Warning] No further splits with positive gain, best gain: -inf\n",
            "[LightGBM] [Warning] No further splits with positive gain, best gain: -inf\n",
            "[LightGBM] [Warning] No further splits with positive gain, best gain: -inf\n",
            "[LightGBM] [Warning] No further splits with positive gain, best gain: -inf\n",
            "[LightGBM] [Warning] No further splits with positive gain, best gain: -inf\n",
            "[LightGBM] [Warning] No further splits with positive gain, best gain: -inf\n",
            "[LightGBM] [Warning] No further splits with positive gain, best gain: -inf\n",
            "[LightGBM] [Warning] No further splits with positive gain, best gain: -inf\n",
            "[LightGBM] [Warning] No further splits with positive gain, best gain: -inf\n",
            "[LightGBM] [Warning] No further splits with positive gain, best gain: -inf\n",
            "[LightGBM] [Warning] No further splits with positive gain, best gain: -inf\n",
            "[LightGBM] [Warning] No further splits with positive gain, best gain: -inf\n",
            "[LightGBM] [Warning] No further splits with positive gain, best gain: -inf\n",
            "[LightGBM] [Warning] No further splits with positive gain, best gain: -inf\n",
            "[LightGBM] [Warning] No further splits with positive gain, best gain: -inf\n",
            "[LightGBM] [Warning] No further splits with positive gain, best gain: -inf\n",
            "[LightGBM] [Warning] No further splits with positive gain, best gain: -inf\n",
            "[LightGBM] [Warning] No further splits with positive gain, best gain: -inf\n",
            "[LightGBM] [Warning] No further splits with positive gain, best gain: -inf\n",
            "[LightGBM] [Warning] No further splits with positive gain, best gain: -inf\n",
            "[LightGBM] [Warning] No further splits with positive gain, best gain: -inf\n",
            "[LightGBM] [Warning] No further splits with positive gain, best gain: -inf\n",
            "[LightGBM] [Warning] No further splits with positive gain, best gain: -inf\n",
            "[LightGBM] [Warning] No further splits with positive gain, best gain: -inf\n",
            "[LightGBM] [Warning] No further splits with positive gain, best gain: -inf\n",
            "[LightGBM] [Warning] No further splits with positive gain, best gain: -inf\n",
            "[LightGBM] [Warning] No further splits with positive gain, best gain: -inf\n",
            "[LightGBM] [Warning] No further splits with positive gain, best gain: -inf\n",
            "[LightGBM] [Warning] No further splits with positive gain, best gain: -inf\n",
            "[LightGBM] [Warning] No further splits with positive gain, best gain: -inf\n",
            "[LightGBM] [Warning] No further splits with positive gain, best gain: -inf\n",
            "[LightGBM] [Warning] No further splits with positive gain, best gain: -inf\n",
            "[LightGBM] [Warning] No further splits with positive gain, best gain: -inf\n",
            "[LightGBM] [Warning] No further splits with positive gain, best gain: -inf\n",
            "[LightGBM] [Warning] No further splits with positive gain, best gain: -inf\n",
            "[LightGBM] [Warning] No further splits with positive gain, best gain: -inf\n",
            "[LightGBM] [Warning] No further splits with positive gain, best gain: -inf\n",
            "[LightGBM] [Warning] No further splits with positive gain, best gain: -inf\n",
            "[LightGBM] [Warning] No further splits with positive gain, best gain: -inf\n",
            "[LightGBM] [Warning] No further splits with positive gain, best gain: -inf\n",
            "[LightGBM] [Warning] No further splits with positive gain, best gain: -inf\n",
            "[LightGBM] [Warning] No further splits with positive gain, best gain: -inf\n",
            "[LightGBM] [Warning] No further splits with positive gain, best gain: -inf\n",
            "[LightGBM] [Warning] No further splits with positive gain, best gain: -inf\n",
            "[LightGBM] [Warning] No further splits with positive gain, best gain: -inf\n",
            "[LightGBM] [Warning] No further splits with positive gain, best gain: -inf\n",
            "[LightGBM] [Warning] No further splits with positive gain, best gain: -inf\n",
            "[LightGBM] [Warning] No further splits with positive gain, best gain: -inf\n",
            "[LightGBM] [Warning] No further splits with positive gain, best gain: -inf\n",
            "[LightGBM] [Warning] No further splits with positive gain, best gain: -inf\n",
            "[LightGBM] [Warning] No further splits with positive gain, best gain: -inf\n",
            "[LightGBM] [Warning] No further splits with positive gain, best gain: -inf\n",
            "[LightGBM] [Warning] No further splits with positive gain, best gain: -inf\n",
            "[LightGBM] [Warning] No further splits with positive gain, best gain: -inf\n",
            "[LightGBM] [Warning] No further splits with positive gain, best gain: -inf\n",
            "[LightGBM] [Warning] No further splits with positive gain, best gain: -inf\n",
            "[LightGBM] [Warning] No further splits with positive gain, best gain: -inf\n",
            "[LightGBM] [Warning] No further splits with positive gain, best gain: -inf\n",
            "[LightGBM] [Warning] No further splits with positive gain, best gain: -inf\n",
            "[LightGBM] [Warning] No further splits with positive gain, best gain: -inf\n",
            "[LightGBM] [Warning] No further splits with positive gain, best gain: -inf\n",
            "[LightGBM] [Warning] No further splits with positive gain, best gain: -inf\n",
            "[LightGBM] [Warning] No further splits with positive gain, best gain: -inf\n",
            "[LightGBM] [Warning] No further splits with positive gain, best gain: -inf\n",
            "[LightGBM] [Warning] No further splits with positive gain, best gain: -inf\n",
            "[LightGBM] [Warning] No further splits with positive gain, best gain: -inf\n",
            "[LightGBM] [Warning] No further splits with positive gain, best gain: -inf\n",
            "[LightGBM] [Warning] No further splits with positive gain, best gain: -inf\n",
            "[LightGBM] [Warning] No further splits with positive gain, best gain: -inf\n",
            "[LightGBM] [Warning] No further splits with positive gain, best gain: -inf\n",
            "[LightGBM] [Warning] No further splits with positive gain, best gain: -inf\n",
            "[LightGBM] [Warning] No further splits with positive gain, best gain: -inf\n",
            "[LightGBM] [Warning] No further splits with positive gain, best gain: -inf\n",
            "[LightGBM] [Warning] No further splits with positive gain, best gain: -inf\n",
            "[LightGBM] [Warning] No further splits with positive gain, best gain: -inf\n",
            "[LightGBM] [Warning] No further splits with positive gain, best gain: -inf\n",
            "[LightGBM] [Warning] No further splits with positive gain, best gain: -inf\n",
            "[LightGBM] [Warning] No further splits with positive gain, best gain: -inf\n",
            "[LightGBM] [Warning] No further splits with positive gain, best gain: -inf\n",
            "[LightGBM] [Warning] No further splits with positive gain, best gain: -inf\n",
            "[LightGBM] [Warning] No further splits with positive gain, best gain: -inf\n",
            "[LightGBM] [Warning] No further splits with positive gain, best gain: -inf\n",
            "[LightGBM] [Warning] No further splits with positive gain, best gain: -inf\n",
            "[LightGBM] [Warning] No further splits with positive gain, best gain: -inf\n",
            "[LightGBM] [Warning] No further splits with positive gain, best gain: -inf\n",
            "[LightGBM] [Warning] No further splits with positive gain, best gain: -inf\n",
            "[LightGBM] [Warning] No further splits with positive gain, best gain: -inf\n",
            "[LightGBM] [Warning] No further splits with positive gain, best gain: -inf\n",
            "[LightGBM] [Warning] No further splits with positive gain, best gain: -inf\n",
            "[LightGBM] [Warning] No further splits with positive gain, best gain: -inf\n",
            "[LightGBM] [Warning] No further splits with positive gain, best gain: -inf\n",
            "[LightGBM] [Warning] No further splits with positive gain, best gain: -inf\n",
            "[LightGBM] [Warning] No further splits with positive gain, best gain: -inf\n",
            "[LightGBM] [Warning] No further splits with positive gain, best gain: -inf\n",
            "[LightGBM] [Warning] No further splits with positive gain, best gain: -inf\n",
            "[LightGBM] [Warning] No further splits with positive gain, best gain: -inf\n",
            "[LightGBM] [Warning] No further splits with positive gain, best gain: -inf\n",
            "[LightGBM] [Warning] No further splits with positive gain, best gain: -inf\n",
            "[LightGBM] [Warning] No further splits with positive gain, best gain: -inf\n",
            "[LightGBM] [Warning] No further splits with positive gain, best gain: -inf\n",
            "[LightGBM] [Warning] No further splits with positive gain, best gain: -inf\n",
            "[LightGBM] [Warning] No further splits with positive gain, best gain: -inf\n",
            "[LightGBM] [Warning] No further splits with positive gain, best gain: -inf\n",
            "[LightGBM] [Warning] No further splits with positive gain, best gain: -inf\n",
            "[LightGBM] [Warning] No further splits with positive gain, best gain: -inf\n",
            "[LightGBM] [Warning] No further splits with positive gain, best gain: -inf\n",
            "[LightGBM] [Warning] No further splits with positive gain, best gain: -inf\n",
            "[LightGBM] [Warning] No further splits with positive gain, best gain: -inf\n",
            "[LightGBM] [Warning] No further splits with positive gain, best gain: -inf\n",
            "[LightGBM] [Warning] No further splits with positive gain, best gain: -inf\n",
            "[LightGBM] [Warning] No further splits with positive gain, best gain: -inf\n",
            "[LightGBM] [Warning] No further splits with positive gain, best gain: -inf\n",
            "[LightGBM] [Warning] No further splits with positive gain, best gain: -inf\n",
            "[LightGBM] [Warning] No further splits with positive gain, best gain: -inf\n",
            "[LightGBM] [Warning] No further splits with positive gain, best gain: -inf\n",
            "[LightGBM] [Warning] No further splits with positive gain, best gain: -inf\n",
            "[LightGBM] [Warning] No further splits with positive gain, best gain: -inf\n",
            "[LightGBM] [Warning] No further splits with positive gain, best gain: -inf\n",
            "[LightGBM] [Warning] No further splits with positive gain, best gain: -inf\n",
            "[LightGBM] [Warning] No further splits with positive gain, best gain: -inf\n",
            "[LightGBM] [Warning] No further splits with positive gain, best gain: -inf\n",
            "[LightGBM] [Warning] No further splits with positive gain, best gain: -inf\n",
            "[LightGBM] [Warning] No further splits with positive gain, best gain: -inf\n",
            "[LightGBM] [Warning] No further splits with positive gain, best gain: -inf\n",
            "[LightGBM] [Warning] No further splits with positive gain, best gain: -inf\n",
            "[LightGBM] [Warning] No further splits with positive gain, best gain: -inf\n",
            "[LightGBM] [Warning] No further splits with positive gain, best gain: -inf\n",
            "[LightGBM] [Warning] No further splits with positive gain, best gain: -inf\n",
            "[LightGBM] [Warning] No further splits with positive gain, best gain: -inf\n",
            "[LightGBM] [Warning] No further splits with positive gain, best gain: -inf\n",
            "[LightGBM] [Warning] No further splits with positive gain, best gain: -inf\n",
            "[LightGBM] [Warning] No further splits with positive gain, best gain: -inf\n",
            "[LightGBM] [Warning] No further splits with positive gain, best gain: -inf\n",
            "[LightGBM] [Warning] No further splits with positive gain, best gain: -inf\n",
            "[LightGBM] [Warning] No further splits with positive gain, best gain: -inf\n",
            "[LightGBM] [Warning] No further splits with positive gain, best gain: -inf\n",
            "[LightGBM] [Warning] No further splits with positive gain, best gain: -inf\n",
            "[LightGBM] [Warning] No further splits with positive gain, best gain: -inf\n",
            "[LightGBM] [Warning] No further splits with positive gain, best gain: -inf\n",
            "[LightGBM] [Warning] No further splits with positive gain, best gain: -inf\n",
            "[LightGBM] [Warning] No further splits with positive gain, best gain: -inf\n",
            "[LightGBM] [Warning] No further splits with positive gain, best gain: -inf\n",
            "[LightGBM] [Warning] No further splits with positive gain, best gain: -inf\n",
            "[LightGBM] [Warning] No further splits with positive gain, best gain: -inf\n",
            "[LightGBM] [Warning] No further splits with positive gain, best gain: -inf\n",
            "[LightGBM] [Warning] No further splits with positive gain, best gain: -inf\n",
            "[LightGBM] [Warning] No further splits with positive gain, best gain: -inf\n",
            "[LightGBM] [Warning] No further splits with positive gain, best gain: -inf\n",
            "[LightGBM] [Warning] No further splits with positive gain, best gain: -inf\n",
            "[LightGBM] [Warning] No further splits with positive gain, best gain: -inf\n",
            "[LightGBM] [Warning] No further splits with positive gain, best gain: -inf\n",
            "[LightGBM] [Warning] No further splits with positive gain, best gain: -inf\n",
            "[LightGBM] [Warning] No further splits with positive gain, best gain: -inf\n",
            "[LightGBM] [Warning] No further splits with positive gain, best gain: -inf\n",
            "[LightGBM] [Warning] No further splits with positive gain, best gain: -inf\n",
            "[LightGBM] [Warning] No further splits with positive gain, best gain: -inf\n",
            "[LightGBM] [Warning] No further splits with positive gain, best gain: -inf\n",
            "[LightGBM] [Warning] No further splits with positive gain, best gain: -inf\n",
            "[LightGBM] [Warning] No further splits with positive gain, best gain: -inf\n",
            "[LightGBM] [Warning] No further splits with positive gain, best gain: -inf\n",
            "[LightGBM] [Warning] No further splits with positive gain, best gain: -inf\n",
            "[LightGBM] [Warning] No further splits with positive gain, best gain: -inf\n",
            "[LightGBM] [Warning] No further splits with positive gain, best gain: -inf\n",
            "[LightGBM] [Warning] No further splits with positive gain, best gain: -inf\n",
            "[LightGBM] [Warning] No further splits with positive gain, best gain: -inf\n",
            "[LightGBM] [Warning] No further splits with positive gain, best gain: -inf\n",
            "[LightGBM] [Warning] No further splits with positive gain, best gain: -inf\n",
            "[LightGBM] [Warning] No further splits with positive gain, best gain: -inf\n",
            "[LightGBM] [Warning] No further splits with positive gain, best gain: -inf\n",
            "[LightGBM] [Warning] No further splits with positive gain, best gain: -inf\n",
            "[LightGBM] [Warning] No further splits with positive gain, best gain: -inf\n",
            "[LightGBM] [Warning] No further splits with positive gain, best gain: -inf\n",
            "[LightGBM] [Warning] No further splits with positive gain, best gain: -inf\n",
            "[LightGBM] [Warning] No further splits with positive gain, best gain: -inf\n",
            "[LightGBM] [Warning] No further splits with positive gain, best gain: -inf\n",
            "[LightGBM] [Warning] No further splits with positive gain, best gain: -inf\n",
            "[LightGBM] [Warning] No further splits with positive gain, best gain: -inf\n",
            "[LightGBM] [Warning] No further splits with positive gain, best gain: -inf\n",
            "[LightGBM] [Warning] No further splits with positive gain, best gain: -inf\n"
          ]
        }
      ]
    },
    {
      "cell_type": "code",
      "source": [
        "# ahora imprimo la importancia de variables\n",
        "tb_importancia <- as.data.table(lgb.importance(modelo))\n",
        "archivo_importancia <- \"impo_2.txt\"\n",
        "\n",
        "fwrite(tb_importancia,\n",
        "  file= archivo_importancia,\n",
        "  sep= \"\\t\"\n",
        ")\n"
      ],
      "metadata": {
        "id": "69QcMsSkg9d-"
      },
      "execution_count": 77,
      "outputs": []
    },
    {
      "cell_type": "code",
      "source": [
        "lgb.plot.importance(tb_importancia, measure = \"Gain\", top_n = 10)\n",
        "\n",
        "#ctrx_quarter: movimientos en el mes\n",
        "#cpayroll_trx: Q acreditaciones de haberes en rr de dep (solo empresas relacionadas con el banco - creo que no dice nada)\n",
        "#mpayroll: monto total acreditado en el mes"
      ],
      "metadata": {
        "collapsed": true,
        "colab": {
          "base_uri": "https://localhost:8080/",
          "height": 437
        },
        "id": "hU-AsaH6GtXI",
        "outputId": "99435d6e-661d-48fe-b535-47a23cf54953"
      },
      "execution_count": 78,
      "outputs": [
        {
          "output_type": "display_data",
          "data": {
            "text/plain": [
              "Plot with title “Feature Importance”"
            ],
            "image/png": "[encoded data removed]"
          },
          "metadata": {
            "image/png": {
              "width": 420,
              "height": 420
            }
          }
        }
      ]
    },
    {
      "cell_type": "code",
      "source": [
        "# grabo a disco el modelo en un formato para seres humanos ... ponele ...\n",
        "\n",
        "lgb.save(modelo, \"modelo_2.txt\" )"
      ],
      "metadata": {
        "id": "lauiNeQDg-XP"
      },
      "execution_count": 79,
      "outputs": []
    },
    {
      "cell_type": "code",
      "source": [
        "# mes donde voy a aplicar el modelo\n",
        "dfuture <- dataset[foto_mes %in% PARAM$future]\n",
        "setorder(dfuture, numero_de_cliente, foto_mes)\n",
        "\n",
        "# inicilizo el dataset  drealidad\n",
        "drealidad <- realidad_inicializar( dfuture, PARAM)"
      ],
      "metadata": {
        "id": "VQhEcNmBhF7u"
      },
      "execution_count": 80,
      "outputs": []
    },
    {
      "cell_type": "code",
      "source": [
        "# aplico el modelo a los datos nuevos\n",
        "prediccion <- predict(\n",
        "  modelo,\n",
        "  data.matrix(dfuture[, campos_buenos, with= FALSE])\n",
        ")"
      ],
      "metadata": {
        "id": "kxIoIF00WGO1"
      },
      "execution_count": 81,
      "outputs": []
    },
    {
      "cell_type": "code",
      "source": [
        "# tabla de prediccion\n",
        "\n",
        "tb_prediccion <- dfuture[, list(numero_de_cliente, foto_mes)]\n",
        "tb_prediccion[, prob := prediccion ]\n",
        "\n",
        "# grabo las probabilidad del modelo\n",
        "fwrite(tb_prediccion,\n",
        "  file= \"prediccion_2.txt\",\n",
        "  sep= \"\\t\"\n",
        ")"
      ],
      "metadata": {
        "id": "Z5LYpStThlIC"
      },
      "execution_count": 82,
      "outputs": []
    },
    {
      "cell_type": "code",
      "source": [
        "# ordeno por probabilidad descendente\n",
        "\n",
        "setorder(tb_prediccion, -prob)"
      ],
      "metadata": {
        "id": "vSopCODCh6kL"
      },
      "execution_count": 83,
      "outputs": []
    },
    {
      "cell_type": "code",
      "source": [
        "# genero la prediccion\n",
        "\n",
        "tb_prediccion[, Predicted := 0L]\n",
        "tb_prediccion[prob>(1/40), Predicted := 1L]\n",
        "\n",
        "archivo_kaggle <- paste0(\"KA_B\", PARAM$experimento, \".csv\")\n",
        "\n",
        "# grabo el archivo\n",
        "fwrite(tb_prediccion[, list(numero_de_cliente, Predicted)],\n",
        "  file= archivo_kaggle,\n",
        "  sep= \",\"\n",
        ")"
      ],
      "metadata": {
        "id": "pmxc2Z0fpJAZ"
      },
      "execution_count": 84,
      "outputs": []
    },
    {
      "cell_type": "code",
      "source": [
        "# calculo la ganancia en los datos del futuro\n",
        "res <- realidad_evaluar( drealidad, tb_prediccion)\n",
        "\n",
        "cat( \"TOTAL=\", res$total,\n",
        "  \" Public=\", res$public,\n",
        "  \" Private=\", res$private,\n",
        "  \"\\n\",\n",
        "  sep= \"\"\n",
        ")"
      ],
      "metadata": {
        "id": "wSUlDENjW2hJ",
        "outputId": "bfb753bc-3c36-4d88-da27-2b2fc82ca108",
        "colab": {
          "base_uri": "https://localhost:8080/"
        }
      },
      "execution_count": 85,
      "outputs": [
        {
          "output_type": "stream",
          "name": "stdout",
          "text": [
            "TOTAL=333220000 Public=291466667 Private=351114286\n"
          ]
        }
      ]
    },
    {
      "cell_type": "code",
      "source": [
        "format(Sys.time(), \"%a %b %d %X %Y\")"
      ],
      "metadata": {
        "id": "PK3QGWJsXk_k",
        "outputId": "9e71a612-8755-4dcd-ca08-4b9d8f021543",
        "colab": {
          "base_uri": "https://localhost:8080/",
          "height": 34
        }
      },
      "execution_count": 86,
      "outputs": [
        {
          "output_type": "display_data",
          "data": {
            "text/html": [
              "'Sun Sep 07 04:34:21 AM 2025'"
            ],
            "text/markdown": "'Sun Sep 07 04:34:21 AM 2025'",
            "text/latex": "'Sun Sep 07 04:34:21 AM 2025'",
            "text/plain": [
              "[1] \"Sun Sep 07 04:34:21 AM 2025\""
            ]
          },
          "metadata": {}
        }
      ]
    },
    {
      "cell_type": "markdown",
      "metadata": {
        "id": "UMr6Z1enOyd3"
      },
      "source": [
        "\n",
        "\n",
        "---\n",
        "\n"
      ]
    },
    {
      "cell_type": "code",
      "source": [],
      "metadata": {
        "id": "7YAUzAI2MNMN"
      },
      "execution_count": null,
      "outputs": []
    },
    {
      "cell_type": "code",
      "source": [],
      "metadata": {
        "id": "SbXRxZxjMNIs"
      },
      "execution_count": null,
      "outputs": []
    },
    {
      "cell_type": "code",
      "source": [],
      "metadata": {
        "id": "D-pQqjFOMNFo"
      },
      "execution_count": null,
      "outputs": []
    },
    {
      "cell_type": "code",
      "source": [],
      "metadata": {
        "id": "DrUpiB-9MNDI"
      },
      "execution_count": null,
      "outputs": []
    },
    {
      "cell_type": "code",
      "source": [],
      "metadata": {
        "id": "Yy2hEs0WMNAs"
      },
      "execution_count": null,
      "outputs": []
    },
    {
      "cell_type": "code",
      "source": [],
      "metadata": {
        "id": "wZjFfr5UMM8x"
      },
      "execution_count": null,
      "outputs": []
    },
    {
      "cell_type": "markdown",
      "source": [
        "### 4.08  LightGBM  optimizacion de hiperparámetros"
      ],
      "metadata": {
        "id": "lO4QwOEU-xPe"
      }
    },
    {
      "cell_type": "markdown",
      "source": [
        "La optimizacion de los hiperparámetros de LightGBM mediante el método de optimizacion bayesiana será su *caballito de batalla* durante la asignatura !"
      ],
      "metadata": {
        "id": "75FU3LjSF2uN"
      }
    },
    {
      "cell_type": "markdown",
      "metadata": {
        "id": "aJBO5Dcb_B7s"
      },
      "source": [
        "limpio el ambiente de R"
      ]
    },
    {
      "cell_type": "code",
      "source": [
        "format(Sys.time(), \"%a %b %d %X %Y\")"
      ],
      "metadata": {
        "id": "2CeMTfCuX3bH",
        "outputId": "fd733d4c-d60d-435c-a232-eff5f9da9588",
        "colab": {
          "base_uri": "https://localhost:8080/",
          "height": 34
        }
      },
      "execution_count": 41,
      "outputs": [
        {
          "output_type": "display_data",
          "data": {
            "text/html": [
              "'Sat Sep 06 10:43:50 PM 2025'"
            ],
            "text/markdown": "'Sat Sep 06 10:43:50 PM 2025'",
            "text/latex": "'Sat Sep 06 10:43:50 PM 2025'",
            "text/plain": [
              "[1] \"Sat Sep 06 10:43:50 PM 2025\""
            ]
          },
          "metadata": {}
        }
      ]
    },
    {
      "cell_type": "code",
      "execution_count": 42,
      "metadata": {
        "id": "HPKFI6yP_B7s",
        "outputId": "77f62cb1-1731-4d1b-a823-d565769a7626",
        "colab": {
          "base_uri": "https://localhost:8080/",
          "height": 129
        }
      },
      "outputs": [
        {
          "output_type": "display_data",
          "data": {
            "text/html": [
              "<table class=\"dataframe\">\n",
              "<caption>A matrix: 2 × 6 of type dbl</caption>\n",
              "<thead>\n",
              "\t<tr><th></th><th scope=col>used</th><th scope=col>(Mb)</th><th scope=col>gc trigger</th><th scope=col>(Mb)</th><th scope=col>max used</th><th scope=col>(Mb)</th></tr>\n",
              "</thead>\n",
              "<tbody>\n",
              "\t<tr><th scope=row>Ncells</th><td>1928324</td><td>103.0</td><td>  2977450</td><td> 159.1</td><td>  2977450</td><td> 159.1</td></tr>\n",
              "\t<tr><th scope=row>Vcells</th><td>3725851</td><td> 28.5</td><td>192344903</td><td>1467.5</td><td>240419962</td><td>1834.3</td></tr>\n",
              "</tbody>\n",
              "</table>\n"
            ],
            "text/markdown": "\nA matrix: 2 × 6 of type dbl\n\n| <!--/--> | used | (Mb) | gc trigger | (Mb) | max used | (Mb) |\n|---|---|---|---|---|---|---|\n| Ncells | 1928324 | 103.0 |   2977450 |  159.1 |   2977450 |  159.1 |\n| Vcells | 3725851 |  28.5 | 192344903 | 1467.5 | 240419962 | 1834.3 |\n\n",
            "text/latex": "A matrix: 2 × 6 of type dbl\n\\begin{tabular}{r|llllll}\n  & used & (Mb) & gc trigger & (Mb) & max used & (Mb)\\\\\n\\hline\n\tNcells & 1928324 & 103.0 &   2977450 &  159.1 &   2977450 &  159.1\\\\\n\tVcells & 3725851 &  28.5 & 192344903 & 1467.5 & 240419962 & 1834.3\\\\\n\\end{tabular}\n",
            "text/plain": [
              "       used    (Mb)  gc trigger (Mb)   max used  (Mb)  \n",
              "Ncells 1928324 103.0   2977450   159.1   2977450  159.1\n",
              "Vcells 3725851  28.5 192344903  1467.5 240419962 1834.3"
            ]
          },
          "metadata": {}
        }
      ],
      "source": [
        "# limpio la memoria\n",
        "rm(list=ls(all.names=TRUE)) # remove all objects\n",
        "gc(full=TRUE, verbose=FALSE) # garbage collection"
      ]
    },
    {
      "cell_type": "code",
      "execution_count": 43,
      "metadata": {
        "id": "B6X8U6XF_B7t",
        "outputId": "434fb173-c22f-4934-ee5f-18b5bc71c2fe",
        "colab": {
          "base_uri": "https://localhost:8080/"
        }
      },
      "outputs": [
        {
          "output_type": "stream",
          "name": "stderr",
          "text": [
            "Loading required package: parallel\n",
            "\n",
            "Loading required package: primes\n",
            "\n",
            "Warning message in library(package, lib.loc = lib.loc, character.only = TRUE, logical.return = TRUE, :\n",
            "“there is no package called ‘primes’”\n",
            "Installing package into ‘/usr/local/lib/R/site-library’\n",
            "(as ‘lib’ is unspecified)\n",
            "\n",
            "Loading required package: primes\n",
            "\n",
            "Loading required package: DiceKriging\n",
            "\n",
            "Warning message in library(package, lib.loc = lib.loc, character.only = TRUE, logical.return = TRUE, :\n",
            "“there is no package called ‘DiceKriging’”\n",
            "Installing package into ‘/usr/local/lib/R/site-library’\n",
            "(as ‘lib’ is unspecified)\n",
            "\n",
            "Loading required package: DiceKriging\n",
            "\n",
            "Loading required package: mlrMBO\n",
            "\n",
            "Warning message in library(package, lib.loc = lib.loc, character.only = TRUE, logical.return = TRUE, :\n",
            "“there is no package called ‘mlrMBO’”\n",
            "Installing package into ‘/usr/local/lib/R/site-library’\n",
            "(as ‘lib’ is unspecified)\n",
            "\n",
            "also installing the dependencies ‘fastmatch’, ‘RcppArmadillo’, ‘mlr’, ‘ParamHelpers’, ‘smoof’, ‘BBmisc’, ‘checkmate’, ‘lhs’, ‘parallelMap’\n",
            "\n",
            "\n",
            "Loading required package: mlrMBO\n",
            "\n",
            "Loading required package: mlr\n",
            "\n",
            "Loading required package: ParamHelpers\n",
            "\n",
            "\n",
            "Attaching package: ‘ParamHelpers’\n",
            "\n",
            "\n",
            "The following object is masked from ‘package:R.utils’:\n",
            "\n",
            "    isVector\n",
            "\n",
            "\n",
            "\n",
            "Attaching package: ‘mlr’\n",
            "\n",
            "\n",
            "The following objects are masked from ‘package:R.utils’:\n",
            "\n",
            "    resample, setThreshold\n",
            "\n",
            "\n",
            "Loading required package: smoof\n",
            "\n",
            "Loading required package: checkmate\n",
            "\n",
            "\n",
            "Attaching package: ‘checkmate’\n",
            "\n",
            "\n",
            "The following object is masked from ‘package:DiceKriging’:\n",
            "\n",
            "    checkNames\n",
            "\n",
            "\n",
            "The following object is masked from ‘package:R.utils’:\n",
            "\n",
            "    asInt\n",
            "\n",
            "\n",
            "\n",
            "Attaching package: ‘smoof’\n",
            "\n",
            "\n",
            "The following objects are masked from ‘package:R.oo’:\n",
            "\n",
            "    getDescription, getName\n",
            "\n",
            "\n"
          ]
        }
      ],
      "source": [
        "# cargo las librerias que necesito\n",
        "require(\"data.table\")\n",
        "require(\"rpart\")\n",
        "require(\"parallel\")\n",
        "\n",
        "if(!require(\"R.utils\")) install.packages(\"R.utils\")\n",
        "require(\"R.utils\")\n",
        "\n",
        "if( !require(\"primes\") ) install.packages(\"primes\")\n",
        "require(\"primes\")\n",
        "\n",
        "if( !require(\"rlist\") ) install.packages(\"rlist\")\n",
        "require(\"rlist\")\n",
        "\n",
        "if( !require(\"lightgbm\") ) install.packages(\"lightgbm\")\n",
        "require(\"lightgbm\")\n",
        "\n",
        "if( !require(\"DiceKriging\") ) install.packages(\"DiceKriging\")\n",
        "require(\"DiceKriging\")\n",
        "\n",
        "if( !require(\"mlrMBO\") ) install.packages(\"mlrMBO\")\n",
        "require(\"mlrMBO\")\n"
      ]
    },
    {
      "cell_type": "markdown",
      "source": [
        "Aqui debe cargar SU semilla primigenia"
      ],
      "metadata": {
        "id": "_qZHeAHdCJQ2"
      }
    },
    {
      "cell_type": "code",
      "source": [
        "PARAM <- list()\n",
        "PARAM$experimento <- 4080\n",
        "PARAM$semilla_primigenia <- 111119\n",
        "\n",
        "# training y future\n",
        "PARAM$train <- c(202102)\n",
        "\n",
        "# un undersampling de 0.1  toma solo el 10% de los CONTINUA\n",
        "# undersampling de 1.0  implica tomar TODOS los datos\n",
        "PARAM$trainingstrategy$undersampling <- 1.0\n",
        "\n",
        "PARAM$hyperparametertuning$iteraciones <- 40 # iteracines bayesianas    --------- toma combinaciones de HP\n",
        "\n",
        "PARAM$hyperparametertuning$xval_folds <- 5\n",
        "\n",
        "# parametros fijos del LightGBM\n",
        "PARAM$lgbm$param_fijos <- list(\n",
        "  objective= \"binary\",\n",
        "  metric= \"auc\",\n",
        "  first_metric_only= TRUE,\n",
        "  boost_from_average= TRUE,\n",
        "  feature_pre_filter= FALSE,\n",
        "  verbosity= -100,\n",
        "  force_row_wise= TRUE, # para evitar warning\n",
        "  seed= PARAM$semilla_primigenia,\n",
        "  max_bin= 31,\n",
        "  num_iterations= 2048,  # valor grande, lo limita early_stopping_rounds  ------ cantidad de árboles\n",
        "  early_stopping_rounds= 200    # ---------- para si hace 200 árboles que no aportan\n",
        ")\n",
        "\n",
        "# Aqui se cargan los bordes de los hiperparametros\n",
        "PARAM$hypeparametertuning$hs <- makeParamSet(\n",
        "  makeNumericParam(\"learning_rate\", lower= 0.01, upper= 0.5),\n",
        "  makeNumericParam(\"feature_fraction\", lower= 0.1, upper= 1.0),\n",
        "  makeIntegerParam(\"num_leaves\", lower= 8L, upper= 2048L),\n",
        "  makeIntegerParam(\"min_data_in_leaf\", lower= 1L, upper= 8000L)\n",
        ")\n"
      ],
      "metadata": {
        "id": "2y3Ai8F6CJQ2"
      },
      "execution_count": 46,
      "outputs": []
    },
    {
      "cell_type": "code",
      "source": [
        "#Diccionario CHATGPT\n",
        "\n",
        "#Learning rate: Qué tanto contribuye cada árbol a la predicción final. Menor valor = más estable pero requiere más árboles.\n",
        "#Usualmente se combina un learning_rate bajo (0.01–0.05) con num_iterations alto (500–5000) para mejorar la generalización.\n",
        "\n",
        "#Ver goss: modo de sampleo para tomar mejores gradientes:\n",
        "#top_rate\tProporción de datos con gradientes más grandes que siempre se mantienen.\t0.1 – 0.3\n",
        "#other_rate\tProporción de datos con gradientes más pequeños que se toman aleatoriamente.\t0.05 – 0.2\n",
        "#GOSS es un boosting eficiente para datasets masivos, logrando casi la misma precisión que GBDT pero con mucho menos costo computacional.\n",
        "#Se quedan todas las observaciones con gradientes grandes\n",
        "#Estas son las predicciones donde el modelo está cometiendo errores grandes.\n",
        "\n",
        "\n",
        "#learning_rate ajusta la contribución de cada árbol:\n",
        "#learning_rate = 0.1 → cada árbol aporta solo el 10% de lo que predice.\n",
        "#learning_rate = 0.5 → cada árbol aporta la mitad de su predicción.\n",
        "#Esto significa que learning_rate más pequeño → entrenamiento más lento pero más estable y menos propenso a overfitting."
      ],
      "metadata": {
        "id": "0f5iyw8wR7jJ"
      },
      "execution_count": 44,
      "outputs": []
    },
    {
      "cell_type": "code",
      "source": [],
      "metadata": {
        "id": "HTOV2vrbR7ee"
      },
      "execution_count": null,
      "outputs": []
    },
    {
      "cell_type": "code",
      "source": [],
      "metadata": {
        "id": "WTHN1ntFR7W0"
      },
      "execution_count": null,
      "outputs": []
    },
    {
      "cell_type": "code",
      "source": [
        "# En el argumento x llegan los parametros de la bayesiana\n",
        "#  devuelve la AUC de cross validation del modelo entrenado\n",
        "\n",
        "EstimarGanancia_AUC_lightgbm <- function(x) {\n",
        "\n",
        "  message(format(Sys.time(), \"%a %b %d %X %Y\"))\n",
        "\n",
        "  # uno la lista de hiperparametros : fijos + variables\n",
        "  param_completo <- c(PARAM$lgbm$param_fijos, x)\n",
        "\n",
        "  # entreno LightGBM\n",
        "  modelocv <- lgb.cv(\n",
        "    data= dtrain,\n",
        "    nfold= PARAM$hyperparametertuning$xval_folds,\n",
        "    stratified= TRUE,\n",
        "    param= param_completo,\n",
        "    verbose= -100\n",
        "  )\n",
        "\n",
        "  # obtengo la ganancia\n",
        "  AUC <- modelocv$best_score\n",
        "\n",
        "  # esta es la forma de devolver un parametro extra\n",
        "  attr(AUC, \"extras\") <- list(\"num_iterations\"= modelocv$best_iter)\n",
        "\n",
        "  # hago espacio en la memoria\n",
        "  rm(modelocv)\n",
        "  gc(full= TRUE, verbose= FALSE)\n",
        "\n",
        "  message( \"AUC: \", AUC)\n",
        "  return(AUC)\n",
        "}"
      ],
      "metadata": {
        "id": "NnPKiCHuCwVo"
      },
      "execution_count": 47,
      "outputs": []
    },
    {
      "cell_type": "markdown",
      "source": [
        "aqui se inicia el programa"
      ],
      "metadata": {
        "id": "P7Pw1KLeE3UH"
      }
    },
    {
      "cell_type": "code",
      "source": [
        "# carpeta de trabajo\n",
        "\n",
        "setwd(\"/content/buckets/b1/exp\")\n",
        "experimento_folder <- paste0(\"HT\", PARAM$experimento)\n",
        "dir.create(experimento_folder, showWarnings=FALSE)\n",
        "setwd( paste0(\"/content/buckets/b1/exp/\", experimento_folder ))"
      ],
      "metadata": {
        "id": "w1lb19whCJQ3"
      },
      "execution_count": 48,
      "outputs": []
    },
    {
      "cell_type": "code",
      "source": [
        "# en este archivo quedan la evolucion binaria de la BO\n",
        "kbayesiana <- \"bayesiana.RDATA\""
      ],
      "metadata": {
        "id": "QvOokHUvuolF"
      },
      "execution_count": 49,
      "outputs": []
    },
    {
      "cell_type": "code",
      "source": [
        "# lectura del dataset\n",
        "dataset <- fread(\"/content/datasets/competencia_01.csv.gz\", stringsAsFactors= TRUE)"
      ],
      "metadata": {
        "id": "xcOJpoFvCJQ3"
      },
      "execution_count": 50,
      "outputs": []
    },
    {
      "cell_type": "code",
      "source": [
        "dataset <- dataset[foto_mes %in%  PARAM$train]"
      ],
      "metadata": {
        "id": "JorOk_A8EhSy"
      },
      "execution_count": 51,
      "outputs": []
    },
    {
      "cell_type": "code",
      "source": [
        "# paso la clase a binaria que tome valores {0,1}  enteros\n",
        "dataset[, clase01 := ifelse(clase_ternaria == \"BAJA+2\", 1L, 0L) ]"
      ],
      "metadata": {
        "id": "JDg9xZVYrwvj"
      },
      "execution_count": 52,
      "outputs": []
    },
    {
      "cell_type": "code",
      "source": [
        "# los campos que se van a utilizar ---------- definir qué campos quiero !!!!!!!\n",
        "\n",
        "campos_buenos <- copy( setdiff(\n",
        "  colnames(dataset),\n",
        "  c(\"clase_ternaria\", \"clase01\", \"azar\", \"training\")\n",
        "))\n",
        "\n",
        "\n",
        "#colnames(dataset) → toma todas las columnas del dataset.\n",
        "#setdiff(..., c(\"clase_ternaria\", \"clase01\", \"azar\", \"training\")) → quita estas 4 columnas.\n"
      ],
      "metadata": {
        "id": "E68xpDYAr0nK"
      },
      "execution_count": 53,
      "outputs": []
    },
    {
      "cell_type": "code",
      "source": [
        "# defino los datos que forma parte del training\n",
        "# aqui se hace el undersampling de los CONTINUA\n",
        "# notar que para esto utilizo la SEGUNDA semilla\n",
        "\n",
        "set.seed(PARAM$semilla_primigenia, kind= \"L'Ecuyer-CMRG\")\n",
        "dataset[, azar := runif(nrow(dataset))]\n",
        "dataset[, training := 0L]\n",
        "\n",
        "dataset[\n",
        "  foto_mes %in% PARAM$train &\n",
        "    (azar <= PARAM$trainingstrategy$undersampling | clase_ternaria %in% c(\"BAJA+1\", \"BAJA+2\")),\n",
        "  training := 1L\n",
        "]"
      ],
      "metadata": {
        "id": "G8zeYUfSr3GF"
      },
      "execution_count": 54,
      "outputs": []
    },
    {
      "cell_type": "code",
      "source": [
        "# dejo los datos en el formato que necesita LightGBM\n",
        "\n",
        "dtrain <- lgb.Dataset(\n",
        "  data= data.matrix(dataset[training == 1L, campos_buenos, with= FALSE]),\n",
        "  label= dataset[training == 1L, clase01],\n",
        "  free_raw_data= FALSE\n",
        ")\n",
        "\n",
        "nrow(dtrain)\n",
        "ncol(dtrain)"
      ],
      "metadata": {
        "id": "se8_aKuMr5CV",
        "colab": {
          "base_uri": "https://localhost:8080/",
          "height": 52
        },
        "outputId": "463ceaf9-fab8-40c6-dfd2-f6d995f451c6"
      },
      "execution_count": 55,
      "outputs": [
        {
          "output_type": "display_data",
          "data": {
            "text/html": [
              "162155"
            ],
            "text/markdown": "162155",
            "text/latex": "162155",
            "text/plain": [
              "[1] 162155"
            ]
          },
          "metadata": {}
        },
        {
          "output_type": "display_data",
          "data": {
            "text/html": [
              "154"
            ],
            "text/markdown": "154",
            "text/latex": "154",
            "text/plain": [
              "[1] 154"
            ]
          },
          "metadata": {}
        }
      ]
    },
    {
      "cell_type": "code",
      "source": [
        "# Aqui comienza la configuracion de la Bayesian Optimization\n",
        "\n",
        "funcion_optimizar <- EstimarGanancia_AUC_lightgbm # la funcion que voy a maximizar\n",
        "\n",
        "configureMlr(show.learner.output= FALSE)\n",
        "\n",
        "# configuro la busqueda bayesiana,  los hiperparametros que se van a optimizar\n",
        "# por favor, no desesperarse por lo complejo\n",
        "\n",
        "obj.fun <- makeSingleObjectiveFunction(\n",
        "  fn= funcion_optimizar, # la funcion que voy a maximizar\n",
        "  minimize= FALSE, # estoy Maximizando la ganancia\n",
        "  noisy= TRUE,\n",
        "  par.set= PARAM$hypeparametertuning$hs, # definido al comienzo del programa\n",
        "  has.simple.signature= FALSE # paso los parametros en una lista\n",
        ")\n",
        "\n",
        "# cada 600 segundos guardo el resultado intermedio\n",
        "ctrl <- makeMBOControl(\n",
        "  save.on.disk.at.time= 600, # se graba cada 600 segundos\n",
        "  save.file.path= kbayesiana\n",
        ") # se graba cada 600 segundos\n",
        "\n",
        "# indico la cantidad de iteraciones que va a tener la Bayesian Optimization\n",
        "ctrl <- setMBOControlTermination(\n",
        "  ctrl,\n",
        "  iters= PARAM$hyperparametertuning$iteraciones\n",
        ") # cantidad de iteraciones\n",
        "\n",
        "# defino el método estandar para la creacion de los puntos iniciales,\n",
        "# los \"No Inteligentes\"\n",
        "ctrl <- setMBOControlInfill(ctrl, crit= makeMBOInfillCritEI())\n",
        "\n",
        "# establezco la funcion que busca el maximo\n",
        "surr.km <- makeLearner(\n",
        "  \"regr.km\",\n",
        "  predict.type= \"se\",\n",
        "  covtype= \"matern3_2\",\n",
        "  control= list(trace= TRUE)\n",
        ")\n"
      ],
      "metadata": {
        "id": "CsRYGGeN-1ID"
      },
      "execution_count": 56,
      "outputs": []
    },
    {
      "cell_type": "code",
      "source": [
        "bayesiana_salida"
      ],
      "metadata": {
        "colab": {
          "base_uri": "https://localhost:8080/",
          "height": 694
        },
        "id": "3iu64r5OaPnm",
        "outputId": "1553bdbd-aec1-4981-a878-3f62cc4ab35f"
      },
      "execution_count": 60,
      "outputs": [
        {
          "output_type": "display_data",
          "data": {
            "text/plain": [
              "Recommended parameters:\n",
              "learning_rate=0.01; feature_fraction=0.326; num_leaves=495; min_data_in_leaf=3009\n",
              "Objective: y = 0.910\n",
              "\n",
              "Optimization path\n",
              "16 + 40 entries in total, displaying last 10 (or less):\n",
              "   learning_rate feature_fraction num_leaves min_data_in_leaf         y dob eol\n",
              "47    0.07202615        0.4696431       2045             7440 0.9045831  31  NA\n",
              "48    0.15923120        0.7704516       2048             5672 0.9033531  32  NA\n",
              "49    0.14776849        0.9999721        860             5605 0.9031544  33  NA\n",
              "50    0.01002598        0.3260158        495             3009 0.9101331  34  NA\n",
              "51    0.27841742        0.9612380          8             7998 0.9034666  35  NA\n",
              "52    0.01044873        0.9997456       2038             1011 0.9044270  36  NA\n",
              "53    0.06245883        0.9986394        244             2918 0.9065355  37  NA\n",
              "54    0.07225672        0.7677021         25                5 0.8944578  38  NA\n",
              "55    0.01018406        0.1105011       1852             1835 0.9038835  39  NA\n",
              "56    0.07917216        0.1003723       2048             5880 0.9045292  40  NA\n",
              "   error.message exec.time            ei error.model train.time prop.type\n",
              "47          <NA>   160.612 -0.0005584681        <NA>      0.073 infill_ei\n",
              "48          <NA>    86.513 -0.0007174966        <NA>      0.036 infill_ei\n",
              "49          <NA>    90.109 -0.0004085007        <NA>      0.033 infill_ei\n",
              "50          <NA>   367.486 -0.0004907463        <NA>      0.041 infill_ei\n",
              "51          <NA>    66.719 -0.0003952135        <NA>      0.058 infill_ei\n",
              "52          <NA>   305.014 -0.0002288647        <NA>      0.039 infill_ei\n",
              "53          <NA>   120.332 -0.0002738381        <NA>      0.039 infill_ei\n",
              "54          <NA>    85.916 -0.0001548669        <NA>      0.038 infill_ei\n",
              "55          <NA>   416.696 -0.0005582660        <NA>      0.079 infill_ei\n",
              "56          <NA>   114.008 -0.0003798024        <NA>      0.057 infill_ei\n",
              "   propose.time           se      mean num_iterations\n",
              "47        0.465 0.0039765939 0.9068522            132\n",
              "48        0.416 0.0037220384 0.9077540             35\n",
              "49        0.418 0.0034958733 0.9068235             46\n",
              "50        0.417 0.0005466788 0.9100978            600\n",
              "51        0.675 0.0063073542 0.9029076             30\n",
              "52        0.428 0.0030581193 0.9069045            345\n",
              "53        0.409 0.0023340331 0.9082338             85\n",
              "54        0.416 0.0043362902 0.9040105             95\n",
              "55        0.425 0.0014534703 0.9100894            966\n",
              "56        0.724 0.0028768590 0.9079863            168"
            ]
          },
          "metadata": {}
        }
      ]
    },
    {
      "cell_type": "code",
      "source": [
        "# inicio la optimizacion bayesiana, retomando si ya existe\n",
        "\n",
        "if (!file.exists(kbayesiana)) {\n",
        "  bayesiana_salida <- mbo(obj.fun, learner= surr.km, control= ctrl)\n",
        "} else {\n",
        "  bayesiana_salida <- mboContinue(kbayesiana) # retomo en caso que ya exista\n",
        "}"
      ],
      "metadata": {
        "id": "TissqCCHD1uZ",
        "colab": {
          "base_uri": "https://localhost:8080/"
        },
        "outputId": "1c832889-8723-4bf1-90f3-b888535b2206"
      },
      "execution_count": 57,
      "outputs": [
        {
          "output_type": "stream",
          "name": "stderr",
          "text": [
            "Computing y column(s) for design. Not provided.\n",
            "\n",
            "Sat Sep 06 11:59:04 PM 2025\n",
            "\n",
            "AUC: 0.900056401612024\n",
            "\n",
            "Sun Sep 07 12:01:20 AM 2025\n",
            "\n",
            "AUC: 0.900459311261603\n",
            "\n",
            "Sun Sep 07 12:02:54 AM 2025\n",
            "\n",
            "AUC: 0.904479623928106\n",
            "\n",
            "Sun Sep 07 12:05:03 AM 2025\n",
            "\n",
            "AUC: 0.905978784070022\n",
            "\n",
            "Sun Sep 07 12:07:31 AM 2025\n",
            "\n",
            "AUC: 0.88450675761376\n",
            "\n",
            "Sun Sep 07 12:09:28 AM 2025\n",
            "\n",
            "AUC: 0.899526682419217\n",
            "\n",
            "Sun Sep 07 12:10:59 AM 2025\n",
            "\n",
            "AUC: 0.90016792519094\n",
            "\n",
            "Sun Sep 07 12:12:50 AM 2025\n",
            "\n",
            "AUC: 0.893688669792684\n",
            "\n",
            "Sun Sep 07 12:14:23 AM 2025\n",
            "\n",
            "AUC: 0.898428115722862\n",
            "\n",
            "Sun Sep 07 12:15:47 AM 2025\n",
            "\n",
            "AUC: 0.903595392642308\n",
            "\n",
            "Sun Sep 07 12:17:06 AM 2025\n",
            "\n",
            "AUC: 0.907912435525299\n",
            "\n",
            "Sun Sep 07 12:19:30 AM 2025\n",
            "\n",
            "AUC: 0.900364453036951\n",
            "\n",
            "Sun Sep 07 12:21:09 AM 2025\n",
            "\n",
            "AUC: 0.869093865946025\n",
            "\n",
            "Sun Sep 07 12:23:06 AM 2025\n",
            "\n",
            "AUC: 0.905859299813412\n",
            "\n",
            "Sun Sep 07 12:25:32 AM 2025\n",
            "\n",
            "AUC: 0.894921252320895\n",
            "\n",
            "Sun Sep 07 12:27:09 AM 2025\n",
            "\n",
            "AUC: 0.907158450418958\n",
            "\n",
            "[mbo] 0: learning_rate=0.231; feature_fraction=0.479; num_leaves=1621; min_data_in_leaf=1303 : y = 0.9 : 135.7 secs : initdesign\n",
            "\n",
            "[mbo] 0: learning_rate=0.216; feature_fraction=0.642; num_leaves=1021; min_data_in_leaf=3683 : y = 0.9 : 94.5 secs : initdesign\n",
            "\n",
            "[mbo] 0: learning_rate=0.124; feature_fraction=0.511; num_leaves=1483; min_data_in_leaf=5383 : y = 0.904 : 128.5 secs : initdesign\n",
            "\n",
            "[mbo] 0: learning_rate=0.0327; feature_fraction=0.892; num_leaves=752; min_data_in_leaf=4978 : y = 0.906 : 148.1 secs : initdesign\n",
            "\n",
            "[mbo] 0: learning_rate=0.359; feature_fraction=0.973; num_leaves=270; min_data_in_leaf=760 : y = 0.885 : 116.8 secs : initdesign\n",
            "\n",
            "[mbo] 0: learning_rate=0.314; feature_fraction=0.314; num_leaves=1865; min_data_in_leaf=7398 : y = 0.9 : 91.7 secs : initdesign\n",
            "\n",
            "[mbo] 0: learning_rate=0.28; feature_fraction=0.368; num_leaves=1225; min_data_in_leaf=1960 : y = 0.9 : 110.5 secs : initdesign\n",
            "\n",
            "[mbo] 0: learning_rate=0.451; feature_fraction=0.867; num_leaves=1038; min_data_in_leaf=2195 : y = 0.894 : 93.5 secs : initdesign\n",
            "\n",
            "[mbo] 0: learning_rate=0.326; feature_fraction=0.824; num_leaves=157; min_data_in_leaf=4064 : y = 0.898 : 84.0 secs : initdesign\n",
            "\n",
            "[mbo] 0: learning_rate=0.19; feature_fraction=0.716; num_leaves=775; min_data_in_leaf=7972 : y = 0.904 : 78.8 secs : initdesign\n",
            "\n",
            "[mbo] 0: learning_rate=0.0782; feature_fraction=0.146; num_leaves=1754; min_data_in_leaf=2827 : y = 0.908 : 143.7 secs : initdesign\n",
            "\n",
            "[mbo] 0: learning_rate=0.408; feature_fraction=0.574; num_leaves=1993; min_data_in_leaf=6269 : y = 0.9 : 99.4 secs : initdesign\n",
            "\n",
            "[mbo] 0: learning_rate=0.38; feature_fraction=0.199; num_leaves=612; min_data_in_leaf=236 : y = 0.869 : 117.1 secs : initdesign\n",
            "\n",
            "[mbo] 0: learning_rate=0.0492; feature_fraction=0.231; num_leaves=61; min_data_in_leaf=6928 : y = 0.906 : 145.9 secs : initdesign\n",
            "\n",
            "[mbo] 0: learning_rate=0.497; feature_fraction=0.39; num_leaves=454; min_data_in_leaf=5573 : y = 0.895 : 97.2 secs : initdesign\n",
            "\n",
            "[mbo] 0: learning_rate=0.144; feature_fraction=0.761; num_leaves=1285; min_data_in_leaf=3465 : y = 0.907 : 93.9 secs : initdesign\n",
            "\n",
            "Saved the current state after iteration 1 in the file bayesiana.RDATA.\n",
            "\n",
            "Sun Sep 07 12:28:44 AM 2025\n",
            "\n",
            "AUC: 0.906865966286353\n",
            "\n",
            "[mbo] 1: learning_rate=0.0525; feature_fraction=0.978; num_leaves=2007; min_data_in_leaf=2329 : y = 0.907 : 145.3 secs : infill_ei\n",
            "\n",
            "Sun Sep 07 12:31:10 AM 2025\n",
            "\n",
            "AUC: 0.90684717072997\n",
            "\n",
            "[mbo] 2: learning_rate=0.0104; feature_fraction=0.825; num_leaves=1490; min_data_in_leaf=2855 : y = 0.907 : 304.8 secs : infill_ei\n",
            "\n",
            "Sun Sep 07 12:36:15 AM 2025\n",
            "\n",
            "AUC: 0.905655064662342\n",
            "\n",
            "[mbo] 3: learning_rate=0.0484; feature_fraction=1; num_leaves=8; min_data_in_leaf=6648 : y = 0.906 : 109.1 secs : infill_ei\n",
            "\n",
            "Sun Sep 07 12:38:04 AM 2025\n",
            "\n",
            "AUC: 0.906531929540299\n",
            "\n",
            "[mbo] 4: learning_rate=0.0857; feature_fraction=0.679; num_leaves=8; min_data_in_leaf=1982 : y = 0.907 : 71.4 secs : infill_ei\n",
            "\n",
            "Saved the current state after iteration 5 in the file bayesiana.RDATA.\n",
            "\n",
            "Sun Sep 07 12:39:16 AM 2025\n",
            "\n",
            "AUC: 0.907583802868028\n",
            "\n",
            "[mbo] 5: learning_rate=0.011; feature_fraction=0.114; num_leaves=2048; min_data_in_leaf=3371 : y = 0.908 : 437.8 secs : infill_ei\n",
            "\n",
            "Sun Sep 07 12:46:34 AM 2025\n",
            "\n",
            "AUC: 0.90747972560717\n",
            "\n",
            "[mbo] 6: learning_rate=0.0104; feature_fraction=0.771; num_leaves=8; min_data_in_leaf=3532 : y = 0.907 : 395.8 secs : infill_ei\n",
            "\n",
            "Saved the current state after iteration 7 in the file bayesiana.RDATA.\n",
            "\n",
            "Sun Sep 07 12:53:11 AM 2025\n",
            "\n",
            "AUC: 0.907322161700877\n",
            "\n",
            "[mbo] 7: learning_rate=0.0822; feature_fraction=0.789; num_leaves=1915; min_data_in_leaf=3316 : y = 0.907 : 117.2 secs : infill_ei\n",
            "\n",
            "Sun Sep 07 12:55:08 AM 2025\n",
            "\n",
            "AUC: 0.907267143582622\n",
            "\n",
            "[mbo] 8: learning_rate=0.0102; feature_fraction=0.999; num_leaves=1201; min_data_in_leaf=4912 : y = 0.907 : 286.2 secs : infill_ei\n",
            "\n",
            "Sun Sep 07 12:59:55 AM 2025\n",
            "\n",
            "AUC: 0.902339853959827\n",
            "\n",
            "[mbo] 9: learning_rate=0.135; feature_fraction=0.992; num_leaves=1452; min_data_in_leaf=2334 : y = 0.902 : 106.8 secs : infill_ei\n",
            "\n",
            "Sun Sep 07 01:01:42 AM 2025\n",
            "\n",
            "AUC: 0.908694024392735\n",
            "\n",
            "[mbo] 10: learning_rate=0.01; feature_fraction=0.256; num_leaves=1291; min_data_in_leaf=3566 : y = 0.909 : 407.3 secs : infill_ei\n",
            "\n",
            "Saved the current state after iteration 11 in the file bayesiana.RDATA.\n",
            "\n",
            "Sun Sep 07 01:08:30 AM 2025\n",
            "\n",
            "AUC: 0.899973690128796\n",
            "\n",
            "[mbo] 11: learning_rate=0.155; feature_fraction=0.119; num_leaves=20; min_data_in_leaf=3926 : y = 0.9 : 96.9 secs : infill_ei\n",
            "\n",
            "Sun Sep 07 01:10:08 AM 2025\n",
            "\n",
            "AUC: 0.903892421774036\n",
            "\n",
            "[mbo] 12: learning_rate=0.01; feature_fraction=0.727; num_leaves=390; min_data_in_leaf=7989 : y = 0.904 : 297.7 secs : infill_ei\n",
            "\n",
            "Sun Sep 07 01:15:06 AM 2025\n",
            "\n",
            "AUC: 0.908075034470532\n",
            "\n",
            "[mbo] 13: learning_rate=0.0851; feature_fraction=0.333; num_leaves=1994; min_data_in_leaf=4760 : y = 0.908 : 124.0 secs : infill_ei\n",
            "\n",
            "Sun Sep 07 01:17:10 AM 2025\n",
            "\n",
            "AUC: 0.909511321483915\n",
            "\n",
            "[mbo] 14: learning_rate=0.0114; feature_fraction=0.293; num_leaves=2036; min_data_in_leaf=1903 : y = 0.91 : 302.7 secs : infill_ei\n",
            "\n",
            "Saved the current state after iteration 15 in the file bayesiana.RDATA.\n",
            "\n",
            "Sun Sep 07 01:22:13 AM 2025\n",
            "\n",
            "AUC: 0.909554512528603\n",
            "\n",
            "[mbo] 15: learning_rate=0.0102; feature_fraction=0.41; num_leaves=1934; min_data_in_leaf=2447 : y = 0.91 : 367.8 secs : infill_ei\n",
            "\n",
            "Sun Sep 07 01:28:22 AM 2025\n",
            "\n",
            "AUC: 0.906014091640903\n",
            "\n",
            "[mbo] 16: learning_rate=0.0103; feature_fraction=0.388; num_leaves=2048; min_data_in_leaf=3 : y = 0.906 : 1408.7 secs : infill_ei\n",
            "\n",
            "Saved the current state after iteration 17 in the file bayesiana.RDATA.\n",
            "\n",
            "Sun Sep 07 01:51:51 AM 2025\n",
            "\n",
            "AUC: 0.907172196096964\n",
            "\n",
            "[mbo] 17: learning_rate=0.0109; feature_fraction=0.638; num_leaves=1251; min_data_in_leaf=2622 : y = 0.907 : 341.7 secs : infill_ei\n",
            "\n",
            "Sun Sep 07 01:57:33 AM 2025\n",
            "\n",
            "AUC: 0.906375864757763\n",
            "\n",
            "[mbo] 18: learning_rate=0.0102; feature_fraction=0.38; num_leaves=1783; min_data_in_leaf=4034 : y = 0.906 : 398.0 secs : infill_ei\n",
            "\n",
            "Saved the current state after iteration 19 in the file bayesiana.RDATA.\n",
            "\n",
            "Sun Sep 07 02:04:12 AM 2025\n",
            "\n",
            "AUC: 0.906604512635967\n",
            "\n",
            "[mbo] 19: learning_rate=0.0887; feature_fraction=0.305; num_leaves=1999; min_data_in_leaf=2447 : y = 0.907 : 130.4 secs : infill_ei\n",
            "\n",
            "Sun Sep 07 02:06:22 AM 2025\n",
            "\n",
            "AUC: 0.905638602899963\n",
            "\n",
            "[mbo] 20: learning_rate=0.0511; feature_fraction=0.101; num_leaves=17; min_data_in_leaf=3215 : y = 0.906 : 148.7 secs : infill_ei\n",
            "\n",
            "Sun Sep 07 02:08:51 AM 2025\n",
            "\n",
            "AUC: 0.909287151659546\n",
            "\n",
            "[mbo] 21: learning_rate=0.0101; feature_fraction=0.239; num_leaves=486; min_data_in_leaf=2387 : y = 0.909 : 356.0 secs : infill_ei\n",
            "\n",
            "Saved the current state after iteration 22 in the file bayesiana.RDATA.\n",
            "\n",
            "Sun Sep 07 02:14:48 AM 2025\n",
            "\n",
            "AUC: 0.90670406275653\n",
            "\n",
            "[mbo] 22: learning_rate=0.01; feature_fraction=0.336; num_leaves=9; min_data_in_leaf=1351 : y = 0.907 : 494.2 secs : infill_ei\n",
            "\n",
            "Sun Sep 07 02:23:03 AM 2025\n",
            "\n",
            "AUC: 0.905874580531731\n",
            "\n",
            "[mbo] 23: learning_rate=0.0778; feature_fraction=0.177; num_leaves=1166; min_data_in_leaf=4032 : y = 0.906 : 135.1 secs : infill_ei\n",
            "\n",
            "Saved the current state after iteration 24 in the file bayesiana.RDATA.\n",
            "\n",
            "Sun Sep 07 02:25:19 AM 2025\n",
            "\n",
            "AUC: 0.908200865188788\n",
            "\n",
            "[mbo] 24: learning_rate=0.0432; feature_fraction=0.261; num_leaves=1992; min_data_in_leaf=2477 : y = 0.908 : 172.1 secs : infill_ei\n",
            "\n",
            "Sun Sep 07 02:28:11 AM 2025\n",
            "\n",
            "AUC: 0.905939424211994\n",
            "\n",
            "[mbo] 25: learning_rate=0.01; feature_fraction=0.268; num_leaves=2047; min_data_in_leaf=6561 : y = 0.906 : 398.7 secs : infill_ei\n",
            "\n",
            "Sun Sep 07 02:34:51 AM 2025\n",
            "\n",
            "AUC: 0.908723342988166\n",
            "\n",
            "[mbo] 26: learning_rate=0.0101; feature_fraction=0.807; num_leaves=290; min_data_in_leaf=2598 : y = 0.909 : 312.6 secs : infill_ei\n",
            "\n",
            "Saved the current state after iteration 27 in the file bayesiana.RDATA.\n",
            "\n",
            "Sun Sep 07 02:40:04 AM 2025\n",
            "\n",
            "AUC: 0.907986966341709\n",
            "\n",
            "[mbo] 27: learning_rate=0.01; feature_fraction=0.957; num_leaves=140; min_data_in_leaf=2082 : y = 0.908 : 349.1 secs : infill_ei\n",
            "\n",
            "Sun Sep 07 02:45:53 AM 2025\n",
            "\n",
            "AUC: 0.905398025139723\n",
            "\n",
            "[mbo] 28: learning_rate=0.0107; feature_fraction=0.995; num_leaves=2048; min_data_in_leaf=5072 : y = 0.905 : 278.4 secs : infill_ei\n",
            "\n",
            "Saved the current state after iteration 29 in the file bayesiana.RDATA.\n",
            "\n",
            "Sun Sep 07 02:50:32 AM 2025\n",
            "\n",
            "AUC: 0.909676192847282\n",
            "\n",
            "[mbo] 29: learning_rate=0.01; feature_fraction=0.34; num_leaves=424; min_data_in_leaf=3637 : y = 0.91 : 393.5 secs : infill_ei\n",
            "\n",
            "Sun Sep 07 02:57:06 AM 2025\n",
            "\n",
            "AUC: 0.907277969988632\n",
            "\n",
            "[mbo] 30: learning_rate=0.01; feature_fraction=0.128; num_leaves=913; min_data_in_leaf=5556 : y = 0.907 : 417.0 secs : infill_ei\n",
            "\n",
            "Saved the current state after iteration 31 in the file bayesiana.RDATA.\n",
            "\n",
            "Sun Sep 07 03:04:04 AM 2025\n",
            "\n",
            "AUC: 0.904583090553497\n",
            "\n",
            "[mbo] 31: learning_rate=0.072; feature_fraction=0.47; num_leaves=2045; min_data_in_leaf=7440 : y = 0.905 : 160.6 secs : infill_ei\n",
            "\n",
            "Sun Sep 07 03:06:45 AM 2025\n",
            "\n",
            "AUC: 0.903353114554833\n",
            "\n",
            "[mbo] 32: learning_rate=0.159; feature_fraction=0.77; num_leaves=2048; min_data_in_leaf=5672 : y = 0.903 : 86.5 secs : infill_ei\n",
            "\n",
            "Sun Sep 07 03:08:12 AM 2025\n",
            "\n",
            "AUC: 0.903154381285186\n",
            "\n",
            "[mbo] 33: learning_rate=0.148; feature_fraction=1; num_leaves=860; min_data_in_leaf=5605 : y = 0.903 : 90.1 secs : infill_ei\n",
            "\n",
            "Sun Sep 07 03:09:43 AM 2025\n",
            "\n",
            "AUC: 0.910133115969025\n",
            "\n",
            "[mbo] 34: learning_rate=0.01; feature_fraction=0.326; num_leaves=495; min_data_in_leaf=3009 : y = 0.91 : 367.5 secs : infill_ei\n",
            "\n",
            "Saved the current state after iteration 35 in the file bayesiana.RDATA.\n",
            "\n",
            "Sun Sep 07 03:15:51 AM 2025\n",
            "\n",
            "AUC: 0.903466585155891\n",
            "\n",
            "[mbo] 35: learning_rate=0.278; feature_fraction=0.961; num_leaves=8; min_data_in_leaf=7998 : y = 0.903 : 66.7 secs : infill_ei\n",
            "\n",
            "Sun Sep 07 03:16:58 AM 2025\n",
            "\n",
            "AUC: 0.904426990378231\n",
            "\n",
            "[mbo] 36: learning_rate=0.0104; feature_fraction=1; num_leaves=2038; min_data_in_leaf=1011 : y = 0.904 : 305.0 secs : infill_ei\n",
            "\n",
            "Sun Sep 07 03:22:04 AM 2025\n",
            "\n",
            "AUC: 0.906535525668671\n",
            "\n",
            "[mbo] 37: learning_rate=0.0625; feature_fraction=0.999; num_leaves=244; min_data_in_leaf=2918 : y = 0.907 : 120.3 secs : infill_ei\n",
            "\n",
            "Sun Sep 07 03:24:05 AM 2025\n",
            "\n",
            "AUC: 0.894457784262014\n",
            "\n",
            "[mbo] 38: learning_rate=0.0723; feature_fraction=0.768; num_leaves=25; min_data_in_leaf=5 : y = 0.894 : 85.9 secs : infill_ei\n",
            "\n",
            "Sun Sep 07 03:25:31 AM 2025\n",
            "\n",
            "AUC: 0.903883514823889\n",
            "\n",
            "[mbo] 39: learning_rate=0.0102; feature_fraction=0.111; num_leaves=1852; min_data_in_leaf=1835 : y = 0.904 : 416.7 secs : infill_ei\n",
            "\n",
            "Saved the current state after iteration 40 in the file bayesiana.RDATA.\n",
            "\n",
            "Sun Sep 07 03:32:29 AM 2025\n",
            "\n",
            "AUC: 0.90452917383207\n",
            "\n",
            "[mbo] 40: learning_rate=0.0792; feature_fraction=0.1; num_leaves=2048; min_data_in_leaf=5880 : y = 0.905 : 114.0 secs : infill_ei\n",
            "\n",
            "Saved the final state in the file bayesiana.RDATA\n",
            "\n"
          ]
        }
      ]
    },
    {
      "cell_type": "code",
      "source": [
        "# almaceno los resultados de la Bayesian Optimization\n",
        "# y capturo los mejores hiperparametros encontrados\n",
        "\n",
        "tb_bayesiana <- as.data.table(bayesiana_salida$opt.path)\n",
        "\n",
        "tb_bayesiana[, iter:= .I]\n",
        "# ordeno en forma descendente por AUC = y\n",
        "setorder(tb_bayesiana, -y, -num_iterations)\n",
        "\n",
        "# grabo para eventualmente poder utilizarlos en OTRA corrida\n",
        "fwrite( tb_bayesiana,\n",
        "  file= \"BO_log.txt\",\n",
        "  sep= \"\\t\"\n",
        ")\n",
        "\n",
        "# los mejores hiperparámetros son los que quedaron en el registro 1 de la tabla\n",
        "PARAM$out$lgbm$mejores_hiperparametros <- tb_bayesiana[\n",
        "  1, # el primero es el de mejor AUC\n",
        "  list(learning_rate, feature_fraction, num_leaves, min_data_in_leaf, num_iterations)\n",
        "]\n",
        "\n",
        "print(PARAM$out$lgbm$mejores_hiperparametros)"
      ],
      "metadata": {
        "id": "aC-ls8JfNDTf",
        "colab": {
          "base_uri": "https://localhost:8080/"
        },
        "outputId": "72095cf6-e0c1-483d-ae51-5bbbb69bd887"
      },
      "execution_count": 58,
      "outputs": [
        {
          "output_type": "stream",
          "name": "stdout",
          "text": [
            "   learning_rate feature_fraction num_leaves min_data_in_leaf num_iterations\n",
            "           <num>            <num>      <int>            <int>          <int>\n",
            "1:    0.01002598        0.3260158        495             3009            600\n"
          ]
        }
      ]
    },
    {
      "cell_type": "code",
      "source": [
        "tb_bayesiana"
      ],
      "metadata": {
        "colab": {
          "base_uri": "https://localhost:8080/",
          "height": 1000
        },
        "id": "CT6geGQaai5R",
        "outputId": "9c2b47ae-82d3-4c88-9747-b723f3fb6712"
      },
      "execution_count": 61,
      "outputs": [
        {
          "output_type": "display_data",
          "data": {
            "text/html": [
              "<table class=\"dataframe\">\n",
              "<caption>A data.table: 56 × 18</caption>\n",
              "<thead>\n",
              "\t<tr><th scope=col>learning_rate</th><th scope=col>feature_fraction</th><th scope=col>num_leaves</th><th scope=col>min_data_in_leaf</th><th scope=col>y</th><th scope=col>dob</th><th scope=col>eol</th><th scope=col>error.message</th><th scope=col>exec.time</th><th scope=col>ei</th><th scope=col>error.model</th><th scope=col>train.time</th><th scope=col>prop.type</th><th scope=col>propose.time</th><th scope=col>se</th><th scope=col>mean</th><th scope=col>num_iterations</th><th scope=col>iter</th></tr>\n",
              "\t<tr><th scope=col>&lt;dbl&gt;</th><th scope=col>&lt;dbl&gt;</th><th scope=col>&lt;int&gt;</th><th scope=col>&lt;int&gt;</th><th scope=col>&lt;dbl&gt;</th><th scope=col>&lt;int&gt;</th><th scope=col>&lt;int&gt;</th><th scope=col>&lt;chr&gt;</th><th scope=col>&lt;dbl&gt;</th><th scope=col>&lt;dbl&gt;</th><th scope=col>&lt;chr&gt;</th><th scope=col>&lt;dbl&gt;</th><th scope=col>&lt;chr&gt;</th><th scope=col>&lt;dbl&gt;</th><th scope=col>&lt;dbl&gt;</th><th scope=col>&lt;dbl&gt;</th><th scope=col>&lt;int&gt;</th><th scope=col>&lt;int&gt;</th></tr>\n",
              "</thead>\n",
              "<tbody>\n",
              "\t<tr><td>0.01002598</td><td>0.3260158</td><td> 495</td><td>3009</td><td>0.9101331</td><td>34</td><td>NA</td><td>NA</td><td> 367.486</td><td>-0.0004907463</td><td>NA</td><td>0.041</td><td>infill_ei </td><td>0.417</td><td>0.0005466788</td><td>0.9100978</td><td> 600</td><td>50</td></tr>\n",
              "\t<tr><td>0.01004850</td><td>0.3399774</td><td> 424</td><td>3637</td><td>0.9096762</td><td>29</td><td>NA</td><td>NA</td><td> 393.504</td><td>-0.0005408575</td><td>NA</td><td>0.055</td><td>infill_ei </td><td>0.405</td><td>0.0017768177</td><td>0.9091886</td><td> 662</td><td>45</td></tr>\n",
              "\t<tr><td>0.01017813</td><td>0.4096358</td><td>1934</td><td>2447</td><td>0.9095545</td><td>15</td><td>NA</td><td>NA</td><td> 367.849</td><td>-0.0006851308</td><td>NA</td><td>0.022</td><td>infill_ei </td><td>0.371</td><td>0.0013563509</td><td>0.9097785</td><td> 501</td><td>31</td></tr>\n",
              "\t<tr><td>0.01136271</td><td>0.2933043</td><td>2036</td><td>1903</td><td>0.9095113</td><td>14</td><td>NA</td><td>NA</td><td> 302.697</td><td>-0.0027563411</td><td>NA</td><td>0.045</td><td>infill_ei </td><td>0.356</td><td>0.0040360644</td><td>0.9106248</td><td> 437</td><td>30</td></tr>\n",
              "\t<tr><td>0.01006376</td><td>0.2387625</td><td> 486</td><td>2387</td><td>0.9092872</td><td>21</td><td>NA</td><td>NA</td><td> 355.963</td><td>-0.0014145542</td><td>NA</td><td>0.023</td><td>infill_ei </td><td>0.384</td><td>0.0020312794</td><td>0.9105660</td><td> 643</td><td>37</td></tr>\n",
              "\t<tr><td>0.01009366</td><td>0.8074528</td><td> 290</td><td>2598</td><td>0.9087233</td><td>26</td><td>NA</td><td>NA</td><td> 312.579</td><td>-0.0012325561</td><td>NA</td><td>0.030</td><td>infill_ei </td><td>0.675</td><td>0.0025645455</td><td>0.9099492</td><td> 530</td><td>42</td></tr>\n",
              "\t<tr><td>0.01001760</td><td>0.2559147</td><td>1291</td><td>3566</td><td>0.9086940</td><td>10</td><td>NA</td><td>NA</td><td> 407.296</td><td>-0.0025229749</td><td>NA</td><td>0.032</td><td>infill_ei </td><td>0.371</td><td>0.0031572101</td><td>0.9099380</td><td> 777</td><td>26</td></tr>\n",
              "\t<tr><td>0.04324767</td><td>0.2606199</td><td>1992</td><td>2477</td><td>0.9082009</td><td>24</td><td>NA</td><td>NA</td><td> 172.117</td><td>-0.0007588850</td><td>NA</td><td>0.032</td><td>infill_ei </td><td>0.546</td><td>0.0022603877</td><td>0.9092527</td><td> 182</td><td>40</td></tr>\n",
              "\t<tr><td>0.08510318</td><td>0.3326360</td><td>1994</td><td>4760</td><td>0.9080750</td><td>13</td><td>NA</td><td>NA</td><td> 123.993</td><td>-0.0023409636</td><td>NA</td><td>0.023</td><td>infill_ei </td><td>0.386</td><td>0.0039017818</td><td>0.9100709</td><td>  79</td><td>29</td></tr>\n",
              "\t<tr><td>0.01001401</td><td>0.9573849</td><td> 140</td><td>2082</td><td>0.9079870</td><td>27</td><td>NA</td><td>NA</td><td> 349.071</td><td>-0.0011049952</td><td>NA</td><td>0.030</td><td>infill_ei </td><td>0.392</td><td>0.0019072275</td><td>0.9101654</td><td> 563</td><td>43</td></tr>\n",
              "\t<tr><td>0.07824779</td><td>0.1463142</td><td>1754</td><td>2827</td><td>0.9079124</td><td> 0</td><td>NA</td><td>NA</td><td> 143.672</td><td>           NA</td><td>NA</td><td>   NA</td><td>initdesign</td><td>   NA</td><td>          NA</td><td>       NA</td><td> 181</td><td>11</td></tr>\n",
              "\t<tr><td>0.01101837</td><td>0.1136201</td><td>2048</td><td>3371</td><td>0.9075838</td><td> 5</td><td>NA</td><td>NA</td><td> 437.773</td><td>-0.0017075284</td><td>NA</td><td>0.021</td><td>infill_ei </td><td>0.336</td><td>0.0042717110</td><td>0.9079192</td><td>1096</td><td>21</td></tr>\n",
              "\t<tr><td>0.01035158</td><td>0.7707240</td><td>   8</td><td>3532</td><td>0.9074797</td><td> 6</td><td>NA</td><td>NA</td><td> 395.846</td><td>-0.0021409662</td><td>NA</td><td>0.047</td><td>infill_ei </td><td>0.364</td><td>0.0033156583</td><td>0.9093155</td><td>1337</td><td>22</td></tr>\n",
              "\t<tr><td>0.08220079</td><td>0.7894305</td><td>1915</td><td>3316</td><td>0.9073222</td><td> 7</td><td>NA</td><td>NA</td><td> 117.184</td><td>-0.0015116955</td><td>NA</td><td>0.039</td><td>infill_ei </td><td>0.598</td><td>0.0021706820</td><td>0.9089934</td><td>  84</td><td>23</td></tr>\n",
              "\t<tr><td>0.01000319</td><td>0.1281316</td><td> 913</td><td>5556</td><td>0.9072780</td><td>30</td><td>NA</td><td>NA</td><td> 416.994</td><td>-0.0005527074</td><td>NA</td><td>0.040</td><td>infill_ei </td><td>0.417</td><td>0.0023564493</td><td>0.9087616</td><td>1066</td><td>46</td></tr>\n",
              "\t<tr><td>0.01015081</td><td>0.9994132</td><td>1201</td><td>4912</td><td>0.9072671</td><td> 8</td><td>NA</td><td>NA</td><td> 286.162</td><td>-0.0016741885</td><td>NA</td><td>0.034</td><td>infill_ei </td><td>0.350</td><td>0.0037594060</td><td>0.9082492</td><td> 574</td><td>24</td></tr>\n",
              "\t<tr><td>0.01087562</td><td>0.6382625</td><td>1251</td><td>2622</td><td>0.9071722</td><td>17</td><td>NA</td><td>NA</td><td> 341.749</td><td>-0.0008516123</td><td>NA</td><td>0.038</td><td>infill_ei </td><td>0.374</td><td>0.0016506556</td><td>0.9099102</td><td> 569</td><td>33</td></tr>\n",
              "\t<tr><td>0.14403829</td><td>0.7610390</td><td>1285</td><td>3465</td><td>0.9071585</td><td> 0</td><td>NA</td><td>NA</td><td>  93.910</td><td>           NA</td><td>NA</td><td>   NA</td><td>initdesign</td><td>   NA</td><td>          NA</td><td>       NA</td><td>  34</td><td>16</td></tr>\n",
              "\t<tr><td>0.05252468</td><td>0.9783253</td><td>2007</td><td>2329</td><td>0.9068660</td><td> 1</td><td>NA</td><td>NA</td><td> 145.281</td><td>-0.0061923394</td><td>NA</td><td>0.043</td><td>infill_ei </td><td>0.360</td><td>0.0054895902</td><td>0.9136915</td><td> 114</td><td>17</td></tr>\n",
              "\t<tr><td>0.01038579</td><td>0.8254673</td><td>1490</td><td>2855</td><td>0.9068472</td><td> 2</td><td>NA</td><td>NA</td><td> 304.800</td><td>-0.0025638475</td><td>NA</td><td>0.024</td><td>infill_ei </td><td>0.362</td><td>0.0033950120</td><td>0.9098861</td><td> 526</td><td>18</td></tr>\n",
              "\t<tr><td>0.01001454</td><td>0.3358575</td><td>   9</td><td>1351</td><td>0.9067041</td><td>22</td><td>NA</td><td>NA</td><td> 494.174</td><td>-0.0009147414</td><td>NA</td><td>0.050</td><td>infill_ei </td><td>0.638</td><td>0.0037560505</td><td>0.9081921</td><td>1091</td><td>38</td></tr>\n",
              "\t<tr><td>0.08871566</td><td>0.3051944</td><td>1999</td><td>2447</td><td>0.9066045</td><td>19</td><td>NA</td><td>NA</td><td> 130.369</td><td>-0.0006629178</td><td>NA</td><td>0.038</td><td>infill_ei </td><td>0.376</td><td>0.0011900989</td><td>0.9098927</td><td>  73</td><td>35</td></tr>\n",
              "\t<tr><td>0.06245883</td><td>0.9986394</td><td> 244</td><td>2918</td><td>0.9065355</td><td>37</td><td>NA</td><td>NA</td><td> 120.332</td><td>-0.0002738381</td><td>NA</td><td>0.039</td><td>infill_ei </td><td>0.409</td><td>0.0023340331</td><td>0.9082338</td><td>  85</td><td>53</td></tr>\n",
              "\t<tr><td>0.08570944</td><td>0.6790307</td><td>   8</td><td>1982</td><td>0.9065319</td><td> 4</td><td>NA</td><td>NA</td><td>  71.414</td><td>-0.0020617984</td><td>NA</td><td>0.020</td><td>infill_ei </td><td>0.360</td><td>0.0057814438</td><td>0.9074054</td><td>  75</td><td>20</td></tr>\n",
              "\t<tr><td>0.01018450</td><td>0.3798573</td><td>1783</td><td>4034</td><td>0.9063759</td><td>18</td><td>NA</td><td>NA</td><td> 397.963</td><td>-0.0004381743</td><td>NA</td><td>0.047</td><td>infill_ei </td><td>0.392</td><td>0.0018087165</td><td>0.9088920</td><td> 625</td><td>34</td></tr>\n",
              "\t<tr><td>0.01026735</td><td>0.3884355</td><td>2048</td><td>   3</td><td>0.9060141</td><td>16</td><td>NA</td><td>NA</td><td>1408.750</td><td>-0.0004848859</td><td>NA</td><td>0.022</td><td>infill_ei </td><td>0.385</td><td>0.0038773195</td><td>0.9065401</td><td>1173</td><td>32</td></tr>\n",
              "\t<tr><td>0.03272002</td><td>0.8920879</td><td> 752</td><td>4978</td><td>0.9059788</td><td> 0</td><td>NA</td><td>NA</td><td> 148.108</td><td>           NA</td><td>NA</td><td>   NA</td><td>initdesign</td><td>   NA</td><td>          NA</td><td>       NA</td><td> 200</td><td> 4</td></tr>\n",
              "\t<tr><td>0.01000447</td><td>0.2684121</td><td>2047</td><td>6561</td><td>0.9059394</td><td>25</td><td>NA</td><td>NA</td><td> 398.706</td><td>-0.0006502782</td><td>NA</td><td>0.027</td><td>infill_ei </td><td>0.397</td><td>0.0053401030</td><td>0.9053217</td><td> 804</td><td>41</td></tr>\n",
              "\t<tr><td>0.07779854</td><td>0.1767907</td><td>1166</td><td>4032</td><td>0.9058746</td><td>23</td><td>NA</td><td>NA</td><td> 135.076</td><td>-0.0012953011</td><td>NA</td><td>0.043</td><td>infill_ei </td><td>0.658</td><td>0.0034476639</td><td>0.9093912</td><td> 167</td><td>39</td></tr>\n",
              "\t<tr><td>0.04915386</td><td>0.2305182</td><td>  61</td><td>6928</td><td>0.9058593</td><td> 0</td><td>NA</td><td>NA</td><td> 145.903</td><td>           NA</td><td>NA</td><td>   NA</td><td>initdesign</td><td>   NA</td><td>          NA</td><td>       NA</td><td> 185</td><td>14</td></tr>\n",
              "\t<tr><td>0.04842380</td><td>0.9996379</td><td>   8</td><td>6648</td><td>0.9056551</td><td> 3</td><td>NA</td><td>NA</td><td> 109.053</td><td>-0.0024992528</td><td>NA</td><td>0.018</td><td>infill_ei </td><td>0.351</td><td>0.0053127089</td><td>0.9086331</td><td> 194</td><td>19</td></tr>\n",
              "\t<tr><td>0.05113617</td><td>0.1012481</td><td>  17</td><td>3215</td><td>0.9056386</td><td>20</td><td>NA</td><td>NA</td><td> 148.678</td><td>-0.0008132299</td><td>NA</td><td>0.031</td><td>infill_ei </td><td>0.369</td><td>0.0034785213</td><td>0.9081967</td><td> 282</td><td>36</td></tr>\n",
              "\t<tr><td>0.01073196</td><td>0.9945349</td><td>2048</td><td>5072</td><td>0.9053980</td><td>28</td><td>NA</td><td>NA</td><td> 278.440</td><td>-0.0007879091</td><td>NA</td><td>0.065</td><td>infill_ei </td><td>0.404</td><td>0.0031298217</td><td>0.9084900</td><td> 547</td><td>44</td></tr>\n",
              "\t<tr><td>0.07202615</td><td>0.4696431</td><td>2045</td><td>7440</td><td>0.9045831</td><td>31</td><td>NA</td><td>NA</td><td> 160.612</td><td>-0.0005584681</td><td>NA</td><td>0.073</td><td>infill_ei </td><td>0.465</td><td>0.0039765939</td><td>0.9068522</td><td> 132</td><td>47</td></tr>\n",
              "\t<tr><td>0.07917216</td><td>0.1003723</td><td>2048</td><td>5880</td><td>0.9045292</td><td>40</td><td>NA</td><td>NA</td><td> 114.008</td><td>-0.0003798024</td><td>NA</td><td>0.057</td><td>infill_ei </td><td>0.724</td><td>0.0028768590</td><td>0.9079863</td><td> 168</td><td>56</td></tr>\n",
              "\t<tr><td>0.12449977</td><td>0.5109454</td><td>1483</td><td>5383</td><td>0.9044796</td><td> 0</td><td>NA</td><td>NA</td><td> 128.497</td><td>           NA</td><td>NA</td><td>   NA</td><td>initdesign</td><td>   NA</td><td>          NA</td><td>       NA</td><td>  51</td><td> 3</td></tr>\n",
              "\t<tr><td>0.01044873</td><td>0.9997456</td><td>2038</td><td>1011</td><td>0.9044270</td><td>36</td><td>NA</td><td>NA</td><td> 305.014</td><td>-0.0002288647</td><td>NA</td><td>0.039</td><td>infill_ei </td><td>0.428</td><td>0.0030581193</td><td>0.9069045</td><td> 345</td><td>52</td></tr>\n",
              "\t<tr><td>0.01001458</td><td>0.7273546</td><td> 390</td><td>7989</td><td>0.9038924</td><td>12</td><td>NA</td><td>NA</td><td> 297.695</td><td>-0.0011202600</td><td>NA</td><td>0.034</td><td>infill_ei </td><td>0.368</td><td>0.0044705301</td><td>0.9071595</td><td> 700</td><td>28</td></tr>\n",
              "\t<tr><td>0.01018406</td><td>0.1105011</td><td>1852</td><td>1835</td><td>0.9038835</td><td>39</td><td>NA</td><td>NA</td><td> 416.696</td><td>-0.0005582660</td><td>NA</td><td>0.079</td><td>infill_ei </td><td>0.425</td><td>0.0014534703</td><td>0.9100894</td><td> 966</td><td>55</td></tr>\n",
              "\t<tr><td>0.19040908</td><td>0.7158911</td><td> 775</td><td>7972</td><td>0.9035954</td><td> 0</td><td>NA</td><td>NA</td><td>  78.828</td><td>           NA</td><td>NA</td><td>   NA</td><td>initdesign</td><td>   NA</td><td>          NA</td><td>       NA</td><td>  38</td><td>10</td></tr>\n",
              "\t<tr><td>0.27841742</td><td>0.9612380</td><td>   8</td><td>7998</td><td>0.9034666</td><td>35</td><td>NA</td><td>NA</td><td>  66.719</td><td>-0.0003952135</td><td>NA</td><td>0.058</td><td>infill_ei </td><td>0.675</td><td>0.0063073542</td><td>0.9029076</td><td>  30</td><td>51</td></tr>\n",
              "\t<tr><td>0.15923120</td><td>0.7704516</td><td>2048</td><td>5672</td><td>0.9033531</td><td>32</td><td>NA</td><td>NA</td><td>  86.513</td><td>-0.0007174966</td><td>NA</td><td>0.036</td><td>infill_ei </td><td>0.416</td><td>0.0037220384</td><td>0.9077540</td><td>  35</td><td>48</td></tr>\n",
              "\t<tr><td>0.14776849</td><td>0.9999721</td><td> 860</td><td>5605</td><td>0.9031544</td><td>33</td><td>NA</td><td>NA</td><td>  90.109</td><td>-0.0004085007</td><td>NA</td><td>0.033</td><td>infill_ei </td><td>0.418</td><td>0.0034958733</td><td>0.9068235</td><td>  46</td><td>49</td></tr>\n",
              "\t<tr><td>0.13535113</td><td>0.9920748</td><td>1452</td><td>2334</td><td>0.9023399</td><td> 9</td><td>NA</td><td>NA</td><td> 106.838</td><td>-0.0018119746</td><td>NA</td><td>0.023</td><td>infill_ei </td><td>0.349</td><td>0.0019751349</td><td>0.9094855</td><td>  38</td><td>25</td></tr>\n",
              "\t<tr><td>0.21565557</td><td>0.6418351</td><td>1021</td><td>3683</td><td>0.9004593</td><td> 0</td><td>NA</td><td>NA</td><td>  94.483</td><td>           NA</td><td>NA</td><td>   NA</td><td>initdesign</td><td>   NA</td><td>          NA</td><td>       NA</td><td>  24</td><td> 2</td></tr>\n",
              "\t<tr><td>0.40813851</td><td>0.5742756</td><td>1993</td><td>6269</td><td>0.9003645</td><td> 0</td><td>NA</td><td>NA</td><td>  99.413</td><td>           NA</td><td>NA</td><td>   NA</td><td>initdesign</td><td>   NA</td><td>          NA</td><td>       NA</td><td>  14</td><td>12</td></tr>\n",
              "\t<tr><td>0.28001334</td><td>0.3679672</td><td>1225</td><td>1960</td><td>0.9001679</td><td> 0</td><td>NA</td><td>NA</td><td> 110.544</td><td>           NA</td><td>NA</td><td>   NA</td><td>initdesign</td><td>   NA</td><td>          NA</td><td>       NA</td><td>  17</td><td> 7</td></tr>\n",
              "\t<tr><td>0.23067207</td><td>0.4787907</td><td>1621</td><td>1303</td><td>0.9000564</td><td> 0</td><td>NA</td><td>NA</td><td> 135.678</td><td>           NA</td><td>NA</td><td>   NA</td><td>initdesign</td><td>   NA</td><td>          NA</td><td>       NA</td><td>  18</td><td> 1</td></tr>\n",
              "\t<tr><td>0.15469394</td><td>0.1191230</td><td>  20</td><td>3926</td><td>0.8999737</td><td>11</td><td>NA</td><td>NA</td><td>  96.881</td><td>-0.0016076689</td><td>NA</td><td>0.043</td><td>infill_ei </td><td>0.597</td><td>0.0047448093</td><td>0.9080932</td><td>  89</td><td>27</td></tr>\n",
              "\t<tr><td>0.31402001</td><td>0.3136672</td><td>1865</td><td>7398</td><td>0.8995267</td><td> 0</td><td>NA</td><td>NA</td><td>  91.670</td><td>           NA</td><td>NA</td><td>   NA</td><td>initdesign</td><td>   NA</td><td>          NA</td><td>       NA</td><td>  18</td><td> 6</td></tr>\n",
              "\t<tr><td>0.32644431</td><td>0.8239944</td><td> 157</td><td>4064</td><td>0.8984281</td><td> 0</td><td>NA</td><td>NA</td><td>  83.959</td><td>           NA</td><td>NA</td><td>   NA</td><td>initdesign</td><td>   NA</td><td>          NA</td><td>       NA</td><td>  11</td><td> 9</td></tr>\n",
              "\t<tr><td>0.49746457</td><td>0.3901259</td><td> 454</td><td>5573</td><td>0.8949213</td><td> 0</td><td>NA</td><td>NA</td><td>  97.160</td><td>           NA</td><td>NA</td><td>   NA</td><td>initdesign</td><td>   NA</td><td>          NA</td><td>       NA</td><td>  11</td><td>15</td></tr>\n",
              "\t<tr><td>0.07225672</td><td>0.7677021</td><td>  25</td><td>   5</td><td>0.8944578</td><td>38</td><td>NA</td><td>NA</td><td>  85.916</td><td>-0.0001548669</td><td>NA</td><td>0.038</td><td>infill_ei </td><td>0.416</td><td>0.0043362902</td><td>0.9040105</td><td>  95</td><td>54</td></tr>\n",
              "\t<tr><td>0.45121263</td><td>0.8666427</td><td>1038</td><td>2195</td><td>0.8936887</td><td> 0</td><td>NA</td><td>NA</td><td>  93.505</td><td>           NA</td><td>NA</td><td>   NA</td><td>initdesign</td><td>   NA</td><td>          NA</td><td>       NA</td><td>   7</td><td> 8</td></tr>\n",
              "\t<tr><td>0.35887292</td><td>0.9730351</td><td> 270</td><td> 760</td><td>0.8845068</td><td> 0</td><td>NA</td><td>NA</td><td> 116.778</td><td>           NA</td><td>NA</td><td>   NA</td><td>initdesign</td><td>   NA</td><td>          NA</td><td>       NA</td><td>   7</td><td> 5</td></tr>\n",
              "\t<tr><td>0.38010234</td><td>0.1985507</td><td> 612</td><td> 236</td><td>0.8690939</td><td> 0</td><td>NA</td><td>NA</td><td> 117.092</td><td>           NA</td><td>NA</td><td>   NA</td><td>initdesign</td><td>   NA</td><td>          NA</td><td>       NA</td><td>  44</td><td>13</td></tr>\n",
              "</tbody>\n",
              "</table>\n"
            ],
            "text/markdown": "\nA data.table: 56 × 18\n\n| learning_rate &lt;dbl&gt; | feature_fraction &lt;dbl&gt; | num_leaves &lt;int&gt; | min_data_in_leaf &lt;int&gt; | y &lt;dbl&gt; | dob &lt;int&gt; | eol &lt;int&gt; | error.message &lt;chr&gt; | exec.time &lt;dbl&gt; | ei &lt;dbl&gt; | error.model &lt;chr&gt; | train.time &lt;dbl&gt; | prop.type &lt;chr&gt; | propose.time &lt;dbl&gt; | se &lt;dbl&gt; | mean &lt;dbl&gt; | num_iterations &lt;int&gt; | iter &lt;int&gt; |\n|---|---|---|---|---|---|---|---|---|---|---|---|---|---|---|---|---|---|\n| 0.01002598 | 0.3260158 |  495 | 3009 | 0.9101331 | 34 | NA | NA |  367.486 | -0.0004907463 | NA | 0.041 | infill_ei  | 0.417 | 0.0005466788 | 0.9100978 |  600 | 50 |\n| 0.01004850 | 0.3399774 |  424 | 3637 | 0.9096762 | 29 | NA | NA |  393.504 | -0.0005408575 | NA | 0.055 | infill_ei  | 0.405 | 0.0017768177 | 0.9091886 |  662 | 45 |\n| 0.01017813 | 0.4096358 | 1934 | 2447 | 0.9095545 | 15 | NA | NA |  367.849 | -0.0006851308 | NA | 0.022 | infill_ei  | 0.371 | 0.0013563509 | 0.9097785 |  501 | 31 |\n| 0.01136271 | 0.2933043 | 2036 | 1903 | 0.9095113 | 14 | NA | NA |  302.697 | -0.0027563411 | NA | 0.045 | infill_ei  | 0.356 | 0.0040360644 | 0.9106248 |  437 | 30 |\n| 0.01006376 | 0.2387625 |  486 | 2387 | 0.9092872 | 21 | NA | NA |  355.963 | -0.0014145542 | NA | 0.023 | infill_ei  | 0.384 | 0.0020312794 | 0.9105660 |  643 | 37 |\n| 0.01009366 | 0.8074528 |  290 | 2598 | 0.9087233 | 26 | NA | NA |  312.579 | -0.0012325561 | NA | 0.030 | infill_ei  | 0.675 | 0.0025645455 | 0.9099492 |  530 | 42 |\n| 0.01001760 | 0.2559147 | 1291 | 3566 | 0.9086940 | 10 | NA | NA |  407.296 | -0.0025229749 | NA | 0.032 | infill_ei  | 0.371 | 0.0031572101 | 0.9099380 |  777 | 26 |\n| 0.04324767 | 0.2606199 | 1992 | 2477 | 0.9082009 | 24 | NA | NA |  172.117 | -0.0007588850 | NA | 0.032 | infill_ei  | 0.546 | 0.0022603877 | 0.9092527 |  182 | 40 |\n| 0.08510318 | 0.3326360 | 1994 | 4760 | 0.9080750 | 13 | NA | NA |  123.993 | -0.0023409636 | NA | 0.023 | infill_ei  | 0.386 | 0.0039017818 | 0.9100709 |   79 | 29 |\n| 0.01001401 | 0.9573849 |  140 | 2082 | 0.9079870 | 27 | NA | NA |  349.071 | -0.0011049952 | NA | 0.030 | infill_ei  | 0.392 | 0.0019072275 | 0.9101654 |  563 | 43 |\n| 0.07824779 | 0.1463142 | 1754 | 2827 | 0.9079124 |  0 | NA | NA |  143.672 |            NA | NA |    NA | initdesign |    NA |           NA |        NA |  181 | 11 |\n| 0.01101837 | 0.1136201 | 2048 | 3371 | 0.9075838 |  5 | NA | NA |  437.773 | -0.0017075284 | NA | 0.021 | infill_ei  | 0.336 | 0.0042717110 | 0.9079192 | 1096 | 21 |\n| 0.01035158 | 0.7707240 |    8 | 3532 | 0.9074797 |  6 | NA | NA |  395.846 | -0.0021409662 | NA | 0.047 | infill_ei  | 0.364 | 0.0033156583 | 0.9093155 | 1337 | 22 |\n| 0.08220079 | 0.7894305 | 1915 | 3316 | 0.9073222 |  7 | NA | NA |  117.184 | -0.0015116955 | NA | 0.039 | infill_ei  | 0.598 | 0.0021706820 | 0.9089934 |   84 | 23 |\n| 0.01000319 | 0.1281316 |  913 | 5556 | 0.9072780 | 30 | NA | NA |  416.994 | -0.0005527074 | NA | 0.040 | infill_ei  | 0.417 | 0.0023564493 | 0.9087616 | 1066 | 46 |\n| 0.01015081 | 0.9994132 | 1201 | 4912 | 0.9072671 |  8 | NA | NA |  286.162 | -0.0016741885 | NA | 0.034 | infill_ei  | 0.350 | 0.0037594060 | 0.9082492 |  574 | 24 |\n| 0.01087562 | 0.6382625 | 1251 | 2622 | 0.9071722 | 17 | NA | NA |  341.749 | -0.0008516123 | NA | 0.038 | infill_ei  | 0.374 | 0.0016506556 | 0.9099102 |  569 | 33 |\n| 0.14403829 | 0.7610390 | 1285 | 3465 | 0.9071585 |  0 | NA | NA |   93.910 |            NA | NA |    NA | initdesign |    NA |           NA |        NA |   34 | 16 |\n| 0.05252468 | 0.9783253 | 2007 | 2329 | 0.9068660 |  1 | NA | NA |  145.281 | -0.0061923394 | NA | 0.043 | infill_ei  | 0.360 | 0.0054895902 | 0.9136915 |  114 | 17 |\n| 0.01038579 | 0.8254673 | 1490 | 2855 | 0.9068472 |  2 | NA | NA |  304.800 | -0.0025638475 | NA | 0.024 | infill_ei  | 0.362 | 0.0033950120 | 0.9098861 |  526 | 18 |\n| 0.01001454 | 0.3358575 |    9 | 1351 | 0.9067041 | 22 | NA | NA |  494.174 | -0.0009147414 | NA | 0.050 | infill_ei  | 0.638 | 0.0037560505 | 0.9081921 | 1091 | 38 |\n| 0.08871566 | 0.3051944 | 1999 | 2447 | 0.9066045 | 19 | NA | NA |  130.369 | -0.0006629178 | NA | 0.038 | infill_ei  | 0.376 | 0.0011900989 | 0.9098927 |   73 | 35 |\n| 0.06245883 | 0.9986394 |  244 | 2918 | 0.9065355 | 37 | NA | NA |  120.332 | -0.0002738381 | NA | 0.039 | infill_ei  | 0.409 | 0.0023340331 | 0.9082338 |   85 | 53 |\n| 0.08570944 | 0.6790307 |    8 | 1982 | 0.9065319 |  4 | NA | NA |   71.414 | -0.0020617984 | NA | 0.020 | infill_ei  | 0.360 | 0.0057814438 | 0.9074054 |   75 | 20 |\n| 0.01018450 | 0.3798573 | 1783 | 4034 | 0.9063759 | 18 | NA | NA |  397.963 | -0.0004381743 | NA | 0.047 | infill_ei  | 0.392 | 0.0018087165 | 0.9088920 |  625 | 34 |\n| 0.01026735 | 0.3884355 | 2048 |    3 | 0.9060141 | 16 | NA | NA | 1408.750 | -0.0004848859 | NA | 0.022 | infill_ei  | 0.385 | 0.0038773195 | 0.9065401 | 1173 | 32 |\n| 0.03272002 | 0.8920879 |  752 | 4978 | 0.9059788 |  0 | NA | NA |  148.108 |            NA | NA |    NA | initdesign |    NA |           NA |        NA |  200 |  4 |\n| 0.01000447 | 0.2684121 | 2047 | 6561 | 0.9059394 | 25 | NA | NA |  398.706 | -0.0006502782 | NA | 0.027 | infill_ei  | 0.397 | 0.0053401030 | 0.9053217 |  804 | 41 |\n| 0.07779854 | 0.1767907 | 1166 | 4032 | 0.9058746 | 23 | NA | NA |  135.076 | -0.0012953011 | NA | 0.043 | infill_ei  | 0.658 | 0.0034476639 | 0.9093912 |  167 | 39 |\n| 0.04915386 | 0.2305182 |   61 | 6928 | 0.9058593 |  0 | NA | NA |  145.903 |            NA | NA |    NA | initdesign |    NA |           NA |        NA |  185 | 14 |\n| 0.04842380 | 0.9996379 |    8 | 6648 | 0.9056551 |  3 | NA | NA |  109.053 | -0.0024992528 | NA | 0.018 | infill_ei  | 0.351 | 0.0053127089 | 0.9086331 |  194 | 19 |\n| 0.05113617 | 0.1012481 |   17 | 3215 | 0.9056386 | 20 | NA | NA |  148.678 | -0.0008132299 | NA | 0.031 | infill_ei  | 0.369 | 0.0034785213 | 0.9081967 |  282 | 36 |\n| 0.01073196 | 0.9945349 | 2048 | 5072 | 0.9053980 | 28 | NA | NA |  278.440 | -0.0007879091 | NA | 0.065 | infill_ei  | 0.404 | 0.0031298217 | 0.9084900 |  547 | 44 |\n| 0.07202615 | 0.4696431 | 2045 | 7440 | 0.9045831 | 31 | NA | NA |  160.612 | -0.0005584681 | NA | 0.073 | infill_ei  | 0.465 | 0.0039765939 | 0.9068522 |  132 | 47 |\n| 0.07917216 | 0.1003723 | 2048 | 5880 | 0.9045292 | 40 | NA | NA |  114.008 | -0.0003798024 | NA | 0.057 | infill_ei  | 0.724 | 0.0028768590 | 0.9079863 |  168 | 56 |\n| 0.12449977 | 0.5109454 | 1483 | 5383 | 0.9044796 |  0 | NA | NA |  128.497 |            NA | NA |    NA | initdesign |    NA |           NA |        NA |   51 |  3 |\n| 0.01044873 | 0.9997456 | 2038 | 1011 | 0.9044270 | 36 | NA | NA |  305.014 | -0.0002288647 | NA | 0.039 | infill_ei  | 0.428 | 0.0030581193 | 0.9069045 |  345 | 52 |\n| 0.01001458 | 0.7273546 |  390 | 7989 | 0.9038924 | 12 | NA | NA |  297.695 | -0.0011202600 | NA | 0.034 | infill_ei  | 0.368 | 0.0044705301 | 0.9071595 |  700 | 28 |\n| 0.01018406 | 0.1105011 | 1852 | 1835 | 0.9038835 | 39 | NA | NA |  416.696 | -0.0005582660 | NA | 0.079 | infill_ei  | 0.425 | 0.0014534703 | 0.9100894 |  966 | 55 |\n| 0.19040908 | 0.7158911 |  775 | 7972 | 0.9035954 |  0 | NA | NA |   78.828 |            NA | NA |    NA | initdesign |    NA |           NA |        NA |   38 | 10 |\n| 0.27841742 | 0.9612380 |    8 | 7998 | 0.9034666 | 35 | NA | NA |   66.719 | -0.0003952135 | NA | 0.058 | infill_ei  | 0.675 | 0.0063073542 | 0.9029076 |   30 | 51 |\n| 0.15923120 | 0.7704516 | 2048 | 5672 | 0.9033531 | 32 | NA | NA |   86.513 | -0.0007174966 | NA | 0.036 | infill_ei  | 0.416 | 0.0037220384 | 0.9077540 |   35 | 48 |\n| 0.14776849 | 0.9999721 |  860 | 5605 | 0.9031544 | 33 | NA | NA |   90.109 | -0.0004085007 | NA | 0.033 | infill_ei  | 0.418 | 0.0034958733 | 0.9068235 |   46 | 49 |\n| 0.13535113 | 0.9920748 | 1452 | 2334 | 0.9023399 |  9 | NA | NA |  106.838 | -0.0018119746 | NA | 0.023 | infill_ei  | 0.349 | 0.0019751349 | 0.9094855 |   38 | 25 |\n| 0.21565557 | 0.6418351 | 1021 | 3683 | 0.9004593 |  0 | NA | NA |   94.483 |            NA | NA |    NA | initdesign |    NA |           NA |        NA |   24 |  2 |\n| 0.40813851 | 0.5742756 | 1993 | 6269 | 0.9003645 |  0 | NA | NA |   99.413 |            NA | NA |    NA | initdesign |    NA |           NA |        NA |   14 | 12 |\n| 0.28001334 | 0.3679672 | 1225 | 1960 | 0.9001679 |  0 | NA | NA |  110.544 |            NA | NA |    NA | initdesign |    NA |           NA |        NA |   17 |  7 |\n| 0.23067207 | 0.4787907 | 1621 | 1303 | 0.9000564 |  0 | NA | NA |  135.678 |            NA | NA |    NA | initdesign |    NA |           NA |        NA |   18 |  1 |\n| 0.15469394 | 0.1191230 |   20 | 3926 | 0.8999737 | 11 | NA | NA |   96.881 | -0.0016076689 | NA | 0.043 | infill_ei  | 0.597 | 0.0047448093 | 0.9080932 |   89 | 27 |\n| 0.31402001 | 0.3136672 | 1865 | 7398 | 0.8995267 |  0 | NA | NA |   91.670 |            NA | NA |    NA | initdesign |    NA |           NA |        NA |   18 |  6 |\n| 0.32644431 | 0.8239944 |  157 | 4064 | 0.8984281 |  0 | NA | NA |   83.959 |            NA | NA |    NA | initdesign |    NA |           NA |        NA |   11 |  9 |\n| 0.49746457 | 0.3901259 |  454 | 5573 | 0.8949213 |  0 | NA | NA |   97.160 |            NA | NA |    NA | initdesign |    NA |           NA |        NA |   11 | 15 |\n| 0.07225672 | 0.7677021 |   25 |    5 | 0.8944578 | 38 | NA | NA |   85.916 | -0.0001548669 | NA | 0.038 | infill_ei  | 0.416 | 0.0043362902 | 0.9040105 |   95 | 54 |\n| 0.45121263 | 0.8666427 | 1038 | 2195 | 0.8936887 |  0 | NA | NA |   93.505 |            NA | NA |    NA | initdesign |    NA |           NA |        NA |    7 |  8 |\n| 0.35887292 | 0.9730351 |  270 |  760 | 0.8845068 |  0 | NA | NA |  116.778 |            NA | NA |    NA | initdesign |    NA |           NA |        NA |    7 |  5 |\n| 0.38010234 | 0.1985507 |  612 |  236 | 0.8690939 |  0 | NA | NA |  117.092 |            NA | NA |    NA | initdesign |    NA |           NA |        NA |   44 | 13 |\n\n",
            "text/latex": "A data.table: 56 × 18\n\\begin{tabular}{llllllllllllllllll}\n learning\\_rate & feature\\_fraction & num\\_leaves & min\\_data\\_in\\_leaf & y & dob & eol & error.message & exec.time & ei & error.model & train.time & prop.type & propose.time & se & mean & num\\_iterations & iter\\\\\n <dbl> & <dbl> & <int> & <int> & <dbl> & <int> & <int> & <chr> & <dbl> & <dbl> & <chr> & <dbl> & <chr> & <dbl> & <dbl> & <dbl> & <int> & <int>\\\\\n\\hline\n\t 0.01002598 & 0.3260158 &  495 & 3009 & 0.9101331 & 34 & NA & NA &  367.486 & -0.0004907463 & NA & 0.041 & infill\\_ei  & 0.417 & 0.0005466788 & 0.9100978 &  600 & 50\\\\\n\t 0.01004850 & 0.3399774 &  424 & 3637 & 0.9096762 & 29 & NA & NA &  393.504 & -0.0005408575 & NA & 0.055 & infill\\_ei  & 0.405 & 0.0017768177 & 0.9091886 &  662 & 45\\\\\n\t 0.01017813 & 0.4096358 & 1934 & 2447 & 0.9095545 & 15 & NA & NA &  367.849 & -0.0006851308 & NA & 0.022 & infill\\_ei  & 0.371 & 0.0013563509 & 0.9097785 &  501 & 31\\\\\n\t 0.01136271 & 0.2933043 & 2036 & 1903 & 0.9095113 & 14 & NA & NA &  302.697 & -0.0027563411 & NA & 0.045 & infill\\_ei  & 0.356 & 0.0040360644 & 0.9106248 &  437 & 30\\\\\n\t 0.01006376 & 0.2387625 &  486 & 2387 & 0.9092872 & 21 & NA & NA &  355.963 & -0.0014145542 & NA & 0.023 & infill\\_ei  & 0.384 & 0.0020312794 & 0.9105660 &  643 & 37\\\\\n\t 0.01009366 & 0.8074528 &  290 & 2598 & 0.9087233 & 26 & NA & NA &  312.579 & -0.0012325561 & NA & 0.030 & infill\\_ei  & 0.675 & 0.0025645455 & 0.9099492 &  530 & 42\\\\\n\t 0.01001760 & 0.2559147 & 1291 & 3566 & 0.9086940 & 10 & NA & NA &  407.296 & -0.0025229749 & NA & 0.032 & infill\\_ei  & 0.371 & 0.0031572101 & 0.9099380 &  777 & 26\\\\\n\t 0.04324767 & 0.2606199 & 1992 & 2477 & 0.9082009 & 24 & NA & NA &  172.117 & -0.0007588850 & NA & 0.032 & infill\\_ei  & 0.546 & 0.0022603877 & 0.9092527 &  182 & 40\\\\\n\t 0.08510318 & 0.3326360 & 1994 & 4760 & 0.9080750 & 13 & NA & NA &  123.993 & -0.0023409636 & NA & 0.023 & infill\\_ei  & 0.386 & 0.0039017818 & 0.9100709 &   79 & 29\\\\\n\t 0.01001401 & 0.9573849 &  140 & 2082 & 0.9079870 & 27 & NA & NA &  349.071 & -0.0011049952 & NA & 0.030 & infill\\_ei  & 0.392 & 0.0019072275 & 0.9101654 &  563 & 43\\\\\n\t 0.07824779 & 0.1463142 & 1754 & 2827 & 0.9079124 &  0 & NA & NA &  143.672 &            NA & NA &    NA & initdesign &    NA &           NA &        NA &  181 & 11\\\\\n\t 0.01101837 & 0.1136201 & 2048 & 3371 & 0.9075838 &  5 & NA & NA &  437.773 & -0.0017075284 & NA & 0.021 & infill\\_ei  & 0.336 & 0.0042717110 & 0.9079192 & 1096 & 21\\\\\n\t 0.01035158 & 0.7707240 &    8 & 3532 & 0.9074797 &  6 & NA & NA &  395.846 & -0.0021409662 & NA & 0.047 & infill\\_ei  & 0.364 & 0.0033156583 & 0.9093155 & 1337 & 22\\\\\n\t 0.08220079 & 0.7894305 & 1915 & 3316 & 0.9073222 &  7 & NA & NA &  117.184 & -0.0015116955 & NA & 0.039 & infill\\_ei  & 0.598 & 0.0021706820 & 0.9089934 &   84 & 23\\\\\n\t 0.01000319 & 0.1281316 &  913 & 5556 & 0.9072780 & 30 & NA & NA &  416.994 & -0.0005527074 & NA & 0.040 & infill\\_ei  & 0.417 & 0.0023564493 & 0.9087616 & 1066 & 46\\\\\n\t 0.01015081 & 0.9994132 & 1201 & 4912 & 0.9072671 &  8 & NA & NA &  286.162 & -0.0016741885 & NA & 0.034 & infill\\_ei  & 0.350 & 0.0037594060 & 0.9082492 &  574 & 24\\\\\n\t 0.01087562 & 0.6382625 & 1251 & 2622 & 0.9071722 & 17 & NA & NA &  341.749 & -0.0008516123 & NA & 0.038 & infill\\_ei  & 0.374 & 0.0016506556 & 0.9099102 &  569 & 33\\\\\n\t 0.14403829 & 0.7610390 & 1285 & 3465 & 0.9071585 &  0 & NA & NA &   93.910 &            NA & NA &    NA & initdesign &    NA &           NA &        NA &   34 & 16\\\\\n\t 0.05252468 & 0.9783253 & 2007 & 2329 & 0.9068660 &  1 & NA & NA &  145.281 & -0.0061923394 & NA & 0.043 & infill\\_ei  & 0.360 & 0.0054895902 & 0.9136915 &  114 & 17\\\\\n\t 0.01038579 & 0.8254673 & 1490 & 2855 & 0.9068472 &  2 & NA & NA &  304.800 & -0.0025638475 & NA & 0.024 & infill\\_ei  & 0.362 & 0.0033950120 & 0.9098861 &  526 & 18\\\\\n\t 0.01001454 & 0.3358575 &    9 & 1351 & 0.9067041 & 22 & NA & NA &  494.174 & -0.0009147414 & NA & 0.050 & infill\\_ei  & 0.638 & 0.0037560505 & 0.9081921 & 1091 & 38\\\\\n\t 0.08871566 & 0.3051944 & 1999 & 2447 & 0.9066045 & 19 & NA & NA &  130.369 & -0.0006629178 & NA & 0.038 & infill\\_ei  & 0.376 & 0.0011900989 & 0.9098927 &   73 & 35\\\\\n\t 0.06245883 & 0.9986394 &  244 & 2918 & 0.9065355 & 37 & NA & NA &  120.332 & -0.0002738381 & NA & 0.039 & infill\\_ei  & 0.409 & 0.0023340331 & 0.9082338 &   85 & 53\\\\\n\t 0.08570944 & 0.6790307 &    8 & 1982 & 0.9065319 &  4 & NA & NA &   71.414 & -0.0020617984 & NA & 0.020 & infill\\_ei  & 0.360 & 0.0057814438 & 0.9074054 &   75 & 20\\\\\n\t 0.01018450 & 0.3798573 & 1783 & 4034 & 0.9063759 & 18 & NA & NA &  397.963 & -0.0004381743 & NA & 0.047 & infill\\_ei  & 0.392 & 0.0018087165 & 0.9088920 &  625 & 34\\\\\n\t 0.01026735 & 0.3884355 & 2048 &    3 & 0.9060141 & 16 & NA & NA & 1408.750 & -0.0004848859 & NA & 0.022 & infill\\_ei  & 0.385 & 0.0038773195 & 0.9065401 & 1173 & 32\\\\\n\t 0.03272002 & 0.8920879 &  752 & 4978 & 0.9059788 &  0 & NA & NA &  148.108 &            NA & NA &    NA & initdesign &    NA &           NA &        NA &  200 &  4\\\\\n\t 0.01000447 & 0.2684121 & 2047 & 6561 & 0.9059394 & 25 & NA & NA &  398.706 & -0.0006502782 & NA & 0.027 & infill\\_ei  & 0.397 & 0.0053401030 & 0.9053217 &  804 & 41\\\\\n\t 0.07779854 & 0.1767907 & 1166 & 4032 & 0.9058746 & 23 & NA & NA &  135.076 & -0.0012953011 & NA & 0.043 & infill\\_ei  & 0.658 & 0.0034476639 & 0.9093912 &  167 & 39\\\\\n\t 0.04915386 & 0.2305182 &   61 & 6928 & 0.9058593 &  0 & NA & NA &  145.903 &            NA & NA &    NA & initdesign &    NA &           NA &        NA &  185 & 14\\\\\n\t 0.04842380 & 0.9996379 &    8 & 6648 & 0.9056551 &  3 & NA & NA &  109.053 & -0.0024992528 & NA & 0.018 & infill\\_ei  & 0.351 & 0.0053127089 & 0.9086331 &  194 & 19\\\\\n\t 0.05113617 & 0.1012481 &   17 & 3215 & 0.9056386 & 20 & NA & NA &  148.678 & -0.0008132299 & NA & 0.031 & infill\\_ei  & 0.369 & 0.0034785213 & 0.9081967 &  282 & 36\\\\\n\t 0.01073196 & 0.9945349 & 2048 & 5072 & 0.9053980 & 28 & NA & NA &  278.440 & -0.0007879091 & NA & 0.065 & infill\\_ei  & 0.404 & 0.0031298217 & 0.9084900 &  547 & 44\\\\\n\t 0.07202615 & 0.4696431 & 2045 & 7440 & 0.9045831 & 31 & NA & NA &  160.612 & -0.0005584681 & NA & 0.073 & infill\\_ei  & 0.465 & 0.0039765939 & 0.9068522 &  132 & 47\\\\\n\t 0.07917216 & 0.1003723 & 2048 & 5880 & 0.9045292 & 40 & NA & NA &  114.008 & -0.0003798024 & NA & 0.057 & infill\\_ei  & 0.724 & 0.0028768590 & 0.9079863 &  168 & 56\\\\\n\t 0.12449977 & 0.5109454 & 1483 & 5383 & 0.9044796 &  0 & NA & NA &  128.497 &            NA & NA &    NA & initdesign &    NA &           NA &        NA &   51 &  3\\\\\n\t 0.01044873 & 0.9997456 & 2038 & 1011 & 0.9044270 & 36 & NA & NA &  305.014 & -0.0002288647 & NA & 0.039 & infill\\_ei  & 0.428 & 0.0030581193 & 0.9069045 &  345 & 52\\\\\n\t 0.01001458 & 0.7273546 &  390 & 7989 & 0.9038924 & 12 & NA & NA &  297.695 & -0.0011202600 & NA & 0.034 & infill\\_ei  & 0.368 & 0.0044705301 & 0.9071595 &  700 & 28\\\\\n\t 0.01018406 & 0.1105011 & 1852 & 1835 & 0.9038835 & 39 & NA & NA &  416.696 & -0.0005582660 & NA & 0.079 & infill\\_ei  & 0.425 & 0.0014534703 & 0.9100894 &  966 & 55\\\\\n\t 0.19040908 & 0.7158911 &  775 & 7972 & 0.9035954 &  0 & NA & NA &   78.828 &            NA & NA &    NA & initdesign &    NA &           NA &        NA &   38 & 10\\\\\n\t 0.27841742 & 0.9612380 &    8 & 7998 & 0.9034666 & 35 & NA & NA &   66.719 & -0.0003952135 & NA & 0.058 & infill\\_ei  & 0.675 & 0.0063073542 & 0.9029076 &   30 & 51\\\\\n\t 0.15923120 & 0.7704516 & 2048 & 5672 & 0.9033531 & 32 & NA & NA &   86.513 & -0.0007174966 & NA & 0.036 & infill\\_ei  & 0.416 & 0.0037220384 & 0.9077540 &   35 & 48\\\\\n\t 0.14776849 & 0.9999721 &  860 & 5605 & 0.9031544 & 33 & NA & NA &   90.109 & -0.0004085007 & NA & 0.033 & infill\\_ei  & 0.418 & 0.0034958733 & 0.9068235 &   46 & 49\\\\\n\t 0.13535113 & 0.9920748 & 1452 & 2334 & 0.9023399 &  9 & NA & NA &  106.838 & -0.0018119746 & NA & 0.023 & infill\\_ei  & 0.349 & 0.0019751349 & 0.9094855 &   38 & 25\\\\\n\t 0.21565557 & 0.6418351 & 1021 & 3683 & 0.9004593 &  0 & NA & NA &   94.483 &            NA & NA &    NA & initdesign &    NA &           NA &        NA &   24 &  2\\\\\n\t 0.40813851 & 0.5742756 & 1993 & 6269 & 0.9003645 &  0 & NA & NA &   99.413 &            NA & NA &    NA & initdesign &    NA &           NA &        NA &   14 & 12\\\\\n\t 0.28001334 & 0.3679672 & 1225 & 1960 & 0.9001679 &  0 & NA & NA &  110.544 &            NA & NA &    NA & initdesign &    NA &           NA &        NA &   17 &  7\\\\\n\t 0.23067207 & 0.4787907 & 1621 & 1303 & 0.9000564 &  0 & NA & NA &  135.678 &            NA & NA &    NA & initdesign &    NA &           NA &        NA &   18 &  1\\\\\n\t 0.15469394 & 0.1191230 &   20 & 3926 & 0.8999737 & 11 & NA & NA &   96.881 & -0.0016076689 & NA & 0.043 & infill\\_ei  & 0.597 & 0.0047448093 & 0.9080932 &   89 & 27\\\\\n\t 0.31402001 & 0.3136672 & 1865 & 7398 & 0.8995267 &  0 & NA & NA &   91.670 &            NA & NA &    NA & initdesign &    NA &           NA &        NA &   18 &  6\\\\\n\t 0.32644431 & 0.8239944 &  157 & 4064 & 0.8984281 &  0 & NA & NA &   83.959 &            NA & NA &    NA & initdesign &    NA &           NA &        NA &   11 &  9\\\\\n\t 0.49746457 & 0.3901259 &  454 & 5573 & 0.8949213 &  0 & NA & NA &   97.160 &            NA & NA &    NA & initdesign &    NA &           NA &        NA &   11 & 15\\\\\n\t 0.07225672 & 0.7677021 &   25 &    5 & 0.8944578 & 38 & NA & NA &   85.916 & -0.0001548669 & NA & 0.038 & infill\\_ei  & 0.416 & 0.0043362902 & 0.9040105 &   95 & 54\\\\\n\t 0.45121263 & 0.8666427 & 1038 & 2195 & 0.8936887 &  0 & NA & NA &   93.505 &            NA & NA &    NA & initdesign &    NA &           NA &        NA &    7 &  8\\\\\n\t 0.35887292 & 0.9730351 &  270 &  760 & 0.8845068 &  0 & NA & NA &  116.778 &            NA & NA &    NA & initdesign &    NA &           NA &        NA &    7 &  5\\\\\n\t 0.38010234 & 0.1985507 &  612 &  236 & 0.8690939 &  0 & NA & NA &  117.092 &            NA & NA &    NA & initdesign &    NA &           NA &        NA &   44 & 13\\\\\n\\end{tabular}\n",
            "text/plain": [
              "   learning_rate feature_fraction num_leaves min_data_in_leaf y         dob eol\n",
              "1  0.01002598    0.3260158         495       3009             0.9101331 34  NA \n",
              "2  0.01004850    0.3399774         424       3637             0.9096762 29  NA \n",
              "3  0.01017813    0.4096358        1934       2447             0.9095545 15  NA \n",
              "4  0.01136271    0.2933043        2036       1903             0.9095113 14  NA \n",
              "5  0.01006376    0.2387625         486       2387             0.9092872 21  NA \n",
              "6  0.01009366    0.8074528         290       2598             0.9087233 26  NA \n",
              "7  0.01001760    0.2559147        1291       3566             0.9086940 10  NA \n",
              "8  0.04324767    0.2606199        1992       2477             0.9082009 24  NA \n",
              "9  0.08510318    0.3326360        1994       4760             0.9080750 13  NA \n",
              "10 0.01001401    0.9573849         140       2082             0.9079870 27  NA \n",
              "11 0.07824779    0.1463142        1754       2827             0.9079124  0  NA \n",
              "12 0.01101837    0.1136201        2048       3371             0.9075838  5  NA \n",
              "13 0.01035158    0.7707240           8       3532             0.9074797  6  NA \n",
              "14 0.08220079    0.7894305        1915       3316             0.9073222  7  NA \n",
              "15 0.01000319    0.1281316         913       5556             0.9072780 30  NA \n",
              "16 0.01015081    0.9994132        1201       4912             0.9072671  8  NA \n",
              "17 0.01087562    0.6382625        1251       2622             0.9071722 17  NA \n",
              "18 0.14403829    0.7610390        1285       3465             0.9071585  0  NA \n",
              "19 0.05252468    0.9783253        2007       2329             0.9068660  1  NA \n",
              "20 0.01038579    0.8254673        1490       2855             0.9068472  2  NA \n",
              "21 0.01001454    0.3358575           9       1351             0.9067041 22  NA \n",
              "22 0.08871566    0.3051944        1999       2447             0.9066045 19  NA \n",
              "23 0.06245883    0.9986394         244       2918             0.9065355 37  NA \n",
              "24 0.08570944    0.6790307           8       1982             0.9065319  4  NA \n",
              "25 0.01018450    0.3798573        1783       4034             0.9063759 18  NA \n",
              "26 0.01026735    0.3884355        2048          3             0.9060141 16  NA \n",
              "27 0.03272002    0.8920879         752       4978             0.9059788  0  NA \n",
              "28 0.01000447    0.2684121        2047       6561             0.9059394 25  NA \n",
              "29 0.07779854    0.1767907        1166       4032             0.9058746 23  NA \n",
              "30 0.04915386    0.2305182          61       6928             0.9058593  0  NA \n",
              "31 0.04842380    0.9996379           8       6648             0.9056551  3  NA \n",
              "32 0.05113617    0.1012481          17       3215             0.9056386 20  NA \n",
              "33 0.01073196    0.9945349        2048       5072             0.9053980 28  NA \n",
              "34 0.07202615    0.4696431        2045       7440             0.9045831 31  NA \n",
              "35 0.07917216    0.1003723        2048       5880             0.9045292 40  NA \n",
              "36 0.12449977    0.5109454        1483       5383             0.9044796  0  NA \n",
              "37 0.01044873    0.9997456        2038       1011             0.9044270 36  NA \n",
              "38 0.01001458    0.7273546         390       7989             0.9038924 12  NA \n",
              "39 0.01018406    0.1105011        1852       1835             0.9038835 39  NA \n",
              "40 0.19040908    0.7158911         775       7972             0.9035954  0  NA \n",
              "41 0.27841742    0.9612380           8       7998             0.9034666 35  NA \n",
              "42 0.15923120    0.7704516        2048       5672             0.9033531 32  NA \n",
              "43 0.14776849    0.9999721         860       5605             0.9031544 33  NA \n",
              "44 0.13535113    0.9920748        1452       2334             0.9023399  9  NA \n",
              "45 0.21565557    0.6418351        1021       3683             0.9004593  0  NA \n",
              "46 0.40813851    0.5742756        1993       6269             0.9003645  0  NA \n",
              "47 0.28001334    0.3679672        1225       1960             0.9001679  0  NA \n",
              "48 0.23067207    0.4787907        1621       1303             0.9000564  0  NA \n",
              "49 0.15469394    0.1191230          20       3926             0.8999737 11  NA \n",
              "50 0.31402001    0.3136672        1865       7398             0.8995267  0  NA \n",
              "51 0.32644431    0.8239944         157       4064             0.8984281  0  NA \n",
              "52 0.49746457    0.3901259         454       5573             0.8949213  0  NA \n",
              "53 0.07225672    0.7677021          25          5             0.8944578 38  NA \n",
              "54 0.45121263    0.8666427        1038       2195             0.8936887  0  NA \n",
              "55 0.35887292    0.9730351         270        760             0.8845068  0  NA \n",
              "56 0.38010234    0.1985507         612        236             0.8690939  0  NA \n",
              "   error.message exec.time ei            error.model train.time prop.type \n",
              "1  NA             367.486  -0.0004907463 NA          0.041      infill_ei \n",
              "2  NA             393.504  -0.0005408575 NA          0.055      infill_ei \n",
              "3  NA             367.849  -0.0006851308 NA          0.022      infill_ei \n",
              "4  NA             302.697  -0.0027563411 NA          0.045      infill_ei \n",
              "5  NA             355.963  -0.0014145542 NA          0.023      infill_ei \n",
              "6  NA             312.579  -0.0012325561 NA          0.030      infill_ei \n",
              "7  NA             407.296  -0.0025229749 NA          0.032      infill_ei \n",
              "8  NA             172.117  -0.0007588850 NA          0.032      infill_ei \n",
              "9  NA             123.993  -0.0023409636 NA          0.023      infill_ei \n",
              "10 NA             349.071  -0.0011049952 NA          0.030      infill_ei \n",
              "11 NA             143.672             NA NA             NA      initdesign\n",
              "12 NA             437.773  -0.0017075284 NA          0.021      infill_ei \n",
              "13 NA             395.846  -0.0021409662 NA          0.047      infill_ei \n",
              "14 NA             117.184  -0.0015116955 NA          0.039      infill_ei \n",
              "15 NA             416.994  -0.0005527074 NA          0.040      infill_ei \n",
              "16 NA             286.162  -0.0016741885 NA          0.034      infill_ei \n",
              "17 NA             341.749  -0.0008516123 NA          0.038      infill_ei \n",
              "18 NA              93.910             NA NA             NA      initdesign\n",
              "19 NA             145.281  -0.0061923394 NA          0.043      infill_ei \n",
              "20 NA             304.800  -0.0025638475 NA          0.024      infill_ei \n",
              "21 NA             494.174  -0.0009147414 NA          0.050      infill_ei \n",
              "22 NA             130.369  -0.0006629178 NA          0.038      infill_ei \n",
              "23 NA             120.332  -0.0002738381 NA          0.039      infill_ei \n",
              "24 NA              71.414  -0.0020617984 NA          0.020      infill_ei \n",
              "25 NA             397.963  -0.0004381743 NA          0.047      infill_ei \n",
              "26 NA            1408.750  -0.0004848859 NA          0.022      infill_ei \n",
              "27 NA             148.108             NA NA             NA      initdesign\n",
              "28 NA             398.706  -0.0006502782 NA          0.027      infill_ei \n",
              "29 NA             135.076  -0.0012953011 NA          0.043      infill_ei \n",
              "30 NA             145.903             NA NA             NA      initdesign\n",
              "31 NA             109.053  -0.0024992528 NA          0.018      infill_ei \n",
              "32 NA             148.678  -0.0008132299 NA          0.031      infill_ei \n",
              "33 NA             278.440  -0.0007879091 NA          0.065      infill_ei \n",
              "34 NA             160.612  -0.0005584681 NA          0.073      infill_ei \n",
              "35 NA             114.008  -0.0003798024 NA          0.057      infill_ei \n",
              "36 NA             128.497             NA NA             NA      initdesign\n",
              "37 NA             305.014  -0.0002288647 NA          0.039      infill_ei \n",
              "38 NA             297.695  -0.0011202600 NA          0.034      infill_ei \n",
              "39 NA             416.696  -0.0005582660 NA          0.079      infill_ei \n",
              "40 NA              78.828             NA NA             NA      initdesign\n",
              "41 NA              66.719  -0.0003952135 NA          0.058      infill_ei \n",
              "42 NA              86.513  -0.0007174966 NA          0.036      infill_ei \n",
              "43 NA              90.109  -0.0004085007 NA          0.033      infill_ei \n",
              "44 NA             106.838  -0.0018119746 NA          0.023      infill_ei \n",
              "45 NA              94.483             NA NA             NA      initdesign\n",
              "46 NA              99.413             NA NA             NA      initdesign\n",
              "47 NA             110.544             NA NA             NA      initdesign\n",
              "48 NA             135.678             NA NA             NA      initdesign\n",
              "49 NA              96.881  -0.0016076689 NA          0.043      infill_ei \n",
              "50 NA              91.670             NA NA             NA      initdesign\n",
              "51 NA              83.959             NA NA             NA      initdesign\n",
              "52 NA              97.160             NA NA             NA      initdesign\n",
              "53 NA              85.916  -0.0001548669 NA          0.038      infill_ei \n",
              "54 NA              93.505             NA NA             NA      initdesign\n",
              "55 NA             116.778             NA NA             NA      initdesign\n",
              "56 NA             117.092             NA NA             NA      initdesign\n",
              "   propose.time se           mean      num_iterations iter\n",
              "1  0.417        0.0005466788 0.9100978  600           50  \n",
              "2  0.405        0.0017768177 0.9091886  662           45  \n",
              "3  0.371        0.0013563509 0.9097785  501           31  \n",
              "4  0.356        0.0040360644 0.9106248  437           30  \n",
              "5  0.384        0.0020312794 0.9105660  643           37  \n",
              "6  0.675        0.0025645455 0.9099492  530           42  \n",
              "7  0.371        0.0031572101 0.9099380  777           26  \n",
              "8  0.546        0.0022603877 0.9092527  182           40  \n",
              "9  0.386        0.0039017818 0.9100709   79           29  \n",
              "10 0.392        0.0019072275 0.9101654  563           43  \n",
              "11    NA                  NA        NA  181           11  \n",
              "12 0.336        0.0042717110 0.9079192 1096           21  \n",
              "13 0.364        0.0033156583 0.9093155 1337           22  \n",
              "14 0.598        0.0021706820 0.9089934   84           23  \n",
              "15 0.417        0.0023564493 0.9087616 1066           46  \n",
              "16 0.350        0.0037594060 0.9082492  574           24  \n",
              "17 0.374        0.0016506556 0.9099102  569           33  \n",
              "18    NA                  NA        NA   34           16  \n",
              "19 0.360        0.0054895902 0.9136915  114           17  \n",
              "20 0.362        0.0033950120 0.9098861  526           18  \n",
              "21 0.638        0.0037560505 0.9081921 1091           38  \n",
              "22 0.376        0.0011900989 0.9098927   73           35  \n",
              "23 0.409        0.0023340331 0.9082338   85           53  \n",
              "24 0.360        0.0057814438 0.9074054   75           20  \n",
              "25 0.392        0.0018087165 0.9088920  625           34  \n",
              "26 0.385        0.0038773195 0.9065401 1173           32  \n",
              "27    NA                  NA        NA  200            4  \n",
              "28 0.397        0.0053401030 0.9053217  804           41  \n",
              "29 0.658        0.0034476639 0.9093912  167           39  \n",
              "30    NA                  NA        NA  185           14  \n",
              "31 0.351        0.0053127089 0.9086331  194           19  \n",
              "32 0.369        0.0034785213 0.9081967  282           36  \n",
              "33 0.404        0.0031298217 0.9084900  547           44  \n",
              "34 0.465        0.0039765939 0.9068522  132           47  \n",
              "35 0.724        0.0028768590 0.9079863  168           56  \n",
              "36    NA                  NA        NA   51            3  \n",
              "37 0.428        0.0030581193 0.9069045  345           52  \n",
              "38 0.368        0.0044705301 0.9071595  700           28  \n",
              "39 0.425        0.0014534703 0.9100894  966           55  \n",
              "40    NA                  NA        NA   38           10  \n",
              "41 0.675        0.0063073542 0.9029076   30           51  \n",
              "42 0.416        0.0037220384 0.9077540   35           48  \n",
              "43 0.418        0.0034958733 0.9068235   46           49  \n",
              "44 0.349        0.0019751349 0.9094855   38           25  \n",
              "45    NA                  NA        NA   24            2  \n",
              "46    NA                  NA        NA   14           12  \n",
              "47    NA                  NA        NA   17            7  \n",
              "48    NA                  NA        NA   18            1  \n",
              "49 0.597        0.0047448093 0.9080932   89           27  \n",
              "50    NA                  NA        NA   18            6  \n",
              "51    NA                  NA        NA   11            9  \n",
              "52    NA                  NA        NA   11           15  \n",
              "53 0.416        0.0043362902 0.9040105   95           54  \n",
              "54    NA                  NA        NA    7            8  \n",
              "55    NA                  NA        NA    7            5  \n",
              "56    NA                  NA        NA   44           13  "
            ]
          },
          "metadata": {}
        }
      ]
    },
    {
      "cell_type": "code",
      "source": [
        "format(Sys.time(), \"%a %b %d %X %Y\")"
      ],
      "metadata": {
        "id": "5dPpsZpcX6e8",
        "colab": {
          "base_uri": "https://localhost:8080/",
          "height": 34
        },
        "outputId": "2310a967-a20b-4da8-ca09-86c3831b72a2"
      },
      "execution_count": 59,
      "outputs": [
        {
          "output_type": "display_data",
          "data": {
            "text/html": [
              "'Sun Sep 07 03:34:23 AM 2025'"
            ],
            "text/markdown": "'Sun Sep 07 03:34:23 AM 2025'",
            "text/latex": "'Sun Sep 07 03:34:23 AM 2025'",
            "text/plain": [
              "[1] \"Sun Sep 07 03:34:23 AM 2025\""
            ]
          },
          "metadata": {}
        }
      ]
    },
    {
      "cell_type": "markdown",
      "source": [
        "Una vez que se impriman los mejores hiperparametros proceder:\n",
        "\n",
        "\n",
        "1.   Copielos en el punto 4.07  en la celda donde se define PARAM\n",
        "2.   Ejecute el punto 4.07 con estos hiperparámetros optimos\n",
        "2.   Reporte el resultado en la hoja  **C4-LGBM Bayesiana**  de la  planilla colaborativa\n"
      ],
      "metadata": {
        "id": "4jNiBItqlK79"
      }
    },
    {
      "cell_type": "markdown",
      "metadata": {
        "id": "0vu-1vf5LrVg"
      },
      "source": [
        "\n",
        "\n",
        "---\n",
        "\n"
      ]
    }
  ]
}